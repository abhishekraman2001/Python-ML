{
 "cells": [
  {
   "cell_type": "code",
   "execution_count": 2,
   "metadata": {},
   "outputs": [
    {
     "name": "stdout",
     "output_type": "stream",
     "text": [
      "Requirement already satisfied: cryptography in c:\\users\\abhis\\anaconda3\\lib\\site-packages (2.9.2)\n",
      "Requirement already satisfied: six>=1.4.1 in c:\\users\\abhis\\anaconda3\\lib\\site-packages (from cryptography) (1.15.0)\n",
      "Requirement already satisfied: cffi!=1.11.3,>=1.8 in c:\\users\\abhis\\anaconda3\\lib\\site-packages (from cryptography) (1.14.0)\n",
      "Requirement already satisfied: pycparser in c:\\users\\abhis\\anaconda3\\lib\\site-packages (from cffi!=1.11.3,>=1.8->cryptography) (2.20)\n",
      "Note: you may need to restart the kernel to use updated packages.\n"
     ]
    }
   ],
   "source": [
    "pip install cryptography"
   ]
  },
  {
   "cell_type": "code",
   "execution_count": 58,
   "metadata": {},
   "outputs": [
    {
     "name": "stdin",
     "output_type": "stream",
     "text": [
      "Input a string Abhishe@1234\n"
     ]
    },
    {
     "name": "stdout",
     "output_type": "stream",
     "text": [
      "Letters 7\n",
      "Digits 4\n",
      "Abhishe@1234\n",
      "12\n",
      "Letters l 7\n",
      "Digits d 4\n",
      "input string: Abhishe@1234\n",
      "key: b'qBLLbjK4wIVm9ym6GxpTBY_YeukZqBxijB2QKhaOGJg=', type: <class 'bytes'>\n",
      "encrypted: b'gAAAAABfd50KghH60csj1O6Su8LZEzFmvVuXGwQe_0Sqo_S1Kpmkjm9W7T0BXtLfKNXvb3sSYkFi-Tf-f1PKdyOnbUS9Nfh6tw=='\n",
      "decrypted: Abhishe@1234\n"
     ]
    }
   ],
   "source": [
    "\n",
    "RefID = input(\"Input a string\")\n",
    "d=l=0\n",
    "\n",
    "\n",
    "for chr in RefID:\n",
    "    if chr.isdigit():\n",
    "        d=d+1\n",
    "    elif chr.isalpha():\n",
    "        l=l+1\n",
    "    else:\n",
    "        pass\n",
    "print(\"Letters\", l)\n",
    "print(\"Digits\", d)  \n",
    "print(RefID)\n",
    "print(len(RefID))\n",
    "if len(RefID) == 12 and d > 0 and l > 0:\n",
    "    \n",
    "    print(\"Letters l\", l)\n",
    "    print(\"Digits d\", d)\n",
    "    \n",
    "    key=Fernet.generate_key()\n",
    "   \n",
    "    print('input string: {0}'.format(RefID))\n",
    "    #key=base64.b64encode(key) #no need to do this\n",
    "    print('key: {0}, type: {1}'.format(key, type(key)))\n",
    "    f=Fernet(key)\n",
    "    token = f.encrypt(RefID.encode('utf-8')) #need to convert the string to bytes\n",
    "    print ('encrypted: {0}'.format(token))\n",
    "    output = f.decrypt(token)\n",
    "    output_decoded = output.decode('utf-8')\n",
    "    print ('decrypted: {0}'.format(output_decoded))\n",
    "else:\n",
    "    print(\"Please provide the 12 digit ref id with number and characters\")\n",
    "    pass\n",
    "\n"
   ]
  },
  {
   "cell_type": "markdown",
   "metadata": {},
   "source": []
  },
  {
   "cell_type": "code",
   "execution_count": null,
   "metadata": {},
   "outputs": [],
   "source": []
  }
 ],
 "metadata": {
  "kernelspec": {
   "display_name": "Python 3",
   "language": "python",
   "name": "python3"
  },
  "language_info": {
   "codemirror_mode": {
    "name": "ipython",
    "version": 3
   },
   "file_extension": ".py",
   "mimetype": "text/x-python",
   "name": "python",
   "nbconvert_exporter": "python",
   "pygments_lexer": "ipython3",
   "version": "3.8.3"
  }
 },
 "nbformat": 4,
 "nbformat_minor": 4
}
