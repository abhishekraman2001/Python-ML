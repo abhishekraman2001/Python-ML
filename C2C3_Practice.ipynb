{
 "cells": [
  {
   "cell_type": "code",
   "execution_count": 1,
   "metadata": {},
   "outputs": [],
   "source": [
    "stu = {'sid' :[1,2,3,4,5],\n",
    "      'sname' : ['Abi','sak','anu','sahaj','babu'],\n",
    "      'region' : ['n','s','e','w','g'],\n",
    "      'marks' : [10,20,30,40,50]}"
   ]
  },
  {
   "cell_type": "code",
   "execution_count": 2,
   "metadata": {},
   "outputs": [
    {
     "data": {
      "text/plain": [
       "{'sid': [1, 2, 3, 4, 5],\n",
       " 'sname': ['Abi', 'sak', 'anu', 'sahaj', 'babu'],\n",
       " 'region': ['n', 's', 'e', 'w', 'g'],\n",
       " 'marks': [10, 20, 30, 40, 50]}"
      ]
     },
     "execution_count": 2,
     "metadata": {},
     "output_type": "execute_result"
    }
   ],
   "source": [
    "stu"
   ]
  },
  {
   "cell_type": "code",
   "execution_count": 3,
   "metadata": {
    "scrolled": true
   },
   "outputs": [
    {
     "data": {
      "text/html": [
       "<div>\n",
       "<style scoped>\n",
       "    .dataframe tbody tr th:only-of-type {\n",
       "        vertical-align: middle;\n",
       "    }\n",
       "\n",
       "    .dataframe tbody tr th {\n",
       "        vertical-align: top;\n",
       "    }\n",
       "\n",
       "    .dataframe thead th {\n",
       "        text-align: right;\n",
       "    }\n",
       "</style>\n",
       "<table border=\"1\" class=\"dataframe\">\n",
       "  <thead>\n",
       "    <tr style=\"text-align: right;\">\n",
       "      <th></th>\n",
       "      <th>sid</th>\n",
       "      <th>sname</th>\n",
       "      <th>region</th>\n",
       "      <th>marks</th>\n",
       "    </tr>\n",
       "  </thead>\n",
       "  <tbody>\n",
       "    <tr>\n",
       "      <th>0</th>\n",
       "      <td>1</td>\n",
       "      <td>Abi</td>\n",
       "      <td>n</td>\n",
       "      <td>10</td>\n",
       "    </tr>\n",
       "    <tr>\n",
       "      <th>1</th>\n",
       "      <td>2</td>\n",
       "      <td>sak</td>\n",
       "      <td>s</td>\n",
       "      <td>20</td>\n",
       "    </tr>\n",
       "    <tr>\n",
       "      <th>2</th>\n",
       "      <td>3</td>\n",
       "      <td>anu</td>\n",
       "      <td>e</td>\n",
       "      <td>30</td>\n",
       "    </tr>\n",
       "    <tr>\n",
       "      <th>3</th>\n",
       "      <td>4</td>\n",
       "      <td>sahaj</td>\n",
       "      <td>w</td>\n",
       "      <td>40</td>\n",
       "    </tr>\n",
       "    <tr>\n",
       "      <th>4</th>\n",
       "      <td>5</td>\n",
       "      <td>babu</td>\n",
       "      <td>g</td>\n",
       "      <td>50</td>\n",
       "    </tr>\n",
       "  </tbody>\n",
       "</table>\n",
       "</div>"
      ],
      "text/plain": [
       "   sid  sname region  marks\n",
       "0    1    Abi      n     10\n",
       "1    2    sak      s     20\n",
       "2    3    anu      e     30\n",
       "3    4  sahaj      w     40\n",
       "4    5   babu      g     50"
      ]
     },
     "execution_count": 3,
     "metadata": {},
     "output_type": "execute_result"
    }
   ],
   "source": [
    "import pandas as pd\n",
    "pd.DataFrame(stu)"
   ]
  },
  {
   "cell_type": "code",
   "execution_count": 4,
   "metadata": {},
   "outputs": [
    {
     "ename": "NameError",
     "evalue": "name 're' is not defined",
     "output_type": "error",
     "traceback": [
      "\u001b[1;31m---------------------------------------------------------------------------\u001b[0m",
      "\u001b[1;31mNameError\u001b[0m                                 Traceback (most recent call last)",
      "\u001b[1;32m<ipython-input-4-2ee4c2c73c98>\u001b[0m in \u001b[0;36m<module>\u001b[1;34m\u001b[0m\n\u001b[1;32m----> 1\u001b[1;33m \u001b[0mmatch\u001b[0m \u001b[1;33m=\u001b[0m \u001b[0mre\u001b[0m\u001b[1;33m.\u001b[0m\u001b[0mfinditer\u001b[0m\u001b[1;33m(\u001b[0m\u001b[1;34m'\\d'\u001b[0m\u001b[1;33m,\u001b[0m \u001b[1;34m'A7 b@kc 9zx'\u001b[0m\u001b[1;33m)\u001b[0m\u001b[1;33m\u001b[0m\u001b[1;33m\u001b[0m\u001b[0m\n\u001b[0m\u001b[0;32m      2\u001b[0m \u001b[1;32mfor\u001b[0m \u001b[0mm\u001b[0m \u001b[1;32min\u001b[0m \u001b[0mmatch\u001b[0m\u001b[1;33m:\u001b[0m\u001b[1;33m\u001b[0m\u001b[1;33m\u001b[0m\u001b[0m\n\u001b[0;32m      3\u001b[0m     \u001b[0mprint\u001b[0m\u001b[1;33m(\u001b[0m\u001b[0mm\u001b[0m\u001b[1;33m.\u001b[0m\u001b[0mstart\u001b[0m\u001b[1;33m(\u001b[0m\u001b[1;33m)\u001b[0m\u001b[1;33m,\u001b[0m\u001b[1;34m'....'\u001b[0m\u001b[1;33m,\u001b[0m\u001b[0mm\u001b[0m\u001b[1;33m.\u001b[0m\u001b[0mend\u001b[0m\u001b[1;33m(\u001b[0m\u001b[1;33m)\u001b[0m\u001b[1;33m,\u001b[0m\u001b[1;34m'....'\u001b[0m\u001b[1;33m,\u001b[0m\u001b[0mm\u001b[0m\u001b[1;33m.\u001b[0m\u001b[0mgroup\u001b[0m\u001b[1;33m(\u001b[0m\u001b[1;33m)\u001b[0m\u001b[1;33m)\u001b[0m\u001b[1;33m\u001b[0m\u001b[1;33m\u001b[0m\u001b[0m\n",
      "\u001b[1;31mNameError\u001b[0m: name 're' is not defined"
     ]
    }
   ],
   "source": [
    "match = re.finditer('\\d', 'A7 b@kc 9zx')\n",
    "for m in match:\n",
    "    print(m.start(),'....',m.end(),'....',m.group())"
   ]
  },
  {
   "cell_type": "code",
   "execution_count": 10,
   "metadata": {},
   "outputs": [
    {
     "data": {
      "text/plain": [
       "['(257) 563-7401',\n",
       " '(372) 587-2335',\n",
       " '(786) 713-8616',\n",
       " '(793) 151-6230',\n",
       " '(492) 709-6392',\n",
       " '(654) 393-5734',\n",
       " '(404) 960-3807',\n",
       " '(314) 244-6306',\n",
       " '(947) 278-5929',\n",
       " '(684) 579-1879',\n",
       " '(389) 737-2852',\n",
       " '(660) 663-4518',\n",
       " '(608) 265-2215',\n",
       " '(959) 119-8364',\n",
       " '(468) 353-2641',\n",
       " '(248) 675-4007',\n",
       " '(939) 353-1107',\n",
       " '(570) 873-7090',\n",
       " '(302) 259-2375',\n",
       " '(717) 450-4729',\n",
       " '(453) 391-4650',\n",
       " '(559) 104-5475',\n",
       " '(387) 142-9434',\n",
       " '(516) 745-4496',\n",
       " '(326) 677-3419',\n",
       " '(746) 679-2470',\n",
       " '(455) 430-0989',\n",
       " '(490) 936-4694',\n",
       " '(985) 834-8285',\n",
       " '(662) 661-1446',\n",
       " '(802) 668-8240',\n",
       " '(477) 768-9247',\n",
       " '(791) 239-9057',\n",
       " '(832) 109-0213',\n",
       " '(837) 196-3274',\n",
       " '(268) 442-2428',\n",
       " '(850) 676-5117',\n",
       " '(861) 546-5032',\n",
       " '(176) 805-4108',\n",
       " '(715) 912-6931',\n",
       " '(993) 554-0563',\n",
       " '(357) 616-5411',\n",
       " '(121) 347-0086',\n",
       " '(304) 506-6314',\n",
       " '(425) 288-2332',\n",
       " '(145) 987-4962',\n",
       " '(187) 582-9707',\n",
       " '(750) 558-3965',\n",
       " '(492) 467-3131',\n",
       " '(774) 914-2510',\n",
       " '(888) 106-8550',\n",
       " '(539) 567-3573',\n",
       " '(693) 337-2849',\n",
       " '(545) 604-9386',\n",
       " '(221) 156-5026',\n",
       " '(414) 876-0865',\n",
       " '(932) 726-8645',\n",
       " '(726) 710-9826',\n",
       " '(622) 594-1662',\n",
       " '(948) 600-8503',\n",
       " '(605) 900-7508',\n",
       " '(716) 977-5775',\n",
       " '(368) 239-8275',\n",
       " '(725) 342-0650',\n",
       " '(711) 993-5187',\n",
       " '(882) 399-5084',\n",
       " '(287) 755-9948',\n",
       " '(659) 551-3389',\n",
       " '(275) 730-6868',\n",
       " '(725) 757-4047',\n",
       " '(314) 882-1496',\n",
       " '(639) 360-7590',\n",
       " '(168) 222-1592',\n",
       " '(896) 303-1164',\n",
       " '(203) 982-6130',\n",
       " '(906) 217-1470',\n",
       " '(614) 514-1269',\n",
       " '(763) 409-5446',\n",
       " '(836) 292-5324',\n",
       " '(926) 709-3295',\n",
       " '(963) 356-9268',\n",
       " '(736) 522-8584',\n",
       " '(410) 483-0352',\n",
       " '(252) 204-1434',\n",
       " '(874) 886-4174',\n",
       " '(581) 379-7573',\n",
       " '(983) 632-8597',\n",
       " '(295) 983-3476',\n",
       " '(873) 392-8802',\n",
       " '(360) 669-3923',\n",
       " '(840) 987-9449',\n",
       " '(422) 517-6053',\n",
       " '(126) 940-2753',\n",
       " '(427) 930-5255',\n",
       " '(689) 721-5145',\n",
       " '(676) 334-2174',\n",
       " '(437) 994-5270',\n",
       " '(564) 908-6970',\n",
       " '(577) 333-6244',\n",
       " '(655) 840-6139']"
      ]
     },
     "execution_count": 10,
     "metadata": {},
     "output_type": "execute_result"
    }
   ],
   "source": [
    "import urllib.request\n",
    "\n",
    "\n",
    "url = 'https://www.summet.com/dmsi/html/codesamples/addresses.html'\n",
    "r = urllib.request.urlopen(url)\n",
    "data = r.read()\n",
    "data_str = data.decode()\n",
    "re.findall('\\(\\d{3}\\) \\d{3}-\\d{4}', data_str)\n"
   ]
  },
  {
   "cell_type": "code",
   "execution_count": 17,
   "metadata": {},
   "outputs": [
    {
     "name": "stdout",
     "output_type": "stream",
     "text": [
      "Searching the data from site https://www.rediff.com/\n",
      "<title>Rediff.com: News | Rediffmail | Stock Quotes | Shopping</title>\n"
     ]
    }
   ],
   "source": [
    "sites = ['https://www.rediff.com/']\n",
    "for s in sites:\n",
    "    print('Searching the data from site',s)\n",
    "    u = urllib.request.urlopen(s)\n",
    "    text = u.read()\n",
    "    title = re.findall('<title>.*</title>', str(text), re.IGNORECASE)\n",
    "    print(title[0])"
   ]
  },
  {
   "cell_type": "code",
   "execution_count": 18,
   "metadata": {},
   "outputs": [
    {
     "data": {
      "text/plain": [
       "['<title>Rediff.com: News | Rediffmail | Stock Quotes | Shopping</title>']"
      ]
     },
     "execution_count": 18,
     "metadata": {},
     "output_type": "execute_result"
    }
   ],
   "source": [
    "title\n"
   ]
  },
  {
   "cell_type": "code",
   "execution_count": 19,
   "metadata": {},
   "outputs": [
    {
     "data": {
      "text/plain": [
       "b'<!doctype html>\\n<html lang=\"en\">\\n<head>\\n<meta http-equiv=\"Content-Type\" content=\"text/html; charset=UTF-8\" />\\n<meta name=\"format-detection\" content=\"telephone=no\" />\\n<meta name=\"viewport\" content=\"width=device-width, initial-scale=1\" />\\n<title>Rediff.com: News | Rediffmail | Stock Quotes | Shopping</title>\\n<meta name=\"keywords\" content=\"Latest India News, Rediffmail, Live Stock Updates, Share Market Advice, Mutual Fund Quotes, Stock Quotes, Share price, Free email, Live Cricket Score, Sports News, Bollywood News, Movie Review, Rediff Money, Wealth Management, Sensex, Moneywiz, Rediffmail Login, iShare, Shopping, Business Email, Rediff, Bollywood, Bollywood Gossip, Getahead\" />\\n<meta name=\"description\" content=\"&#10004;Read Latest India News &#10004;Get Realtime Stock Quotes &#10004;See Live Cricket Scores &#10004;Log in to Rediffmail &#10004;Buy Smart Products on Rediff Shopping\" />\\n<meta http-equiv=\"X-UA-Compatible\" content=\"IE=Edge\" />\\n<link rel=\"alternate\" media=\"only screen and (max-width: 640px)\" href=\"https://m.rediff.com\" />\\n<link rel=\"preconnect\" href=\"//imworld.rediff.com\" >\\n<link rel=\"preconnect\" href=\"//im.rediff.com\" >\\n<link rel=\"preconnect\" href=\"//imshopping.rediff.com\" >\\n<link rel=\"preconnect\" href=\"//datastore.rediff.com\" >\\n<link rel=\"preconnect\" href=\"//socialimg.rediff.com\" >\\n<link rel=\"preconnect\" href=\"//newsimg.rediff.com\" >\\n<link rel=\"dns-prefetch\" href=\"//track.rediff.com/\" >\\n<link rel=\"dns-prefetch\" href=\"//bizmail.rediff.com/\" >\\n<link rel=\"dns-prefetch\" href=\"//businessemail.rediff.com/\" >\\n<link rel=\"stylesheet\" href=\"//imworld.rediff.com/worldrediff/style_3_16/home_tile_us_35.css\" media=\"screen\" />\\n<link rel=\"shortcut icon\" type=image/x-icon href=\"//im.rediff.com/favicon.ico\" />\\n<script>\\ndocument.domain = \"rediff.com\";\\nvar glb_script_load = 0;var glb_citymapped = 0;\\nvar endyear = \"2020\";var loggedin =\"\";var totalfeaturedpages =\"9\";var totsmartTrnd =\"30\";var totsmartBest = \"0\";\\nvar pages_domain =\"http://pages.rediff.com\";\\nvar cdn_domain = \"https://www.rediff.com\";var org_domain = \"http://mypage.rediff.com\";var ishare_domain = \"https://ishare.rediff.com\";var shopping_domain =\"http://shopping.rediff.com\";var books_domain =\"http://books.rediff.com\";var track_domain =\"https://track.rediff.com\";var money_domain =\"https://money.rediff.com\";var realtime_domain =\"https://realtime.rediff.com\";var share_domain =\"http://share.rediff.com\";var imgpath =\"//imworld.rediff.com/worldrediff/pix\";\\nvar srch_tab_sel = \"shopping\"; //used in sns\\nvar srch_tab_num = 0; //used in sns\\n\\nfunction trackURL(url){if(navigator.userAgent.toLowerCase().indexOf(\\'msie\\') != -1){var referLink = document.createElement(\\'a\\');referLink.href = url;document.body.appendChild(referLink);referLink.click();}else{document.location.href = url;}}\\nfunction getCookie(name){var dc=document.cookie;var prefix=name+\"=\";var begin=dc.indexOf(\"; \"+prefix);if(begin==-1){begin=dc.indexOf(prefix);if(begin!=0)return null}else begin+=2;var end=document.cookie.indexOf(\";\",begin);if(end==-1)end=dc.length;return unescape(dc.substring(begin+prefix.length,end))}\\n\\n</script>\\n<script async src=\"//newads.rediff.com/rediffadserver/www/delivery/asyncjs.php\"></script>\\n<style>.navbar{position:sticky;top:0;z-index:100;}.div_subscribe_nl{display:none;position:absolute;right:135px;top:30px;background:#fff;background:rgba(255,255,255,0.9);width:320px;min-height:90px;border:solid 3px #444444;z-index:101;text-align:left;overflow:hidden;padding-bottom:15px;}.subnews_icon{position:absolute;right:270px;top:1px;width:29px;height:30px;z-index:1;background:url(\\'https://imworld.rediff.com/worldrediff/pix/sub-news-icon.png\\') no-repeat -60px -6px;cursor:pointer;}.div_subscribe_nl form{padding:10px 15px 5px 15px;font-size:16px;white-space:nowrap;font-weight:bold;}.getnews{color:#b30808;}.hlabel{position:absolute;font-size:0 !important;width:1px;height:1px;overflow:hidden;}.sub_email_in{display:block;margin:3px 0 5px 0;box-sizing:border-box;font-size:14px;padding:3px;width:99%;outline:none;border:solid 1px #cecece}.subscribe_btn_in{background: #0377c0;color: #fff;border:solid 1px #0377c0;letter-spacing:0.5px;font-weight:bold;cursor:pointer;border-radius:5px;font-size:13px;padding:3px 10px;}.subscribe_btn_in:hover{background:#02639d;}.cancel_btn{color:#0055cc;font-size:14px;cursor:pointer;font-weight:normal;vertical-align:middle;display:inline-block;margin:0 0 0 5px;}.subwait{display:inline-block;;width:30px;height:30px;background:url(\\'https://imworld.rediff.com/worldrediff/pix/waitimg.gif\\') no-repeat 50% 50%;vertical-align:middle;visibility:hidden;}.div_err_message{display:none;margin:5px 15px;font-size:14px;color:#ff2020;}.div_thanks{display:none;margin:30px 0;text-align:center;font-size:15px;font-weight:bold;color:#006600;}@media screen and (max-width:1000px){.subnews_icon{display:none;}}</style>\\n</head>\\n<body>\\n<input type=\"hidden\" id=\"OAS_subsection\"  name=\"OAS_subsection\" value=\"home\" />\\n<style>.fnt0{font-size:0;}</style>\\n<div class=\"fnt0\"><ins data-revive-zoneid=\"343\" data-revive-source=\"_blank\" data-revive-target=\"_blank\" data-revive-id=\"4b71f4079fb345c8ac958d0e9f0b56dd\" data-zonename=\"Rediff_Home_OutstreamVideo_INTL\"></ins></div><div class=\"logobar\">\\n\\t<div class=\"table\">\\n\\t\\t<div class=\"cell\"><span class=\"hmsprite logo\"></span></div>\\n\\t\\t<div class=\"cell topicons\"><a href=\"https://mail.rediff.com/cgi-bin/login.cgi\" title=\"Lightning fast free email\" class=\"mailicon\">Rediffmail</a><a href=\"https://money.rediff.com\" title=\"Live commentary of the Indian stock markets, stock quotes and business news\" onclick=\"trackURL(\\'https://track.rediff.com/click?url=___https://money.rediff.com/___&position=nav1&label=money&property=hp_us_pc\\');return false;\" class=\"moneyicon relative\">Money</a><a href=\"https://businessemail.rediff.com?sc_cid=ushome\" title=\"Lightning fast business email hosting\" onclick=\"trackURL(\\'https://track.rediff.com/click?url=___https://businessemail.rediff.com?sc_cid=ushome___&position=nav1&label=businessemail&property=hp_us_pc\\');return false;\"  class=\"bmailicon relative\">Business Email</a><a href=\"https://ishare.rediff.com\" onclick=\"trackURL(\\'https://track.rediff.com/click?url=___https://ishare.rediff.com___&position=nav1&label=videos&property=hp_us_pc\\');return false;\" title=\"Watch videos\" class=\"vdicon\">Videos</a><a href=\"http://shopping.rediff.com\" onclick=\"trackURL(\\'https://track.rediff.com/click?url=___http://shopping.rediff.com/?sc_cid=ushome_icon___&position=nav1&label=shopping&property=hp_us_pc\\');return false;\" title=\"Online Shopping\" class=\"shopicon relative\">Shopping</a></div>\\n\\t\\t<div class=\"cell alignR toprlinks\"><span id=\"username\" class=\"username\"></span><p id=\"signin_info\"><a href=\\'https://mail.rediff.com/cgi-bin/login.cgi\\' class=\"signin\">Sign in</a><br /><a href=\\'https://register.rediff.com/register/register.php?FormName=user_details\\' title=\"Create Rediffmail Account\">Create Account</a></p><script>\\n\\nvar ck=document.cookie;\\nfunction getcookie(n){\\n\\tvar ar=n+\"=\";var al=ar.length;var cl=ck.length;var i=0;while(i<cl)\\n\\t{j=i+al;if(ck.substring(i,j)==ar)\\n\\t{e=ck.indexOf(\";\",j);if(e==-1)\\n\\te=ck.length;return unescape(ck.substring(j,e));}\\n\\ti=ck.indexOf(\" \",i)+1;if(i==0)\\n\\tbreak;}\\n\\treturn \"\";\\n}\\nvar querystring = \"\";var path = \"\";var domain = \"\";var Rkey_data = \"\";var Rkey = Math.floor(Math.random() * 1000000);\\nquerystring = window.location.search;\\npath = window.location.pathname;\\ndomain = window.location.host;\\nvar tmp_ref = encodeURIComponent(document.referrer);\\nif((tmp_ref == null) || (tmp_ref.length == 0)){tmp_ref = \"\";}\\nvar resolution = screen.width+\\'x\\'+screen.height;\\nif (querystring == \"\"){Rkey_data = \"?rkey=\"+Rkey+\"&w=\"+resolution;}else{Rkey_data = \"&rkey=\"+Rkey+\"&w=\"+resolution;}\\nif(tmp_ref != \"\"){Rkey_data += \"&ref=\"+tmp_ref;}\\nvar metriccall_img = new Image();\\nmetriccall_img.src =\\'//usmetric.rediff.com/\\'+domain+path+querystring+Rkey_data+\\'&device=pc\\';\\n\\nvar Rlo=\"\";var Rl = \"\";\\nRlo\\t= getcookie(\"Rlo\");\\nRlo = unescape(Rlo).replace(/\\\\+/g,\" \");\\nRlo = Rlo.replace(\"@rediffmail.com\",\"\");\\nRlo = Rlo.replace(/[^\\\\w\\\\d\\\\s\\\\-\\\\_]/ig,\\'\\');\\nRl = getcookie(\"Rl\");\\nRl = Rl.replace(/[^\\\\w\\\\d\\\\s\\\\-\\\\_@\\\\.]/ig,\\'\\');\\nvar tmp_rsc1 = \"\";\\ntmp_rsc1 = getcookie(\"Rsc\");\\n\\n\\n</script></div>\\n\\t</div>\\n</div>\\n<div class=\"srchbar clear-fix relative\">\\n\\t<div class=\"div_moneyframe relative\"><iframe id=\"moneyiframe\" name=\"moneyiframe\" width=\"670\" height=\"28\" src=\"about:blank\" title=\"Rediff Money Widget\" class=\"moneyiframe\"></iframe></div>\\n\\t<div class=\"srchcontainer\">\\n\\t\\t<div id=\"topsrchhome\">\\n\\t\\t\\t<form name=\"srchform\" id=\"queryTop\" method=\"post\" action=\"//shopping.rediff.com/\" >\\n\\t\\t\\t<div class=\"srch_outer\"><input type=\"text\" autocomplete=\"off\" id=\"srchword\" name=\"srchword\" class=\"homesrchbox\" aria-label=\"Search for\" placeholder=\"Search for a product, category or brand\" /><input type=\"hidden\" name=\"src\" id=\"snsSRC\" value=\"web\" /><input type=\"hidden\" id=\"srchurl\" value=\"http://shopping.rediff.com/product/\" /><input type=\"hidden\" id=\"srchservice\" value=\"shopping\" /><input type=\"hidden\" id=\"srchsugtrack\" value=\"\" /></div>\\n\\t\\t\\t<input type=\"submit\" value=\" \" class=\"newsrchbtn\" aria-label=\"Search\" /><i class=\"clear\"></i>\\n\\t\\t\\t</form>\\n\\t\\t\\t<div id=\"sug\" class=\"sug\"></div>\\n\\t\\t</div>\\n\\t</div>\\n</div>\\n\\n<div id=\"div_advt_x01\" class=\"div_advt_x01\"><ins data-revive-zoneid=\"85\" data-revive-source=\"_blank\" data-revive-target=\"_blank\" data-revive-id=\"4b71f4079fb345c8ac958d0e9f0b56dd\" data-zonename=\"Rediff_Home_728x90_ATF_INTL\"></ins></div>\\n\\n<div class=\"navbar\">\\n\\t<ul class=\"navbarul\">\\n\\t<li>&nbsp;HOME</li> \\n\\t<li class=\"news\"><a href=\"https://www.rediff.com/news\" onclick=\"trackURL(\\'https://track.rediff.com/click?url=___https://www.rediff.com/news___&position=nav2&label=news&c_type=edit_news&property=hp_us_pc\\');return false;\">NEWS</a></li> \\n\\t<li class=\"business\"><a href=\"https://www.rediff.com/business\" onclick=\"trackURL(\\'https://track.rediff.com/click?url=___https://www.rediff.com/business___&position=nav2&label=business&c_type=edit_business&property=hp_us_pc\\');return false;\">BUSINESS</a></li> \\n\\t<li class=\"movies\"><a href=\"https://www.rediff.com/movies\" onclick=\"trackURL(\\'https://track.rediff.com/click?url=___https://www.rediff.com/movies___&position=nav2&label=movies&c_type=edit_movies&property=hp_us_pc\\');return false;\">MOVIES</a></li>\\n\\t<li class=\"cricket\"><a href=\"https://www.rediff.com/cricket\" onclick=\"trackURL(\\'https://track.rediff.com/click?url=___https://www.rediff.com/cricket___&position=nav2&label=cricket&c_type=edit_cricket&property=hp_us_pc\\');return false;\">CRICKET</a></li>\\n\\t<li class=\"sports\"><a href=\"https://www.rediff.com/sports\" onclick=\"trackURL(\\'https://track.rediff.com/click?url=___https://www.rediff.com/sports___&position=nav2&label=sports&c_type=edit_sports&property=hp_us_pc\\');return false;\">SPORTS</a></li> \\n\\t<li class=\"getahead\"><a href=\"https://www.rediff.com/getahead\" onclick=\"trackURL(\\'https://track.rediff.com/click?url=___https://www.rediff.com/getahead___&position=nav2&label=getahead&c_type=edit_getahead&property=hp_us_pc\\');return false;\">GET AHEAD</a></li>\\n\\t<li class=\"news\"><a href=\"https://realtime.rediff.com\" onclick=\"trackURL(\\'https://track.rediff.com/click?url=___https://realtime.rediff.com___&position=nav2&label=realtimenews&c_type=realtimenews&property=hp_us_pc\\');return false;\">REALTIME NEWS</a></li>\\n\\t<li><a href=\"https://www.rediff.com/news/coronavirus-2020\" onclick=\"trackURL(\\'https://track.rediff.com/click?url=___https://www.rediff.com/news/coronavirus-2020___&position=nav2&label=coronavirus&c_type=coronavirus&property=hp_us_pc\\');return false;\">CORONAVIRUS</a></li>\\t</ul>\\n\\t<div class=\"div_newssearch\"><form name=\"newsrchform\" onsubmit=\"return submitNewsSearch()\" action=\"https://www.rediff.com/search\" method=\"POST\"><label for=\"srchquery_tbox\" class=\"hlabel\">Search</label><input type=\"text\" id=\"srchquery_tbox\" name=\"srchquery_tbox\" value=\"\" class=\"txt_srchquery\" autocomplete=\"off\" placeholder=\"Search news\" /><input type=\"submit\" value=\"\" class=\"newsrchbtn\" /></form></div>\\n\\t<i id=\"subnews_icon\" class=\"subnews_icon\"></i>\\n\\t<div id=\"div_subscribe_nl\" class=\"div_subscribe_nl\"><form name=\"frm_subscription_in_top\" method=\"POST\" id=\"frm_subscription_in_top\"><div><span class=\"getnews\">Get Rediff News</span> in your Inbox</div><label class=\"hlabel\" for=\"sub_email_in_top\">email</label> <input type=\"text\" onkeypress=\"if(event.keyCode==13){return subscribeNewsletterHome(\\'sub_email_in_top\\',\\'subscribe_btn_in_top\\');}\" autocomplete=\"off\" id=\"sub_email_in_top\" name=\"sub_email_in_top\" placeholder=\"Email Address\" class=\"sub_email_in\"><input type=\"button\" onclick=\"return subscribeNewsletterHome(\\'sub_email_in_top\\',\\'subscribe_btn_in_top\\');\" value=\"Keep Me Updated\" id=\"subscribe_btn_in_top\" class=\"subscribe_btn_in\"><i id=\"subwait_top\" class=\"subwait\"></i><span id=\"cancel_btn\" class=\"cancel_btn\" title=\"Close this box\">Cancel</span></form><div id=\"div_thanks\" class=\"div_thanks\"></div><div id=\"div_err_message\" class=\"div_err_message\"></div></div>\\n</div>\\n<!-- red_container starts -->\\n<div id=\"red_container_main\" class=\"red_container\">\\n\\t\\t\\t<div class=\"firstrow\">\\n\\t\\t\\t<div class=\"secstorybox topboxheight topstories\">\\n\\t\\t\\t\\t<div id=\"tabtable\" class=\"tabtable\"><div class=\"tabs active\" data-tabno=\"0\">TOP STORIES</div><div class=\\'tabs\\' data-tabno=\\'1\\'>LATEST</div><div id=\"lasttab\" class=\\'tabs hide\\' data-tabno=\\'2\\'>FOR YOU</div></div>\\n\\t\\t\\t\\t\\t\\t\\t\\t<i class=\"clear\"></i>\\n\\t\\t\\t\\t<div id=\"topdiv_0\">\\n\\t\\t\\t\\t\\t\\t\\t\\t\\t\\t\\t\\t\\t\\t\\t\\t\\t\\t\\t<h2 class=\"news\" data-boxno=\"1_1-2_1\" data-track=\"label=edit_topstories&c_type=edit_news&news=https%3A%2F%2Fwww.rediff.com%2Fnews%2Fcolumn%2Fgoing-to-war-will-cost-china-and-xi-dear%2F20200917.htm\"><a href=\"https://www.rediff.com/news/column/going-to-war-will-cost-china-and-xi-dear/20200917.htm\" title=\"Going to war will cost China and Xi dear\" onclick=\"trackURL(\\'https://track.rediff.com/click?url=___https%3A%2F%2Fwww.rediff.com%2Fnews%2Fcolumn%2Fgoing-to-war-will-cost-china-and-xi-dear%2F20200917.htm___&position=1_1-2_1&label=edit_topstories&c_type=edit_news&property=hp_us_pc\\');return false;\">Going to war will cost China and Xi dear</a></h2>\\n\\t\\t\\t\\t\\t\\t\\t\\t\\t\\t\\t\\t\\t\\t\\t\\t\\t\\t\\t\\t\\t\\t\\t\\t<h2 class=\"news\" data-boxno=\"1_1-2_2\" data-track=\"label=edit_topstories&c_type=edit_news&news=https%3A%2F%2Fwww.rediff.com%2Fnews%2Freport%2Fharsimrat-kaur-badal-quits-modi-govt-over-farm-bills%2F20200917.htm\"><a href=\"https://www.rediff.com/news/report/harsimrat-kaur-badal-quits-modi-govt-over-farm-bills/20200917.htm\" title=\"Harsimrat Kaur Badal quits Modi govt over farm bills\" onclick=\"trackURL(\\'https://track.rediff.com/click?url=___https%3A%2F%2Fwww.rediff.com%2Fnews%2Freport%2Fharsimrat-kaur-badal-quits-modi-govt-over-farm-bills%2F20200917.htm___&position=1_1-2_2&label=edit_topstories&c_type=edit_news&property=hp_us_pc\\');return false;\">Harsimrat Kaur Badal quits Modi govt over farm bills</a></h2>\\n\\t\\t\\t\\t\\t\\t\\t\\t\\t\\t\\t\\t\\t\\t\\t\\t\\t\\t\\t\\t\\t\\t\\t\\t<h2 class=\"news\" data-boxno=\"1_1-2_3\" data-track=\"label=edit_topstories&c_type=edit_news&news=https%3A%2F%2Fwww.rediff.com%2Fnews%2Freport%2Flok-sabha-passes-farm-bills-amid-protests-by-oppn-sad%2F20200917.htm\"><a href=\"https://www.rediff.com/news/report/lok-sabha-passes-farm-bills-amid-protests-by-oppn-sad/20200917.htm\" title=\"Lok Sabha passes farm bills amid protests by Oppn, SAD\" onclick=\"trackURL(\\'https://track.rediff.com/click?url=___https%3A%2F%2Fwww.rediff.com%2Fnews%2Freport%2Flok-sabha-passes-farm-bills-amid-protests-by-oppn-sad%2F20200917.htm___&position=1_1-2_3&label=edit_topstories&c_type=edit_news&property=hp_us_pc\\');return false;\">Lok Sabha passes farm bills amid protests by Oppn, SAD</a></h2>\\n\\t\\t\\t\\t\\t\\t\\t\\t\\t\\t\\t\\t\\t\\t\\t\\t\\t\\t\\t\\t\\t\\t\\t\\t<h2 class=\"news\" data-boxno=\"1_1-2_4\" data-track=\"label=edit_topstories&c_type=edit_news&news=https%3A%2F%2Fwww.rediff.com%2Fnews%2Freport%2Fchina-should-sincerely-work-for-disengagement-india%2F20200917.htm\"><a href=\"https://www.rediff.com/news/report/china-should-sincerely-work-for-disengagement-india/20200917.htm\" title=\"China should \\'sincerely\\' work for disengagement: India\" onclick=\"trackURL(\\'https://track.rediff.com/click?url=___https%3A%2F%2Fwww.rediff.com%2Fnews%2Freport%2Fchina-should-sincerely-work-for-disengagement-india%2F20200917.htm___&position=1_1-2_4&label=edit_topstories&c_type=edit_news&property=hp_us_pc\\');return false;\">China should \\'sincerely\\' work for disengagement: India</a></h2>\\n\\t\\t\\t\\t\\t\\t\\t\\t\\t\\t\\t\\t\\t\\t\\t\\t\\t\\t\\t\\t\\t\\t\\t\\t<h2 class=\"news\" data-boxno=\"1_1-2_5\" data-track=\"label=edit_topstories&c_type=edit_news&news=https%3A%2F%2Fwww.rediff.com%2Fnews%2Freport%2Fjk-pulwama-type-attack-averted-52-kg-explosives-found%2F20200917.htm\"><a href=\"https://www.rediff.com/news/report/jk-pulwama-type-attack-averted-52-kg-explosives-found/20200917.htm\" title=\"JK: Pulwama-type attack averted; 52kg explosives found\" onclick=\"trackURL(\\'https://track.rediff.com/click?url=___https%3A%2F%2Fwww.rediff.com%2Fnews%2Freport%2Fjk-pulwama-type-attack-averted-52-kg-explosives-found%2F20200917.htm___&position=1_1-2_5&label=edit_topstories&c_type=edit_news&property=hp_us_pc\\');return false;\">JK: Pulwama-type attack averted; 52kg explosives found</a></h2>\\n\\t\\t\\t\\t\\t\\t\\t\\t\\t\\t\\t\\t\\t\\t\\t\\t\\t\\t\\t\\t\\t\\t\\t\\t<h2 class=\"business\" data-boxno=\"1_1-2_6\" data-track=\"label=edit_topstories&c_type=edit_business&news=https%3A%2F%2Fwww.rediff.com%2Fbusiness%2Finterview%2Fk-v-kamath-2-years-is-fair-time-to-come-out-of-pain%2F20200917.htm\"><a href=\"https://www.rediff.com/business/interview/k-v-kamath-2-years-is-fair-time-to-come-out-of-pain/20200917.htm\" title=\"K V Kamath: 2 years is fair time to come out of pain\\'\" onclick=\"trackURL(\\'https://track.rediff.com/click?url=___https%3A%2F%2Fwww.rediff.com%2Fbusiness%2Finterview%2Fk-v-kamath-2-years-is-fair-time-to-come-out-of-pain%2F20200917.htm___&position=1_1-2_6&label=edit_topstories&c_type=edit_business&property=hp_us_pc\\');return false;\">K V Kamath: 2 years is fair time to come out of pain\\'</a></h2>\\n\\t\\t\\t\\t\\t\\t\\t\\t\\t\\t\\t\\t\\t\\t\\t\\t\\t\\t\\t\\t\\t</div>\\n\\t\\t\\t\\t\\t\\t\\t\\t<div id=\"topdiv_1\" class=\"hide\"><h2 class=\"getahead time relative\" data-boxno=\"1_1-2_1\" data-track=\"label=edit_latest&c_type=edit_getahead&news=https%3A%2F%2Fwww.rediff.com%2Fgetahead%2Freport%2Fguruspeak-stocks-you-must-buy-hold-exit%2F20200918.htm\"><a href=\"https://www.rediff.com/getahead/report/guruspeak-stocks-you-must-buy-hold-exit/20200918.htm\" onclick=\"trackURL(\\'https://track.rediff.com/click?url=___https%3A%2F%2Fwww.rediff.com%2Fgetahead%2Freport%2Fguruspeak-stocks-you-must-buy-hold-exit%2F20200918.htm___&position=1_1-2_1&label=edit_latest&c_type=edit_getahead&property=hp_us_pc\\');return false;\" title=\"GuruSpeak: Stocks you must buy, hold, exit\">GuruSpeak: Stocks you must buy, hold, exit</a><i>11m ago</i></h2><h2 class=\"cricket time relative\" data-boxno=\"1_1-2_2\" data-track=\"label=edit_latest&c_type=edit_cricket&news=https%3A%2F%2Fwww.rediff.com%2Fcricket%2Freport%2Faustralia-england-players-arrive-in-uae-for-ipl%2F20200917.htm\"><a href=\"https://www.rediff.com/cricket/report/australia-england-players-arrive-in-uae-for-ipl/20200917.htm\" onclick=\"trackURL(\\'https://track.rediff.com/click?url=___https%3A%2F%2Fwww.rediff.com%2Fcricket%2Freport%2Faustralia-england-players-arrive-in-uae-for-ipl%2F20200917.htm___&position=1_1-2_2&label=edit_latest&c_type=edit_cricket&property=hp_us_pc\\');return false;\" title=\"Australia, England players arrive in UAE for IPL 2020\">Australia, England players arrive in UAE for IPL 2020</a><i></i></h2><h2 class=\"sports time relative\" data-boxno=\"1_1-2_3\" data-track=\"label=edit_latest&c_type=edit_sports&news=https%3A%2F%2Fwww.rediff.com%2Fsports%2Freport%2Fitalian-open-bopanna-shapovalov-enter-quarterfinals%2F20200917.htm\"><a href=\"https://www.rediff.com/sports/report/italian-open-bopanna-shapovalov-enter-quarterfinals/20200917.htm\" onclick=\"trackURL(\\'https://track.rediff.com/click?url=___https%3A%2F%2Fwww.rediff.com%2Fsports%2Freport%2Fitalian-open-bopanna-shapovalov-enter-quarterfinals%2F20200917.htm___&position=1_1-2_3&label=edit_latest&c_type=edit_sports&property=hp_us_pc\\');return false;\" title=\"Italian Open: Azarenka flawless; Bopanna-Shapovalov enter quarterfinals\">Italian Open: Azarenka flawless; Bopanna-Shapovalov enter quarterfinals</a><i></i></h2><h2 class=\"news time relative\" data-boxno=\"1_1-2_4\" data-track=\"label=edit_latest&c_type=edit_news&news=https%3A%2F%2Fwww.rediff.com%2Fnews%2Freport%2Fharsimrat-kaur-badal-quits-modi-govt-over-farm-bills%2F20200917.htm\"><a href=\"https://www.rediff.com/news/report/harsimrat-kaur-badal-quits-modi-govt-over-farm-bills/20200917.htm\" onclick=\"trackURL(\\'https://track.rediff.com/click?url=___https%3A%2F%2Fwww.rediff.com%2Fnews%2Freport%2Fharsimrat-kaur-badal-quits-modi-govt-over-farm-bills%2F20200917.htm___&position=1_1-2_4&label=edit_latest&c_type=edit_news&property=hp_us_pc\\');return false;\" title=\"Harsimrat Kaur Badal quits Modi govt over farm bills\">Harsimrat Kaur Badal quits Modi govt over farm bills</a><i></i></h2><h2 class=\"news time relative\" data-boxno=\"1_1-2_5\" data-track=\"label=edit_latest&c_type=edit_news&news=https%3A%2F%2Fwww.rediff.com%2Fnews%2Freport%2Fsec-144-reimposed-in-mumbai-but-no-new-lockdown%2F20200917.htm\"><a href=\"https://www.rediff.com/news/report/sec-144-reimposed-in-mumbai-but-no-new-lockdown/20200917.htm\" onclick=\"trackURL(\\'https://track.rediff.com/click?url=___https%3A%2F%2Fwww.rediff.com%2Fnews%2Freport%2Fsec-144-reimposed-in-mumbai-but-no-new-lockdown%2F20200917.htm___&position=1_1-2_5&label=edit_latest&c_type=edit_news&property=hp_us_pc\\');return false;\" title=\"Sec 144 reimposed in Mumbai but no new lockdown\">Sec 144 reimposed in Mumbai but no new lockdown</a><i></i></h2><h2 class=\"news time relative\" data-boxno=\"1_1-2_6\" data-track=\"label=edit_latest&c_type=edit_news&news=https%3A%2F%2Fwww.rediff.com%2Fnews%2Freport%2Fbjp-mp-ashok-gasti-dies-of-covid-19%2F20200918.htm\"><a href=\"https://www.rediff.com/news/report/bjp-mp-ashok-gasti-dies-of-covid-19/20200918.htm\" onclick=\"trackURL(\\'https://track.rediff.com/click?url=___https%3A%2F%2Fwww.rediff.com%2Fnews%2Freport%2Fbjp-mp-ashok-gasti-dies-of-covid-19%2F20200918.htm___&position=1_1-2_6&label=edit_latest&c_type=edit_news&property=hp_us_pc\\');return false;\" title=\"BJP MP Ashok Gasti dies of COVID-19\">BJP MP Ashok Gasti dies of COVID-19</a><i></i></h2><p class=\"alignR\"><a href=\"https://www.rediff.com/search/news?viewtype=grid&sort_order=recency&src=hp_latest_more_us_pc\" class=\"lmore\">More News</a></p></div>\\n\\t\\t\\t\\t\\t\\t\\t\\t<div id=\"topdiv_2\" class=\"hide\"></div>\\n\\t\\t\\t</div>\\n\\t\\t\\t\\t\\t\\t\\t\\t\\t\\t\\t\\t<div class=\"bigstory\" data-boxno=\"1_3\" data-track=\"label=edit_movies&c_type=edit_movies&news=https%3A%2F%2Fwww.rediff.com%2Fmovies%2Freport%2Fpix-up-close-with-bollywood%2F20200917.htm\">\\n\\t\\t\\t\\t<p class=\"more\"><a href=\"https://www.rediff.com/movies\" class=\"backmovies\" onclick=\"trackURL(\\'https://track.rediff.com/click?url=___https://www.rediff.com/movies___&position=1_3_L&label=edit_movies&c_type=edit_movies&property=hp_us_pc\\');return false;\">movies</a></p>\\n\\t\\t\\t\\t<h5><a href=\"https://www.rediff.com/movies/report/pix-up-close-with-bollywood/20200917.htm\" onclick=\"trackURL(\\'https://track.rediff.com/click?url=___https%3A%2F%2Fwww.rediff.com%2Fmovies%2Freport%2Fpix-up-close-with-bollywood%2F20200917.htm___&position=1_3_I&label=edit_movies&c_type=edit_movies&property=hp_us_pc\\');return false;\"><img alt=\"PIX: Up close, with Bollywood!\" src=\"//im.rediff.com/320-205/movies/2020/sep/17close-up-lead1.jpg\" /></a></h5>\\t\\t\\t\\t<h2 class=\"hdtitle\"><a href=\"https://www.rediff.com/movies/report/pix-up-close-with-bollywood/20200917.htm\" onclick=\"trackURL(\\'https://track.rediff.com/click?url=___https%3A%2F%2Fwww.rediff.com%2Fmovies%2Freport%2Fpix-up-close-with-bollywood%2F20200917.htm___&position=1_3_T&label=edit_movies&c_type=edit_movies&property=hp_us_pc\\');return false;\">PIX: Up close, with Bollywood!</a></h2>\\n\\t\\t\\t</div>\\n\\t\\t\\t\\t\\t\\t<div id=\"div_advt_right\" class=\"div_advt_right\"><ins data-revive-zoneid=\"89\" data-revive-source=\"_blank\" data-revive-target=\"_blank\" data-revive-id=\"4b71f4079fb345c8ac958d0e9f0b56dd\" data-zonename=\"Rediff_Home_300x250_ATF_INTL\"></ins></div>\\n\\t\\t\\t<i class=\"clear\"></i>\\n\\t\\t</div>\\n\\t\\t\\t\\t\\t\\t\\t\\t\\t\\t\\t\\t\\t\\t\\t\\t<div class=\"nbox\" data-boxno=\"2_1\" data-track=\"label=edit_cricket&c_type=edit_cricket&news=https%3A%2F%2Fwww.rediff.com%2Fcricket%2Freport%2Fchinese-company-signs-dhoni-for-smartphone-campaign%2F20200917.htm\">\\n\\t\\t\\t\\t<p class=\"more\"><a \\n\\t\\t\\t\\tonclick=\"trackURL(\\'https://track.rediff.com/click?url=___https://www.rediff.com/cricket___&position=2_1_L&label=edit_cricket&c_type=edit_cricket&property=hp_us_pc\\');return false;\" class=\"backcricket\" href=\"https://www.rediff.com/cricket\">cricket</a></p>\\n\\t\\t\\t\\t<h5><a onclick=\"trackURL(\\'https://track.rediff.com/click?url=___https%3A%2F%2Fwww.rediff.com%2Fcricket%2Freport%2Fchinese-company-signs-dhoni-for-smartphone-campaign%2F20200917.htm___&position=2_1_I&label=edit_cricket&c_type=edit_cricket&property=hp_us_pc\\');return false;\" data-relsrc=\"//im.rediff.com/210-170/cricket/2020/sep/17dhoni.jpg\" class=\"img\" href=\"https://www.rediff.com/cricket/report/chinese-company-signs-dhoni-for-smartphone-campaign/20200917.htm\"><img alt=\"Chinese company signs Dhoni for smartphone campaign\" src=\"//imworld.rediff.com/worldrediff/pix/blank.gif\" /></a></h5>\\t\\t\\t\\t<h2 class=\"hdtitle\"><a onclick=\"trackURL(\\'https://track.rediff.com/click?url=___https%3A%2F%2Fwww.rediff.com%2Fcricket%2Freport%2Fchinese-company-signs-dhoni-for-smartphone-campaign%2F20200917.htm___&position=2_1_T&label=edit_cricket&c_type=edit_cricket&property=hp_us_pc\\');return false;\"  href=\"https://www.rediff.com/cricket/report/chinese-company-signs-dhoni-for-smartphone-campaign/20200917.htm\">Chinese company signs Dhoni for smartphone campaign</a></h2>\\n\\t\\t\\t</div>\\t\\t\\t\\t\\t\\t\\t\\t\\t\\t\\t\\t\\t\\t\\t\\t\\t\\t\\t\\t<div class=\"nbox\" data-boxno=\"2_2\" data-track=\"label=edit_movies&c_type=edit_movies&news=https%3A%2F%2Fwww.rediff.com%2Fmovies%2Freport%2Fwow-is-that-a-perfect-figure%2F20200917.htm\">\\n\\t\\t\\t\\t<p class=\"more\"><a \\n\\t\\t\\t\\tonclick=\"trackURL(\\'https://track.rediff.com/click?url=___https://www.rediff.com/movies___&position=2_2_L&label=edit_movies&c_type=edit_movies&property=hp_us_pc\\');return false;\" class=\"backmovies\" href=\"https://www.rediff.com/movies\">movies</a></p>\\n\\t\\t\\t\\t<h5><a onclick=\"trackURL(\\'https://track.rediff.com/click?url=___https%3A%2F%2Fwww.rediff.com%2Fmovies%2Freport%2Fwow-is-that-a-perfect-figure%2F20200917.htm___&position=2_2_I&label=edit_movies&c_type=edit_movies&property=hp_us_pc\\');return false;\" data-relsrc=\"//im.rediff.com/210-170/movies/2020/sep/17glamour1.jpg\" class=\"img\" href=\"https://www.rediff.com/movies/report/wow-is-that-a-perfect-figure/20200917.htm\"><img alt=\"Wow! Is that a perfect figure?\" src=\"//imworld.rediff.com/worldrediff/pix/blank.gif\" /></a></h5>\\t\\t\\t\\t<h2 class=\"hdtitle\"><a onclick=\"trackURL(\\'https://track.rediff.com/click?url=___https%3A%2F%2Fwww.rediff.com%2Fmovies%2Freport%2Fwow-is-that-a-perfect-figure%2F20200917.htm___&position=2_2_T&label=edit_movies&c_type=edit_movies&property=hp_us_pc\\');return false;\"  href=\"https://www.rediff.com/movies/report/wow-is-that-a-perfect-figure/20200917.htm\">Wow! Is that a perfect figure?</a></h2>\\n\\t\\t\\t</div>\\t\\t\\t\\t\\t\\t\\t\\t\\t\\t\\t\\t\\t\\t\\t\\t\\t\\t\\t\\t\\t\\t\\t\\t\\t<div class=\"nbox\"  data-boxno=\"2_3\" data-track=\"label=videos&c_type=ishare&c_id=11126160\">\\n\\t\\t\\t\\t\\t<p class=\"more\"><a href=\"https://ishare.rediff.com\" class=\"backvid\" onclick=\"trackURL(\\'https://track.rediff.com/click?url=___https://ishare.rediff.com___&position=2_3_L&label=videos&c_type=ishare&property=hp_us_pc\\');return false;\" title=\"More on Videos\">Videos</a></p>\\n\\t\\t\\t\\t\\t<h5 class=\"relative\"><a href=\"https://ishare.rediff.com/video/others/watch-sushant-singh-rajput-s-wax-statue-unveiled-in-west-bengal/11126160\"  onclick=\"trackURL(\\'https://track.rediff.com/click?url=___https://ishare.rediff.com/video/others/watch-sushant-singh-rajput-s-wax-statue-unveiled-in-west-bengal/11126160___&position=2_3_I&label=videos&c_type=ishare&c_id=11126160&property=hp_us_pc\\');return false;\" data-relsrc=\"http://datastore.rediff.com/h300-w300/thumb/53615D675B5B615F706460626D72/tk8mhcy4wnrbs45n.D.80000.Watch-Sushant-Singh-Rajputs-wax-statue-in-West-Bengal.mp4-0016.png\" class=\"img vdplayicon\" ><img alt=\"Watch: Sushant Singh Rajput\\'s wax statue unveiled in West Bengal\" src=\"//imworld.rediff.com/worldrediff/pix/blank.gif\" /></a></h5><h2 class=\"hdtitle\"><a href=\"https://ishare.rediff.com/video/others/watch-sushant-singh-rajput-s-wax-statue-unveiled-in-west-bengal/11126160\" onclick=\"trackURL(\\'https://track.rediff.com/click?url=___https://ishare.rediff.com/video/others/watch-sushant-singh-rajput-s-wax-statue-unveiled-in-west-bengal/11126160___&position=2_3_T&label=videos&c_type=ishare&c_id=11126160&property=hp_us_pc\\');return false;\">Watch: Sushant Singh Rajput\\'s wax statue unveiled in West Bengal</a></h2>\\n\\t\\t\\t\\t\\t</div>\\t\\t\\t\\t\\t\\t\\t\\t\\t\\t\\t\\t\\t\\t\\t\\t\\t\\t\\t\\t\\t<div class=\"nbox\" data-boxno=\"2_4\" data-track=\"label=edit_cricket&c_type=edit_cricket&news=https%3A%2F%2Fwww.rediff.com%2Fcricket%2Freport%2Fipl-2020-watch-out-for-these-bowlers%2F20200917.htm\">\\n\\t\\t\\t\\t<p class=\"more\"><a \\n\\t\\t\\t\\tonclick=\"trackURL(\\'https://track.rediff.com/click?url=___https://www.rediff.com/cricket___&position=2_4_L&label=edit_cricket&c_type=edit_cricket&property=hp_us_pc\\');return false;\" class=\"backcricket\" href=\"https://www.rediff.com/cricket\">cricket</a></p>\\n\\t\\t\\t\\t<h5><a onclick=\"trackURL(\\'https://track.rediff.com/click?url=___https%3A%2F%2Fwww.rediff.com%2Fcricket%2Freport%2Fipl-2020-watch-out-for-these-bowlers%2F20200917.htm___&position=2_4_I&label=edit_cricket&c_type=edit_cricket&property=hp_us_pc\\');return false;\" data-relsrc=\"//im.rediff.com/210-170/cricket/2020/sep/16cummins.jpg\" class=\"img\" href=\"https://www.rediff.com/cricket/report/ipl-2020-watch-out-for-these-bowlers/20200917.htm\"><img alt=\"IPL 2020: Watch out for these bowlers!\" src=\"//imworld.rediff.com/worldrediff/pix/blank.gif\" /></a></h5>\\t\\t\\t\\t<h2 class=\"hdtitle\"><a onclick=\"trackURL(\\'https://track.rediff.com/click?url=___https%3A%2F%2Fwww.rediff.com%2Fcricket%2Freport%2Fipl-2020-watch-out-for-these-bowlers%2F20200917.htm___&position=2_4_T&label=edit_cricket&c_type=edit_cricket&property=hp_us_pc\\');return false;\"  href=\"https://www.rediff.com/cricket/report/ipl-2020-watch-out-for-these-bowlers/20200917.htm\">IPL 2020: Watch out for these bowlers!</a></h2>\\n\\t\\t\\t</div>\\t\\t\\t\\t\\t\\t\\t\\t\\t\\t\\t\\t\\t\\t\\t\\t\\t\\t\\t\\t<div class=\"nbox\" data-boxno=\"2_5\" data-track=\"label=edit_movies&c_type=edit_movies&news=https%3A%2F%2Fwww.rediff.com%2Fmovies%2Freport%2Fravi-kishan-to-jaya-i-want-to-apologise%2F20200917.htm\">\\n\\t\\t\\t\\t<p class=\"more\"><a \\n\\t\\t\\t\\tonclick=\"trackURL(\\'https://track.rediff.com/click?url=___https://www.rediff.com/movies___&position=2_5_L&label=edit_movies&c_type=edit_movies&property=hp_us_pc\\');return false;\" class=\"backmovies\" href=\"https://www.rediff.com/movies\">movies</a></p>\\n\\t\\t\\t\\t<h5><a onclick=\"trackURL(\\'https://track.rediff.com/click?url=___https%3A%2F%2Fwww.rediff.com%2Fmovies%2Freport%2Fravi-kishan-to-jaya-i-want-to-apologise%2F20200917.htm___&position=2_5_I&label=edit_movies&c_type=edit_movies&property=hp_us_pc\\');return false;\" data-relsrc=\"//im.rediff.com/210-170/movies/2020/sep/17ravikishann-lead1.jpg\" class=\"img\" href=\"https://www.rediff.com/movies/report/ravi-kishan-to-jaya-i-want-to-apologise/20200917.htm\"><img alt=\"Ravi Kishan to Jaya: I want to apologise\" src=\"//imworld.rediff.com/worldrediff/pix/blank.gif\" /></a></h5>\\t\\t\\t\\t<h2 class=\"hdtitle\"><a onclick=\"trackURL(\\'https://track.rediff.com/click?url=___https%3A%2F%2Fwww.rediff.com%2Fmovies%2Freport%2Fravi-kishan-to-jaya-i-want-to-apologise%2F20200917.htm___&position=2_5_T&label=edit_movies&c_type=edit_movies&property=hp_us_pc\\');return false;\"  href=\"https://www.rediff.com/movies/report/ravi-kishan-to-jaya-i-want-to-apologise/20200917.htm\">Ravi Kishan to Jaya: I want to apologise</a></h2>\\n\\t\\t\\t</div>\\t\\t\\t\\t\\t\\t\\t\\t\\t\\t<i class=\"clear\"></i>\\n\\t\\t\\n\\t\\t\\t\\t\\t\\t\\t\\t\\t\\t\\t\\t\\t\\t<div class=\"nbox\" data-boxno=\"3_1\" data-track=\"label=edit_sports&c_type=edit_sports&news=https%3A%2F%2Fwww.rediff.com%2Fsports%2Freport%2Fwomens-tennis-has-a-new-leader%2F20200917.htm\">\\n\\t\\t\\t\\t<p class=\"more\"><a \\n\\t\\t\\t\\tonclick=\"trackURL(\\'https://track.rediff.com/click?url=___https://www.rediff.com/sports___&position=3_1_L&label=edit_sports&c_type=edit_sports&property=hp_us_pc\\');return false;\" class=\"backsports\" href=\"https://www.rediff.com/sports\">sports</a></p>\\n\\t\\t\\t\\t<h5><a onclick=\"trackURL(\\'https://track.rediff.com/click?url=___https%3A%2F%2Fwww.rediff.com%2Fsports%2Freport%2Fwomens-tennis-has-a-new-leader%2F20200917.htm___&position=3_1_I&label=edit_sports&c_type=edit_sports&property=hp_us_pc\\');return false;\" data-relsrc=\"//im.rediff.com/210-170/sports/2020/sep/17naomi-osaka.jpg\" class=\"img\" href=\"https://www.rediff.com/sports/report/womens-tennis-has-a-new-leader/20200917.htm\"><img alt=\"Women\\'s tennis has a new leader\" src=\"//imworld.rediff.com/worldrediff/pix/blank.gif\" /></a></h5>\\t\\t\\t\\t<h2 class=\"hdtitle\"><a onclick=\"trackURL(\\'https://track.rediff.com/click?url=___https%3A%2F%2Fwww.rediff.com%2Fsports%2Freport%2Fwomens-tennis-has-a-new-leader%2F20200917.htm___&position=3_1_T&label=edit_sports&c_type=edit_sports&property=hp_us_pc\\');return false;\"  href=\"https://www.rediff.com/sports/report/womens-tennis-has-a-new-leader/20200917.htm\">Women\\'s tennis has a new leader</a></h2>\\n\\t\\t\\t</div>\\t\\t\\t\\t\\t\\t\\t\\t\\t\\t\\t\\t\\t\\t\\t\\t\\t\\t\\t\\t<div class=\"nbox\" data-boxno=\"3_2\" data-track=\"label=edit_movies&c_type=edit_movies&news=https%3A%2F%2Fwww.rediff.com%2Fmovies%2Freport%2Fi-dont-think-audience-expects-me-to-do-a-sex-comedy-aparshakti-khurrana%2F20200917.htm\">\\n\\t\\t\\t\\t<p class=\"more\"><a \\n\\t\\t\\t\\tonclick=\"trackURL(\\'https://track.rediff.com/click?url=___https://www.rediff.com/movies___&position=3_2_L&label=edit_movies&c_type=edit_movies&property=hp_us_pc\\');return false;\" class=\"backmovies\" href=\"https://www.rediff.com/movies\">movies</a></p>\\n\\t\\t\\t\\t<h5><a onclick=\"trackURL(\\'https://track.rediff.com/click?url=___https%3A%2F%2Fwww.rediff.com%2Fmovies%2Freport%2Fi-dont-think-audience-expects-me-to-do-a-sex-comedy-aparshakti-khurrana%2F20200917.htm___&position=3_2_I&label=edit_movies&c_type=edit_movies&property=hp_us_pc\\');return false;\" data-relsrc=\"//im.rediff.com/210-170/movies/2020/sep/16aparshakti-khurana-lead1.jpg\" class=\"img\" href=\"https://www.rediff.com/movies/report/i-dont-think-audience-expects-me-to-do-a-sex-comedy-aparshakti-khurrana/20200917.htm\"><img alt=\"\\'I don\\'t think audience expects me to do a sex comedy\\'\" src=\"//imworld.rediff.com/worldrediff/pix/blank.gif\" /></a></h5>\\t\\t\\t\\t<h2 class=\"hdtitle\"><a onclick=\"trackURL(\\'https://track.rediff.com/click?url=___https%3A%2F%2Fwww.rediff.com%2Fmovies%2Freport%2Fi-dont-think-audience-expects-me-to-do-a-sex-comedy-aparshakti-khurrana%2F20200917.htm___&position=3_2_T&label=edit_movies&c_type=edit_movies&property=hp_us_pc\\');return false;\"  href=\"https://www.rediff.com/movies/report/i-dont-think-audience-expects-me-to-do-a-sex-comedy-aparshakti-khurrana/20200917.htm\">\\'I don\\'t think audience expects me to do a sex comedy\\'</a></h2>\\n\\t\\t\\t</div>\\t\\t\\t\\t\\t\\t\\t\\t\\t\\t\\t\\t\\t\\t\\t\\t\\t\\t\\t\\t\\t\\t\\t\\t\\t<div class=\"nbox\"  data-boxno=\"3_3\" data-track=\"label=videos&c_type=ishare&c_id=11126159\">\\n\\t\\t\\t\\t\\t<p class=\"more\"><a href=\"https://ishare.rediff.com\" class=\"backvid\" onclick=\"trackURL(\\'https://track.rediff.com/click?url=___https://ishare.rediff.com___&position=3_3_L&label=videos&c_type=ishare&property=hp_us_pc\\');return false;\" title=\"More on Videos\">Videos</a></p>\\n\\t\\t\\t\\t\\t<h5 class=\"relative\"><a href=\"https://ishare.rediff.com/video/others/bridge-washed-away-before-inauguration-in-bihar-s-kishanganj/11126159\"  onclick=\"trackURL(\\'https://track.rediff.com/click?url=___https://ishare.rediff.com/video/others/bridge-washed-away-before-inauguration-in-bihar-s-kishanganj/11126159___&position=3_3_I&label=videos&c_type=ishare&c_id=11126159&property=hp_us_pc\\');return false;\" data-relsrc=\"http://datastore.rediff.com/h300-w300/thumb/53615D675B5B615F706460626D72/jgni0zieg6xf2zcx.D.154000.Bridge-washed-away-before-inauguration-in-Bihars-Kishanganj.mp4-0003.png\" class=\"img vdplayicon\" ><img alt=\"Bridge washed away before inauguration in Bihar\\'s Kishanganj\" src=\"//imworld.rediff.com/worldrediff/pix/blank.gif\" /></a></h5><h2 class=\"hdtitle\"><a href=\"https://ishare.rediff.com/video/others/bridge-washed-away-before-inauguration-in-bihar-s-kishanganj/11126159\" onclick=\"trackURL(\\'https://track.rediff.com/click?url=___https://ishare.rediff.com/video/others/bridge-washed-away-before-inauguration-in-bihar-s-kishanganj/11126159___&position=3_3_T&label=videos&c_type=ishare&c_id=11126159&property=hp_us_pc\\');return false;\">Bridge washed away before inauguration in Bihar\\'s Kishanganj</a></h2>\\n\\t\\t\\t\\t\\t</div>\\t\\t\\t\\t\\t\\t\\t\\t\\t\\t\\t\\t\\t\\t\\t\\t\\t\\t\\t\\t\\t<div class=\"nbox\" data-boxno=\"3_4\" data-track=\"label=edit_cricket&c_type=edit_cricket&news=https%3A%2F%2Fwww.rediff.com%2Fcricket%2Freport%2Fwhat-is-arjun-tendulkar-doing-with-mumbai-indians%2F20200917.htm\">\\n\\t\\t\\t\\t<p class=\"more\"><a \\n\\t\\t\\t\\tonclick=\"trackURL(\\'https://track.rediff.com/click?url=___https://www.rediff.com/cricket___&position=3_4_L&label=edit_cricket&c_type=edit_cricket&property=hp_us_pc\\');return false;\" class=\"backcricket\" href=\"https://www.rediff.com/cricket\">cricket</a></p>\\n\\t\\t\\t\\t<h5><a onclick=\"trackURL(\\'https://track.rediff.com/click?url=___https%3A%2F%2Fwww.rediff.com%2Fcricket%2Freport%2Fwhat-is-arjun-tendulkar-doing-with-mumbai-indians%2F20200917.htm___&position=3_4_I&label=edit_cricket&c_type=edit_cricket&property=hp_us_pc\\');return false;\" data-relsrc=\"//im.rediff.com/210-170/cricket/2020/sep/17arjun2.jpg\" class=\"img\" href=\"https://www.rediff.com/cricket/report/what-is-arjun-tendulkar-doing-with-mumbai-indians/20200917.htm\"><img alt=\"What is Arjun Tendulkar doing with Mumbai Indians?\" src=\"//imworld.rediff.com/worldrediff/pix/blank.gif\" /></a></h5>\\t\\t\\t\\t<h2 class=\"hdtitle\"><a onclick=\"trackURL(\\'https://track.rediff.com/click?url=___https%3A%2F%2Fwww.rediff.com%2Fcricket%2Freport%2Fwhat-is-arjun-tendulkar-doing-with-mumbai-indians%2F20200917.htm___&position=3_4_T&label=edit_cricket&c_type=edit_cricket&property=hp_us_pc\\');return false;\"  href=\"https://www.rediff.com/cricket/report/what-is-arjun-tendulkar-doing-with-mumbai-indians/20200917.htm\">What is Arjun Tendulkar doing with Mumbai Indians?</a></h2>\\n\\t\\t\\t</div>\\t\\t\\t\\t\\t\\t\\t\\t\\t\\t\\t\\t\\t\\t\\t\\t\\t\\t\\t\\t<div class=\"nbox\" data-boxno=\"3_5\" data-track=\"label=edit_getahead&c_type=edit_getahead&news=https%3A%2F%2Fwww.rediff.com%2Fgetahead%2Freport%2Fwhy-is-womenhavelegs-trending%2F20200917.htm\">\\n\\t\\t\\t\\t<p class=\"more\"><a \\n\\t\\t\\t\\tonclick=\"trackURL(\\'https://track.rediff.com/click?url=___https://www.rediff.com/getahead___&position=3_5_L&label=edit_getahead&c_type=edit_getahead&property=hp_us_pc\\');return false;\" class=\"backgetahead\" href=\"https://www.rediff.com/getahead\">get ahead</a></p>\\n\\t\\t\\t\\t<h5><a onclick=\"trackURL(\\'https://track.rediff.com/click?url=___https%3A%2F%2Fwww.rediff.com%2Fgetahead%2Freport%2Fwhy-is-womenhavelegs-trending%2F20200917.htm___&position=3_5_I&label=edit_getahead&c_type=edit_getahead&property=hp_us_pc\\');return false;\" data-relsrc=\"//im.rediff.com/210-170/getahead/2020/sep/17legs-pix-lead1.jpg\" class=\"img\" href=\"https://www.rediff.com/getahead/report/why-is-womenhavelegs-trending/20200917.htm\"><img alt=\"Why is #WomenHaveLegs trending?\" src=\"//imworld.rediff.com/worldrediff/pix/blank.gif\" /></a></h5>\\t\\t\\t\\t<h2 class=\"hdtitle\"><a onclick=\"trackURL(\\'https://track.rediff.com/click?url=___https%3A%2F%2Fwww.rediff.com%2Fgetahead%2Freport%2Fwhy-is-womenhavelegs-trending%2F20200917.htm___&position=3_5_T&label=edit_getahead&c_type=edit_getahead&property=hp_us_pc\\');return false;\"  href=\"https://www.rediff.com/getahead/report/why-is-womenhavelegs-trending/20200917.htm\">Why is #WomenHaveLegs trending?</a></h2>\\n\\t\\t\\t</div>\\t\\t\\t\\t\\t\\t\\t\\t\\t\\t<i class=\"clear\"></i>\\n\\t\\t\\t\\t<div class=\"div_advt_middle\"><ins data-revive-zoneid=\"87\" data-revive-source=\"_blank\" data-revive-target=\"_blank\" data-revive-id=\"4b71f4079fb345c8ac958d0e9f0b56dd\" data-zonename=\"Rediff_Home_728x90_Middle_INTL\"></ins></div>\\n\\t\\t\\t\\t\\t\\t\\t\\t\\t\\t\\t\\t\\t\\t<div class=\"nbox\"  data-boxno=\"4_1\" data-track=\"label=videos&c_type=ishare&c_id=11126147\">\\n\\t\\t\\t<p class=\"more\"><a href=\"https://ishare.rediff.com\" class=\"backvid\" onclick=\"trackURL(\\'https://track.rediff.com/click?url=___https://ishare.rediff.com___&position=4_1_L&label=videos&c_type=ishare&property=hp_us_pc\\');return false;\" title=\"More on Videos\">Videos</a></p>\\n\\t\\t\\t<h5 class=\"relative\"><a href=\"https://ishare.rediff.com/video/others/harsimrat-kaur-badal-quits-modi-govt-over-farm-bills/11126147\"  onclick=\"trackURL(\\'https://track.rediff.com/click?url=___https://ishare.rediff.com/video/others/harsimrat-kaur-badal-quits-modi-govt-over-farm-bills/11126147___&position=4_1_I&label=videos&c_type=ishare&c_id=11126147&property=hp_us_pc\\');return false;\" data-relsrc=\"http://datastore.rediff.com/h300-w300/thumb/53615D675B5B615F706460626D72/wezm0c1rd4mp91ad.D.62000.Union-Minister-Harsimrat-Kaur-Badal-resigns-in-protest-over-govts-3-farm-ordinances.mp4-0003.png\" class=\"img vdplayicon\" ><img alt=\"Harsimrat Kaur Badal quits Modi govt over farm bills\" src=\"//imworld.rediff.com/worldrediff/pix/blank.gif\" /></a></h5><h2 class=\"hdtitle\"><a href=\"https://ishare.rediff.com/video/others/harsimrat-kaur-badal-quits-modi-govt-over-farm-bills/11126147\" onclick=\"trackURL(\\'https://track.rediff.com/click?url=___https://ishare.rediff.com/video/others/harsimrat-kaur-badal-quits-modi-govt-over-farm-bills/11126147___&position=4_1_T&label=videos&c_type=ishare&c_id=11126147&property=hp_us_pc\\');return false;\">Harsimrat Kaur Badal quits Modi govt over farm bills</a></h2>\\n\\t\\t\\t</div>\\t\\t\\t\\t\\t\\t\\t\\t\\t\\t\\t\\t\\t\\t\\t\\t\\t<div class=\"nbox\"  data-boxno=\"4_2\" data-track=\"label=videos&c_type=ishare&c_id=11126032\">\\n\\t\\t\\t<p class=\"more\"><a href=\"https://ishare.rediff.com\" class=\"backvid\" onclick=\"trackURL(\\'https://track.rediff.com/click?url=___https://ishare.rediff.com___&position=4_2_L&label=videos&c_type=ishare&property=hp_us_pc\\');return false;\" title=\"More on Videos\">Videos</a></p>\\n\\t\\t\\t<h5 class=\"relative\"><a href=\"https://ishare.rediff.com/video/others/10-crest-gates-of-somasila-reservoir-open-in-ap-s-nellore/11126032\"  onclick=\"trackURL(\\'https://track.rediff.com/click?url=___https://ishare.rediff.com/video/others/10-crest-gates-of-somasila-reservoir-open-in-ap-s-nellore/11126032___&position=4_2_I&label=videos&c_type=ishare&c_id=11126032&property=hp_us_pc\\');return false;\" data-relsrc=\"http://datastore.rediff.com/h300-w300/thumb/53615D675B5B615F706460626D72/ohe7kq30z3hap755.D.71000.10-crest-gates-of-Somasila-Reservoir-open-in-AP-s-Nellore.mp4-0010.png\" class=\"img vdplayicon\" ><img alt=\"10 crest gates of Somasila Reservoir open in AP\\'s Nellore\" src=\"//imworld.rediff.com/worldrediff/pix/blank.gif\" /></a></h5><h2 class=\"hdtitle\"><a href=\"https://ishare.rediff.com/video/others/10-crest-gates-of-somasila-reservoir-open-in-ap-s-nellore/11126032\" onclick=\"trackURL(\\'https://track.rediff.com/click?url=___https://ishare.rediff.com/video/others/10-crest-gates-of-somasila-reservoir-open-in-ap-s-nellore/11126032___&position=4_2_T&label=videos&c_type=ishare&c_id=11126032&property=hp_us_pc\\');return false;\">10 crest gates of Somasila Reservoir open in AP\\'s Nellore</a></h2>\\n\\t\\t\\t</div>\\t\\t\\t\\t\\t\\t\\t\\t\\t\\t\\t\\t\\t\\t\\t\\t\\t<div class=\"nbox\"  data-boxno=\"4_3\" data-track=\"label=videos&c_type=ishare&c_id=11126035\">\\n\\t\\t\\t<p class=\"more\"><a href=\"https://ishare.rediff.com\" class=\"backvid\" onclick=\"trackURL(\\'https://track.rediff.com/click?url=___https://ishare.rediff.com___&position=4_3_L&label=videos&c_type=ishare&property=hp_us_pc\\');return false;\" title=\"More on Videos\">Videos</a></p>\\n\\t\\t\\t<h5 class=\"relative\"><a href=\"https://ishare.rediff.com/video/others/mumbai-miraculous-escape-for-3-yr-old-child-after-car-runs-over-him/11126035\"  onclick=\"trackURL(\\'https://track.rediff.com/click?url=___https://ishare.rediff.com/video/others/mumbai-miraculous-escape-for-3-yr-old-child-after-car-runs-over-him/11126035___&position=4_3_I&label=videos&c_type=ishare&c_id=11126035&property=hp_us_pc\\');return false;\" data-relsrc=\"http://datastore.rediff.com/h300-w300/thumb/53615D675B5B615F706460626D72/cjscrajwa1uue6dr.D.62000.Watch-Car-ran-over-3-year-old-child-in-Mumbai.mp4-0005.png\" class=\"img vdplayicon\" ><img alt=\"Mumbai: Miraculous escape for 3-yr-old child after car runs over him\" src=\"//imworld.rediff.com/worldrediff/pix/blank.gif\" /></a></h5><h2 class=\"hdtitle\"><a href=\"https://ishare.rediff.com/video/others/mumbai-miraculous-escape-for-3-yr-old-child-after-car-runs-over-him/11126035\" onclick=\"trackURL(\\'https://track.rediff.com/click?url=___https://ishare.rediff.com/video/others/mumbai-miraculous-escape-for-3-yr-old-child-after-car-runs-over-him/11126035___&position=4_3_T&label=videos&c_type=ishare&c_id=11126035&property=hp_us_pc\\');return false;\">Mumbai: Miraculous escape for 3-yr-old child after car runs over him</a></h2>\\n\\t\\t\\t</div>\\t\\t\\t\\t\\t\\t\\t\\t\\t\\t\\t\\t\\t\\t\\t\\t\\t\\t\\t<div class=\"nbox\" data-boxno=\"4_4\" data-track=\"label=edit_getahead&c_type=edit_getahead&news=https%3A%2F%2Fwww.rediff.com%2Fgetahead%2Freport%2F-8-lessons-from-covid-19%2F20200916.htm\">\\n\\t\\t\\t\\t<p class=\"more\"><a \\n\\t\\t\\t\\tonclick=\"trackURL(\\'https://track.rediff.com/click?url=___https://www.rediff.com/getahead___&position=4_4_L&label=edit_getahead&c_type=edit_getahead&property=hp_us_pc\\');return false;\" class=\"backgetahead\" href=\"https://www.rediff.com/getahead\">get ahead</a></p>\\n\\t\\t\\t\\t<h5><a onclick=\"trackURL(\\'https://track.rediff.com/click?url=___https%3A%2F%2Fwww.rediff.com%2Fgetahead%2Freport%2F-8-lessons-from-covid-19%2F20200916.htm___&position=4_4_I&label=edit_getahead&c_type=edit_getahead&property=hp_us_pc\\');return false;\" data-relsrc=\"//im.rediff.com/210-170/getahead/2020/sep/14businessman1.jpg\" class=\"img\" href=\"https://www.rediff.com/getahead/report/-8-lessons-from-covid-19/20200916.htm\"><img alt=\"8 lessons from COVID-19\" src=\"//imworld.rediff.com/worldrediff/pix/blank.gif\" /></a></h5>\\t\\t\\t\\t<h2 class=\"hdtitle\"><a onclick=\"trackURL(\\'https://track.rediff.com/click?url=___https%3A%2F%2Fwww.rediff.com%2Fgetahead%2Freport%2F-8-lessons-from-covid-19%2F20200916.htm___&position=4_4_T&label=edit_getahead&c_type=edit_getahead&property=hp_us_pc\\');return false;\"  href=\"https://www.rediff.com/getahead/report/-8-lessons-from-covid-19/20200916.htm\">8 lessons from COVID-19</a></h2>\\n\\t\\t\\t</div>\\t\\t\\t\\t\\t\\t\\t\\t\\t\\t\\t\\t<i class=\"clear\"></i>\\n\\t\\t\\t\\t\\t\\t\\t\\t\\t\\t\\t\\t\\t\\t\\t\\t\\t\\t\\t\\t\\t\\t\\t\\t\\t\\t<div class=\"nbox\" data-boxno=\"5_1\" data-track=\"label=edit_news&c_type=edit_news&news=https%3A%2F%2Fwww.rediff.com%2Fnews%2Freport%2Famid-lac-standoff-navy-tracks-chinese-research-vessel%2F20200917.htm\">\\n\\t\\t\\t\\t\\t<p class=\"more\"><a onclick=\"trackURL(\\'https://track.rediff.com/click?url=___https://www.rediff.com/news___&position=5_1_L&label=edit_news&c_type=edit_news&property=hp_us_pc\\');return false;\" class=\"backnews\" href=\"https://www.rediff.com/news\">news</a></p>\\n\\t\\t\\t\\t\\t<h5><a onclick=\"trackURL(\\'https://track.rediff.com/click?url=___https%3A%2F%2Fwww.rediff.com%2Fnews%2Freport%2Famid-lac-standoff-navy-tracks-chinese-research-vessel%2F20200917.htm___&position=5_1_I&label=edit_news&c_type=edit_news&property=hp_us_pc\\');return false;\" data-relsrc=\"//im.rediff.com/210-170/news/2020/sep/17chinese-vessel.jpg\" class=\"img\" href=\"https://www.rediff.com/news/report/amid-lac-standoff-navy-tracks-chinese-research-vessel/20200917.htm\"><img alt=\"Amid LAC standoff, Navy tracks Chinese research vessel\" src=\"//imworld.rediff.com/worldrediff/pix/blank.gif\" /></a></h5>\\t\\t\\t\\t\\t<h2 class=\"hdtitle\"><a onclick=\"trackURL(\\'https://track.rediff.com/click?url=___https%3A%2F%2Fwww.rediff.com%2Fnews%2Freport%2Famid-lac-standoff-navy-tracks-chinese-research-vessel%2F20200917.htm___&position=5_1_T&label=edit_news&c_type=edit_news&property=hp_us_pc\\');return false;\"  href=\"https://www.rediff.com/news/report/amid-lac-standoff-navy-tracks-chinese-research-vessel/20200917.htm\">Amid LAC standoff, Navy tracks Chinese research vessel</a></h2>\\n\\t\\t\\t\\t</div>\\t\\t\\t\\t\\t\\t\\t\\t\\t\\t\\t\\t\\t\\t\\t\\t\\t\\t\\t\\t\\t\\t\\t<div class=\"nbox\" data-boxno=\"5_2\" data-track=\"label=edit_movies&c_type=edit_movies&news=https%3A%2F%2Fwww.rediff.com%2Fmovies%2Freport%2Fguess-which-film-saif-and-rani-just-wrapped-up%2F20200915.htm\">\\n\\t\\t\\t\\t\\t<p class=\"more\"><a onclick=\"trackURL(\\'https://track.rediff.com/click?url=___https://www.rediff.com/movies___&position=5_2_L&label=edit_movies&c_type=edit_movies&property=hp_us_pc\\');return false;\" class=\"backmovies\" href=\"https://www.rediff.com/movies\">movies</a></p>\\n\\t\\t\\t\\t\\t<h5><a onclick=\"trackURL(\\'https://track.rediff.com/click?url=___https%3A%2F%2Fwww.rediff.com%2Fmovies%2Freport%2Fguess-which-film-saif-and-rani-just-wrapped-up%2F20200915.htm___&position=5_2_I&label=edit_movies&c_type=edit_movies&property=hp_us_pc\\');return false;\" data-relsrc=\"//im.rediff.com/210-170/movies/2020/sep/15stars-work-lead1.jpg\" class=\"img\" href=\"https://www.rediff.com/movies/report/guess-which-film-saif-and-rani-just-wrapped-up/20200915.htm\"><img alt=\"Guess which film Saif and Rani just wrapped up?\" src=\"//imworld.rediff.com/worldrediff/pix/blank.gif\" /></a></h5>\\t\\t\\t\\t\\t<h2 class=\"hdtitle\"><a onclick=\"trackURL(\\'https://track.rediff.com/click?url=___https%3A%2F%2Fwww.rediff.com%2Fmovies%2Freport%2Fguess-which-film-saif-and-rani-just-wrapped-up%2F20200915.htm___&position=5_2_T&label=edit_movies&c_type=edit_movies&property=hp_us_pc\\');return false;\"  href=\"https://www.rediff.com/movies/report/guess-which-film-saif-and-rani-just-wrapped-up/20200915.htm\">Guess which film Saif and Rani just wrapped up?</a></h2>\\n\\t\\t\\t\\t</div>\\t\\t\\t\\t\\t\\t\\t\\t\\t\\t\\t\\t\\t\\t\\t\\t\\t\\t\\t\\t\\t\\t\\t<div class=\"nbox\" data-boxno=\"5_3\" data-track=\"label=edit_cricket&c_type=edit_cricket&news=https%3A%2F%2Fwww.rediff.com%2Fcricket%2Freport%2Fpix-kohli-chills-in-the-pool%2F20200916.htm\">\\n\\t\\t\\t\\t\\t<p class=\"more\"><a onclick=\"trackURL(\\'https://track.rediff.com/click?url=___https://www.rediff.com/cricket___&position=5_3_L&label=edit_cricket&c_type=edit_cricket&property=hp_us_pc\\');return false;\" class=\"backcricket\" href=\"https://www.rediff.com/cricket\">cricket</a></p>\\n\\t\\t\\t\\t\\t<h5><a onclick=\"trackURL(\\'https://track.rediff.com/click?url=___https%3A%2F%2Fwww.rediff.com%2Fcricket%2Freport%2Fpix-kohli-chills-in-the-pool%2F20200916.htm___&position=5_3_I&label=edit_cricket&c_type=edit_cricket&property=hp_us_pc\\');return false;\" data-relsrc=\"//im.rediff.com/210-170/cricket/2020/sep/16kohli1.jpg\" class=\"img\" href=\"https://www.rediff.com/cricket/report/pix-kohli-chills-in-the-pool/20200916.htm\"><img alt=\"PIX: Kohli chills in the pool\" src=\"//imworld.rediff.com/worldrediff/pix/blank.gif\" /></a></h5>\\t\\t\\t\\t\\t<h2 class=\"hdtitle\"><a onclick=\"trackURL(\\'https://track.rediff.com/click?url=___https%3A%2F%2Fwww.rediff.com%2Fcricket%2Freport%2Fpix-kohli-chills-in-the-pool%2F20200916.htm___&position=5_3_T&label=edit_cricket&c_type=edit_cricket&property=hp_us_pc\\');return false;\"  href=\"https://www.rediff.com/cricket/report/pix-kohli-chills-in-the-pool/20200916.htm\">PIX: Kohli chills in the pool</a></h2>\\n\\t\\t\\t\\t</div>\\t\\t\\t\\t\\t\\t\\t\\t\\t\\t\\t\\t\\t\\t\\t\\t\\t\\t\\t\\t\\t\\t\\t<div class=\"nbox\" data-boxno=\"5_4\" data-track=\"label=edit_getahead&c_type=edit_getahead&news=https%3A%2F%2Fwww.rediff.com%2Fgetahead%2Freport%2Fpix-models-rock-in-their-denim-jackets%2F20200915.htm\">\\n\\t\\t\\t\\t\\t<p class=\"more\"><a onclick=\"trackURL(\\'https://track.rediff.com/click?url=___https://www.rediff.com/getahead___&position=5_4_L&label=edit_getahead&c_type=edit_getahead&property=hp_us_pc\\');return false;\" class=\"backgetahead\" href=\"https://www.rediff.com/getahead\">get ahead</a></p>\\n\\t\\t\\t\\t\\t<h5><a onclick=\"trackURL(\\'https://track.rediff.com/click?url=___https%3A%2F%2Fwww.rediff.com%2Fgetahead%2Freport%2Fpix-models-rock-in-their-denim-jackets%2F20200915.htm___&position=5_4_I&label=edit_getahead&c_type=edit_getahead&property=hp_us_pc\\');return false;\" data-relsrc=\"//im.rediff.com/210-170/getahead/2020/sep/14denim-jacket7.jpg\" class=\"img\" href=\"https://www.rediff.com/getahead/report/pix-models-rock-in-their-denim-jackets/20200915.htm\"><img alt=\"PIX: Models ROCK in their denim jackets!\" src=\"//imworld.rediff.com/worldrediff/pix/blank.gif\" /></a></h5>\\t\\t\\t\\t\\t<h2 class=\"hdtitle\"><a onclick=\"trackURL(\\'https://track.rediff.com/click?url=___https%3A%2F%2Fwww.rediff.com%2Fgetahead%2Freport%2Fpix-models-rock-in-their-denim-jackets%2F20200915.htm___&position=5_4_T&label=edit_getahead&c_type=edit_getahead&property=hp_us_pc\\');return false;\"  href=\"https://www.rediff.com/getahead/report/pix-models-rock-in-their-denim-jackets/20200915.htm\">PIX: Models ROCK in their denim jackets!</a></h2>\\n\\t\\t\\t\\t</div>\\t\\t\\t\\t\\t\\t\\t\\t\\t\\t\\t\\t\\t\\t\\t\\t\\t\\t\\t\\t\\t\\t\\t<div class=\"nbox\" data-boxno=\"5_5\" data-track=\"label=edit_business&c_type=edit_business&news=https%3A%2F%2Fwww.rediff.com%2Fbusiness%2Freport%2Fseventy-four-pc-fdi-via-automatic-route-in-defence-sector-allowed%2F20200917.htm\">\\n\\t\\t\\t\\t\\t<p class=\"more\"><a onclick=\"trackURL(\\'https://track.rediff.com/click?url=___https://www.rediff.com/business___&position=5_5_L&label=edit_business&c_type=edit_business&property=hp_us_pc\\');return false;\" class=\"backbusiness\" href=\"https://www.rediff.com/business\">business</a></p>\\n\\t\\t\\t\\t\\t<h5><a onclick=\"trackURL(\\'https://track.rediff.com/click?url=___https%3A%2F%2Fwww.rediff.com%2Fbusiness%2Freport%2Fseventy-four-pc-fdi-via-automatic-route-in-defence-sector-allowed%2F20200917.htm___&position=5_5_I&label=edit_business&c_type=edit_business&property=hp_us_pc\\');return false;\" data-relsrc=\"//im.rediff.com/210-170/money/2020/sep/17defence.jpg\" class=\"img\" href=\"https://www.rediff.com/business/report/seventy-four-pc-fdi-via-automatic-route-in-defence-sector-allowed/20200917.htm\"><img alt=\"74% FDI via automatic route in defence sector allowed\" src=\"//imworld.rediff.com/worldrediff/pix/blank.gif\" /></a></h5>\\t\\t\\t\\t\\t<h2 class=\"hdtitle\"><a onclick=\"trackURL(\\'https://track.rediff.com/click?url=___https%3A%2F%2Fwww.rediff.com%2Fbusiness%2Freport%2Fseventy-four-pc-fdi-via-automatic-route-in-defence-sector-allowed%2F20200917.htm___&position=5_5_T&label=edit_business&c_type=edit_business&property=hp_us_pc\\');return false;\"  href=\"https://www.rediff.com/business/report/seventy-four-pc-fdi-via-automatic-route-in-defence-sector-allowed/20200917.htm\">74% FDI via automatic route in defence sector allowed</a></h2>\\n\\t\\t\\t\\t</div>\\t\\t\\t\\t\\t\\t\\t\\t\\t\\t<i class=\"clear\"></i>\\n\\t\\t\\t\\t\\t\\t\\t\\t\\t\\t\\t\\t\\t<div class=\"secstorybox news\">\\n\\t\\t\\t\\t<h3>News</h3><i class=\"clear\"></i>\\t\\t\\t\\t\\t\\t\\t\\t\\t\\t\\t\\t\\t\\t<h2 class=\"news\" data-boxno=\"6_1-2_1\" data-track=\"label=edit_news&c_type=edit_news&news=https%3A%2F%2Fwww.rediff.com%2Fnews%2Freport%2Fsec-144-reimposed-in-mumbai-but-no-new-lockdown%2F20200917.htm\"><a href=\"https://www.rediff.com/news/report/sec-144-reimposed-in-mumbai-but-no-new-lockdown/20200917.htm\" onclick=\"trackURL(\\'https://track.rediff.com/click?url=___https%3A%2F%2Fwww.rediff.com%2Fnews%2Freport%2Fsec-144-reimposed-in-mumbai-but-no-new-lockdown%2F20200917.htm___&position=6_1-2_1&label=edit_news&c_type=edit_news&property=hp_us_pc\\');return false;\">Sec 144 reimposed in Mumbai but no new lockdown</a></h2>\\n\\t\\t\\t\\t\\t\\t\\t\\t\\t\\t\\t\\t\\t\\t<h2 class=\"news\" data-boxno=\"6_1-2_2\" data-track=\"label=edit_news&c_type=edit_news&news=https%3A%2F%2Fwww.rediff.com%2Fnews%2Freport%2Fchina-made-provocative-military-moves-in-aug-rajnath%2F20200917.htm\"><a href=\"https://www.rediff.com/news/report/china-made-provocative-military-moves-in-aug-rajnath/20200917.htm\" onclick=\"trackURL(\\'https://track.rediff.com/click?url=___https%3A%2F%2Fwww.rediff.com%2Fnews%2Freport%2Fchina-made-provocative-military-moves-in-aug-rajnath%2F20200917.htm___&position=6_1-2_2&label=edit_news&c_type=edit_news&property=hp_us_pc\\');return false;\">No force can stop our troops from patrolling: Rajnath</a></h2>\\n\\t\\t\\t\\t\\t\\t\\t\\t\\t\\t\\t\\t\\t\\t<h2 class=\"news\" data-boxno=\"6_1-2_3\" data-track=\"label=edit_news&c_type=edit_news&news=https%3A%2F%2Fwww.rediff.com%2Fnews%2Fcolumn%2Fhave-sonia-and-rahul-buried-the-congress%2F20200917.htm\"><a href=\"https://www.rediff.com/news/column/have-sonia-and-rahul-buried-the-congress/20200917.htm\" onclick=\"trackURL(\\'https://track.rediff.com/click?url=___https%3A%2F%2Fwww.rediff.com%2Fnews%2Fcolumn%2Fhave-sonia-and-rahul-buried-the-congress%2F20200917.htm___&position=6_1-2_3&label=edit_news&c_type=edit_news&property=hp_us_pc\\');return false;\">Have Sonia and Rahul buried the Congress?</a></h2>\\n\\t\\t\\t\\t\\t\\t\\t\\t\\t\\t\\t\\t\\t\\t<h2 class=\"news\" data-boxno=\"6_1-2_4\" data-track=\"label=edit_news&c_type=edit_news&news=https%3A%2F%2Fwww.rediff.com%2Fnews%2Freport%2Fharsimrats-resignation-mere-theatrics-congress%2F20200917.htm\"><a href=\"https://www.rediff.com/news/report/harsimrats-resignation-mere-theatrics-congress/20200917.htm\" onclick=\"trackURL(\\'https://track.rediff.com/click?url=___https%3A%2F%2Fwww.rediff.com%2Fnews%2Freport%2Fharsimrats-resignation-mere-theatrics-congress%2F20200917.htm___&position=6_1-2_4&label=edit_news&c_type=edit_news&property=hp_us_pc\\');return false;\">Harsimrat\\'s resignation mere theatrics: Congress</a></h2>\\n\\t\\t\\t\\t\\t\\t\\t\\t\\t\\t\\t\\t\\t\\t<h2 class=\"news\" data-boxno=\"6_1-2_5\" data-track=\"label=edit_news&c_type=edit_news&news=https%3A%2F%2Fwww.rediff.com%2Fnews%2Freport%2Fbjp-mp-ashok-gasti-dies-of-covid-19%2F20200918.htm\"><a href=\"https://www.rediff.com/news/report/bjp-mp-ashok-gasti-dies-of-covid-19/20200918.htm\" onclick=\"trackURL(\\'https://track.rediff.com/click?url=___https%3A%2F%2Fwww.rediff.com%2Fnews%2Freport%2Fbjp-mp-ashok-gasti-dies-of-covid-19%2F20200918.htm___&position=6_1-2_5&label=edit_news&c_type=edit_news&property=hp_us_pc\\');return false;\">BJP MP Ashok Gasti dies of COVID-19</a></h2>\\n\\t\\t\\t\\t\\t\\t\\t\\t\\t\\t\\t\\t<p class=\"alignR\"><a href=\"https://www.rediff.com/news\" class=\"morestory\" onclick=\"trackURL(\\'https://track.rediff.com/click?url=___https%3A%2F%2Fwww.rediff.com%2Fnews___&position=6_1-2_M&label=edit_news&c_type=edit_news&property=hp_us_pc\\');return false;\">More News</a></p>\\n\\t\\t\\t\\t\\t\\t\\t\\t\\t\\t\\t</div>\\n\\t\\t\\t\\t\\t\\t\\t\\t\\t\\t\\t\\t\\t\\t\\t\\t\\t\\t\\t<div class=\"nbox\" data-boxno=\"6_3\" data-track=\"label=edit_news&c_type=edit_news&news=https%3A%2F%2Fwww.rediff.com%2Fnews%2Fspecial%2Fpeople-know-why-i-was-sidelined-by-fadnavis%2F20200917.htm\">\\n\\t\\t\\t\\t\\t<p class=\"more\"><a class=\"backnews\" href=\"https://www.rediff.com/news\" onclick=\"trackURL(\\'https://track.rediff.com/click?url=___https://www.rediff.com/news___&position=6_3_L&label=edit_news&c_type=edit_news&property=hp_us_pc\\');return false;\">news</a></p>\\n\\t\\t\\t\\t\\t<h5><a data-relsrc=\"//im.rediff.com/210-170/money/2019/sep/05fadnavis-khadse.jpg\" class=\"img\" href=\"https://www.rediff.com/news/special/people-know-why-i-was-sidelined-by-fadnavis/20200917.htm\" onclick=\"trackURL(\\'https://track.rediff.com/click?url=___https%3A%2F%2Fwww.rediff.com%2Fnews%2Fspecial%2Fpeople-know-why-i-was-sidelined-by-fadnavis%2F20200917.htm___&position=6_3_I&label=edit_news&c_type=edit_news&property=hp_us_pc\\');return false;\"><img alt=\"\\'People know why I was sidelined by Fadnavis\\'\" src=\"//imworld.rediff.com/worldrediff/pix/blank.gif\" /></a></h5>\\t\\t\\t\\t\\t<h2 class=\"hdtitle\"><a href=\"https://www.rediff.com/news/special/people-know-why-i-was-sidelined-by-fadnavis/20200917.htm\" onclick=\"trackURL(\\'https://track.rediff.com/click?url=___https%3A%2F%2Fwww.rediff.com%2Fnews%2Fspecial%2Fpeople-know-why-i-was-sidelined-by-fadnavis%2F20200917.htm___&position=6_3_T&label=edit_news&c_type=edit_news&property=hp_us_pc\\');return false;\">\\'People know why I was sidelined by Fadnavis\\'</a></h2>\\n\\t\\t\\t\\t</div>\\t\\t\\t\\t\\t\\t\\t\\t\\t\\t\\t\\t\\t\\t\\t\\t\\t\\t\\t\\t\\t\\t\\t<div class=\"nbox\" data-boxno=\"6_4\" data-track=\"label=edit_news&c_type=edit_news&news=https%3A%2F%2Fwww.rediff.com%2Fnews%2Freport%2Fpix-army-chief-visits-j-k-to-assess-situation-along-loc%2F20200917.htm\">\\n\\t\\t\\t\\t\\t<p class=\"more\"><a class=\"backnews\" href=\"https://www.rediff.com/news\" onclick=\"trackURL(\\'https://track.rediff.com/click?url=___https://www.rediff.com/news___&position=6_4_L&label=edit_news&c_type=edit_news&property=hp_us_pc\\');return false;\">news</a></p>\\n\\t\\t\\t\\t\\t<h5><a data-relsrc=\"//im.rediff.com/210-170/news/2020/sep/17army-chief3.jpg\" class=\"img\" href=\"https://www.rediff.com/news/report/pix-army-chief-visits-j-k-to-assess-situation-along-loc/20200917.htm\" onclick=\"trackURL(\\'https://track.rediff.com/click?url=___https%3A%2F%2Fwww.rediff.com%2Fnews%2Freport%2Fpix-army-chief-visits-j-k-to-assess-situation-along-loc%2F20200917.htm___&position=6_4_I&label=edit_news&c_type=edit_news&property=hp_us_pc\\');return false;\"><img alt=\"Army Chief visits J-K to assess situation along LoC\" src=\"//imworld.rediff.com/worldrediff/pix/blank.gif\" /></a></h5>\\t\\t\\t\\t\\t<h2 class=\"hdtitle\"><a href=\"https://www.rediff.com/news/report/pix-army-chief-visits-j-k-to-assess-situation-along-loc/20200917.htm\" onclick=\"trackURL(\\'https://track.rediff.com/click?url=___https%3A%2F%2Fwww.rediff.com%2Fnews%2Freport%2Fpix-army-chief-visits-j-k-to-assess-situation-along-loc%2F20200917.htm___&position=6_4_T&label=edit_news&c_type=edit_news&property=hp_us_pc\\');return false;\">Army Chief visits J-K to assess situation along LoC</a></h2>\\n\\t\\t\\t\\t</div>\\t\\t\\t\\t\\t\\t\\t\\t\\t\\t\\t\\t\\t\\t\\t\\t\\t\\t\\t\\t\\t\\t\\t<div class=\"nbox\" data-boxno=\"6_5\" data-track=\"label=edit_news&c_type=edit_news&news=https%3A%2F%2Fwww.rediff.com%2Fnews%2Finterview%2Findian-navy-will-protect-indias-interests-defence%2F20200917.htm\">\\n\\t\\t\\t\\t\\t<p class=\"more\"><a class=\"backnews\" href=\"https://www.rediff.com/news\" onclick=\"trackURL(\\'https://track.rediff.com/click?url=___https://www.rediff.com/news___&position=6_5_L&label=edit_news&c_type=edit_news&property=hp_us_pc\\');return false;\">news</a></p>\\n\\t\\t\\t\\t\\t<h5><a data-relsrc=\"//im.rediff.com/210-170/news/2020/sep/11indian-navy-lead.jpg\" class=\"img\" href=\"https://www.rediff.com/news/interview/indian-navy-will-protect-indias-interests-defence/20200917.htm\" onclick=\"trackURL(\\'https://track.rediff.com/click?url=___https%3A%2F%2Fwww.rediff.com%2Fnews%2Finterview%2Findian-navy-will-protect-indias-interests-defence%2F20200917.htm___&position=6_5_I&label=edit_news&c_type=edit_news&property=hp_us_pc\\');return false;\"><img alt=\"\\'Indian Navy will protect India\\'s interests\\'\" src=\"//imworld.rediff.com/worldrediff/pix/blank.gif\" /></a></h5>\\t\\t\\t\\t\\t<h2 class=\"hdtitle\"><a href=\"https://www.rediff.com/news/interview/indian-navy-will-protect-indias-interests-defence/20200917.htm\" onclick=\"trackURL(\\'https://track.rediff.com/click?url=___https%3A%2F%2Fwww.rediff.com%2Fnews%2Finterview%2Findian-navy-will-protect-indias-interests-defence%2F20200917.htm___&position=6_5_T&label=edit_news&c_type=edit_news&property=hp_us_pc\\');return false;\">\\'Indian Navy will protect India\\'s interests\\'</a></h2>\\n\\t\\t\\t\\t</div>\\t\\t\\t\\t\\t\\t\\t\\t\\t\\t\\t\\n\\t\\t<i class=\"clear\"></i>\\n\\t\\t\\n\\t\\t\\t\\n\\t\\t\\t\\n\\t\\t\\t\\t\\t\\t\\t\\t\\t\\t\\t\\t<div class=\"secstorybox news\">\\n\\t\\t\\t\\t<h3>News</h3><i class=\"clear\"></i>\\t\\t\\t\\t\\t\\t\\t\\t\\t\\t\\t\\t\\t\\t<h2 class=\"news\" data-boxno=\"7_1-2_1\" data-track=\"label=edit_news&c_type=edit_news&news=https%3A%2F%2Fwww.rediff.com%2Fnews%2Freport%2Fprovided-strong-support-to-india-during-lac-row-us%2F20200917.htm\"><a href=\"https://www.rediff.com/news/report/provided-strong-support-to-india-during-lac-row-us/20200917.htm\" onclick=\"trackURL(\\'https://track.rediff.com/click?url=___https%3A%2F%2Fwww.rediff.com%2Fnews%2Freport%2Fprovided-strong-support-to-india-during-lac-row-us%2F20200917.htm___&position=7_1-2_1&label=edit_news&c_type=edit_news&property=hp_us_pc\\');return false;\">Provided \\'strong support\\' to India during LAC row: US</a></h2>\\n\\t\\t\\t\\t\\t\\t\\t\\t\\t\\t\\t\\t\\t\\t<h2 class=\"news\" data-boxno=\"7_1-2_2\" data-track=\"label=edit_news&c_type=edit_news&news=https%3A%2F%2Fwww.rediff.com%2Fnews%2Freport%2Findia-desires-to-have-normal-relations-with-pak-govt%2F20200917.htm\"><a href=\"https://www.rediff.com/news/report/india-desires-to-have-normal-relations-with-pak-govt/20200917.htm\" onclick=\"trackURL(\\'https://track.rediff.com/click?url=___https%3A%2F%2Fwww.rediff.com%2Fnews%2Freport%2Findia-desires-to-have-normal-relations-with-pak-govt%2F20200917.htm___&position=7_1-2_2&label=edit_news&c_type=edit_news&property=hp_us_pc\\');return false;\">India desires to have normal relations with Pak: Govt</a></h2>\\n\\t\\t\\t\\t\\t\\t\\t\\t\\t\\t\\t\\t\\t\\t<h2 class=\"news\" data-boxno=\"7_1-2_3\" data-track=\"label=edit_news&c_type=edit_news&news=https%3A%2F%2Fwww.rediff.com%2Fnews%2Freport%2Fa-rajput-cant-hang-himself-bihar-mla-on-sushant%2F20200917.htm\"><a href=\"https://www.rediff.com/news/report/a-rajput-cant-hang-himself-bihar-mla-on-sushant/20200917.htm\" onclick=\"trackURL(\\'https://track.rediff.com/click?url=___https%3A%2F%2Fwww.rediff.com%2Fnews%2Freport%2Fa-rajput-cant-hang-himself-bihar-mla-on-sushant%2F20200917.htm___&position=7_1-2_3&label=edit_news&c_type=edit_news&property=hp_us_pc\\');return false;\">A Rajput can\\'t hang himself: Bihar MLA on Sushant</a></h2>\\n\\t\\t\\t\\t\\t\\t\\t\\t\\t\\t\\t\\t\\t\\t<h2 class=\"news\" data-boxno=\"7_1-2_4\" data-track=\"label=edit_news&c_type=edit_news&news=https%3A%2F%2Fwww.rediff.com%2Fnews%2Freport%2Findia-target-of-5-chinese-hackers-charged-in-us%2F20200917.htm\"><a href=\"https://www.rediff.com/news/report/india-target-of-5-chinese-hackers-charged-in-us/20200917.htm\" onclick=\"trackURL(\\'https://track.rediff.com/click?url=___https%3A%2F%2Fwww.rediff.com%2Fnews%2Freport%2Findia-target-of-5-chinese-hackers-charged-in-us%2F20200917.htm___&position=7_1-2_4&label=edit_news&c_type=edit_news&property=hp_us_pc\\');return false;\">India target of 5 Chinese hackers charged in US</a></h2>\\n\\t\\t\\t\\t\\t\\t\\t\\t\\t\\t\\t\\t\\t\\t<h2 class=\"news\" data-boxno=\"7_1-2_5\" data-track=\"label=edit_news&c_type=edit_news&news=https%3A%2F%2Fwww.rediff.com%2Fnews%2Freport%2Fthree-terrorists-woman-killed-in-encounter-in-j-k%2F20200917.htm\"><a href=\"https://www.rediff.com/news/report/three-terrorists-woman-killed-in-encounter-in-j-k/20200917.htm\" onclick=\"trackURL(\\'https://track.rediff.com/click?url=___https%3A%2F%2Fwww.rediff.com%2Fnews%2Freport%2Fthree-terrorists-woman-killed-in-encounter-in-j-k%2F20200917.htm___&position=7_1-2_5&label=edit_news&c_type=edit_news&property=hp_us_pc\\');return false;\">3 terrorists, woman killed in encounter in J-K</a></h2>\\n\\t\\t\\t\\t\\t\\t\\t\\t\\t\\t\\t\\t<p class=\"alignR\"><a href=\"https://www.rediff.com/news\" class=\"morestory\" onclick=\"trackURL(\\'https://track.rediff.com/click?url=___https%3A%2F%2Fwww.rediff.com%2Fnews___&position=7_1-2_M&label=edit_news&c_type=edit_news&property=hp_us_pc\\');return false;\">More News</a></p>\\n\\t\\t\\t\\t\\t\\t\\t\\t\\t\\t\\t</div>\\n\\t\\t\\t\\t\\t\\t\\t\\t\\t\\t\\t\\t\\t\\t\\t\\t\\t\\t\\t<div class=\"nbox\" data-boxno=\"7_3\" data-track=\"label=edit_news&c_type=edit_news&news=https%3A%2F%2Fwww.rediff.com%2Fnews%2Freport%2Fwishes-pour-in-as-pm-modi-turns-70%2F20200917.htm\">\\n\\t\\t\\t\\t\\t<p class=\"more\"><a class=\"backnews\" href=\"https://www.rediff.com/news\" onclick=\"trackURL(\\'https://track.rediff.com/click?url=___https://www.rediff.com/news___&position=7_3_L&label=edit_news&c_type=edit_news&property=hp_us_pc\\');return false;\">news</a></p>\\n\\t\\t\\t\\t\\t<h5><a data-relsrc=\"//im.rediff.com/210-170/news/2020/sep/17pm-bday6.jpg\" class=\"img\" href=\"https://www.rediff.com/news/report/wishes-pour-in-as-pm-modi-turns-70/20200917.htm\" onclick=\"trackURL(\\'https://track.rediff.com/click?url=___https%3A%2F%2Fwww.rediff.com%2Fnews%2Freport%2Fwishes-pour-in-as-pm-modi-turns-70%2F20200917.htm___&position=7_3_I&label=edit_news&c_type=edit_news&property=hp_us_pc\\');return false;\"><img alt=\"Wishes pour in as PM Modi turns 70\" src=\"//imworld.rediff.com/worldrediff/pix/blank.gif\" /></a></h5>\\t\\t\\t\\t\\t<h2 class=\"hdtitle\"><a href=\"https://www.rediff.com/news/report/wishes-pour-in-as-pm-modi-turns-70/20200917.htm\" onclick=\"trackURL(\\'https://track.rediff.com/click?url=___https%3A%2F%2Fwww.rediff.com%2Fnews%2Freport%2Fwishes-pour-in-as-pm-modi-turns-70%2F20200917.htm___&position=7_3_T&label=edit_news&c_type=edit_news&property=hp_us_pc\\');return false;\">Wishes pour in as PM Modi turns 70</a></h2>\\n\\t\\t\\t\\t</div>\\t\\t\\t\\t\\t\\t\\t\\t\\t\\t\\t\\t\\t\\t\\t\\t\\t\\t\\t\\t\\t\\t\\t<div class=\"nbox\" data-boxno=\"7_4\" data-track=\"label=edit_news&c_type=edit_news&news=https%3A%2F%2Fwww.rediff.com%2Fnews%2Freport%2Fdoms-take-kanganas-comet%2F20200917.htm\">\\n\\t\\t\\t\\t\\t<p class=\"more\"><a class=\"backnews\" href=\"https://www.rediff.com/news\" onclick=\"trackURL(\\'https://track.rediff.com/click?url=___https://www.rediff.com/news___&position=7_4_L&label=edit_news&c_type=edit_news&property=hp_us_pc\\');return false;\">news</a></p>\\n\\t\\t\\t\\t\\t<h5><a data-relsrc=\"https://im.rediff.com/210-170/news/2020/sep/17doms-take-kangana.jpg\" class=\"img\" href=\"https://www.rediff.com/news/report/doms-take-kanganas-comet/20200917.htm\" onclick=\"trackURL(\\'https://track.rediff.com/click?url=___https%3A%2F%2Fwww.rediff.com%2Fnews%2Freport%2Fdoms-take-kanganas-comet%2F20200917.htm___&position=7_4_I&label=edit_news&c_type=edit_news&property=hp_us_pc\\');return false;\"><img alt=\"Dom\\'s Take: Kangana\\'s Comet\" src=\"//imworld.rediff.com/worldrediff/pix/blank.gif\" /></a></h5>\\t\\t\\t\\t\\t<h2 class=\"hdtitle\"><a href=\"https://www.rediff.com/news/report/doms-take-kanganas-comet/20200917.htm\" onclick=\"trackURL(\\'https://track.rediff.com/click?url=___https%3A%2F%2Fwww.rediff.com%2Fnews%2Freport%2Fdoms-take-kanganas-comet%2F20200917.htm___&position=7_4_T&label=edit_news&c_type=edit_news&property=hp_us_pc\\');return false;\">Dom\\'s Take: Kangana\\'s Comet</a></h2>\\n\\t\\t\\t\\t</div>\\t\\t\\t\\t\\t\\t\\t\\t\\t\\t\\t\\t\\t\\t\\t\\t\\t\\t\\t\\t\\t\\t\\t<div class=\"nbox\" data-boxno=\"7_5\" data-track=\"label=edit_news&c_type=edit_news&news=https%3A%2F%2Fwww.rediff.com%2Fnews%2Freport%2Fwhat-the-new-mosque-in-ayodhya-will-look-like%2F20200917.htm\">\\n\\t\\t\\t\\t\\t<p class=\"more\"><a class=\"backnews\" href=\"https://www.rediff.com/news\" onclick=\"trackURL(\\'https://track.rediff.com/click?url=___https://www.rediff.com/news___&position=7_5_L&label=edit_news&c_type=edit_news&property=hp_us_pc\\');return false;\">news</a></p>\\n\\t\\t\\t\\t\\t<h5><a data-relsrc=\"//im.rediff.com/210-170/news/2020/sep/15dhannipur.jpg\" class=\"img\" href=\"https://www.rediff.com/news/report/what-the-new-mosque-in-ayodhya-will-look-like/20200917.htm\" onclick=\"trackURL(\\'https://track.rediff.com/click?url=___https%3A%2F%2Fwww.rediff.com%2Fnews%2Freport%2Fwhat-the-new-mosque-in-ayodhya-will-look-like%2F20200917.htm___&position=7_5_I&label=edit_news&c_type=edit_news&property=hp_us_pc\\');return false;\"><img alt=\"What the new mosque in Ayodhya will look like\" src=\"//imworld.rediff.com/worldrediff/pix/blank.gif\" /></a></h5>\\t\\t\\t\\t\\t<h2 class=\"hdtitle\"><a href=\"https://www.rediff.com/news/report/what-the-new-mosque-in-ayodhya-will-look-like/20200917.htm\" onclick=\"trackURL(\\'https://track.rediff.com/click?url=___https%3A%2F%2Fwww.rediff.com%2Fnews%2Freport%2Fwhat-the-new-mosque-in-ayodhya-will-look-like%2F20200917.htm___&position=7_5_T&label=edit_news&c_type=edit_news&property=hp_us_pc\\');return false;\">What the new mosque in Ayodhya will look like</a></h2>\\n\\t\\t\\t\\t</div>\\t\\t\\t\\t\\t\\t\\t\\t\\t\\t\\t\\n\\t\\t<i class=\"clear\"></i>\\n\\t\\t\\n\\t\\t\\t\\n\\t\\t\\t\\n\\t\\t\\t\\t\\t\\t\\t\\t\\t\\t\\t\\t<div class=\"secstorybox movies\">\\n\\t\\t\\t\\t<h3>Movies</h3><i class=\"clear\"></i>\\t\\t\\t\\t\\t\\t\\t\\t\\t\\t\\t\\t\\t\\t<h2 class=\"movies\" data-boxno=\"8_1-2_1\" data-track=\"label=edit_movies&c_type=edit_movies&news=https%3A%2F%2Fwww.rediff.com%2Fmovies%2Freport%2Fwho-is-taapsee-laughing-at%2F20200911.htm\"><a href=\"https://www.rediff.com/movies/report/who-is-taapsee-laughing-at/20200911.htm\" onclick=\"trackURL(\\'https://track.rediff.com/click?url=___https%3A%2F%2Fwww.rediff.com%2Fmovies%2Freport%2Fwho-is-taapsee-laughing-at%2F20200911.htm___&position=8_1-2_1&label=edit_movies&c_type=edit_movies&property=hp_us_pc\\');return false;\">Who is Taapsee laughing at?</a></h2>\\n\\t\\t\\t\\t\\t\\t\\t\\t\\t\\t\\t\\t\\t\\t<h2 class=\"movies\" data-boxno=\"8_1-2_2\" data-track=\"label=edit_movies&c_type=edit_movies&news=https%3A%2F%2Fwww.rediff.com%2Fmovies%2Freport%2Frevealed-what-sushant-did-for-dil-bechara%2F20200911.htm\"><a href=\"https://www.rediff.com/movies/report/revealed-what-sushant-did-for-dil-bechara/20200911.htm\" onclick=\"trackURL(\\'https://track.rediff.com/click?url=___https%3A%2F%2Fwww.rediff.com%2Fmovies%2Freport%2Frevealed-what-sushant-did-for-dil-bechara%2F20200911.htm___&position=8_1-2_2&label=edit_movies&c_type=edit_movies&property=hp_us_pc\\');return false;\">Revealed: What Sushant did for Dil Bechara</a></h2>\\n\\t\\t\\t\\t\\t\\t\\t\\t\\t\\t\\t\\t\\t\\t<h2 class=\"movies\" data-boxno=\"8_1-2_3\" data-track=\"label=edit_movies&c_type=edit_movies&news=https%3A%2F%2Fwww.rediff.com%2Fmovies%2Freport%2Fpix-sunny-leones-life-in-la%2F20200911.htm\"><a href=\"https://www.rediff.com/movies/report/pix-sunny-leones-life-in-la/20200911.htm\" onclick=\"trackURL(\\'https://track.rediff.com/click?url=___https%3A%2F%2Fwww.rediff.com%2Fmovies%2Freport%2Fpix-sunny-leones-life-in-la%2F20200911.htm___&position=8_1-2_3&label=edit_movies&c_type=edit_movies&property=hp_us_pc\\');return false;\">PIX: Sunny Leone\\'s life in LA!</a></h2>\\n\\t\\t\\t\\t\\t\\t\\t\\t\\t\\t\\t\\t\\t\\t<h2 class=\"movies\" data-boxno=\"8_1-2_4\" data-track=\"label=edit_movies&c_type=edit_movies&news=https%3A%2F%2Fwww.rediff.com%2Fmovies%2Freport%2Feven-if-you-go-to-buy-vegetables-you-must-look-good%2F20200914.htm\"><a href=\"https://www.rediff.com/movies/report/even-if-you-go-to-buy-vegetables-you-must-look-good/20200914.htm\" onclick=\"trackURL(\\'https://track.rediff.com/click?url=___https%3A%2F%2Fwww.rediff.com%2Fmovies%2Freport%2Feven-if-you-go-to-buy-vegetables-you-must-look-good%2F20200914.htm___&position=8_1-2_4&label=edit_movies&c_type=edit_movies&property=hp_us_pc\\');return false;\">\\'Even if you go to buy vegetables, you must look good\\'</a></h2>\\n\\t\\t\\t\\t\\t\\t\\t\\t\\t\\t\\t\\t\\t\\t<h2 class=\"movies\" data-boxno=\"8_1-2_5\" data-track=\"label=edit_movies&c_type=edit_movies&news=https%3A%2F%2Fwww.rediff.com%2Fmovies%2Freview%2Fwakaalat-from-home-review%2F20200914.htm\"><a href=\"https://www.rediff.com/movies/review/wakaalat-from-home-review/20200914.htm\" onclick=\"trackURL(\\'https://track.rediff.com/click?url=___https%3A%2F%2Fwww.rediff.com%2Fmovies%2Freview%2Fwakaalat-from-home-review%2F20200914.htm___&position=8_1-2_5&label=edit_movies&c_type=edit_movies&property=hp_us_pc\\');return false;\">Wakaalat From Home review</a></h2>\\n\\t\\t\\t\\t\\t\\t\\t\\t\\t\\t\\t\\t<p class=\"alignR\"><a href=\"https://www.rediff.com/movies\" class=\"morestory\" onclick=\"trackURL(\\'https://track.rediff.com/click?url=___https%3A%2F%2Fwww.rediff.com%2Fmovies___&position=8_1-2_M&label=edit_movies&c_type=edit_movies&property=hp_us_pc\\');return false;\">More Movies</a></p>\\n\\t\\t\\t\\t\\t\\t\\t\\t\\t\\t\\t</div>\\n\\t\\t\\t\\t\\t\\t\\t\\t\\t\\t\\t\\t\\t\\t\\t\\t\\t\\t\\t<div class=\"nbox\" data-boxno=\"8_3\" data-track=\"label=edit_movies&c_type=edit_movies&news=https%3A%2F%2Fwww.rediff.com%2Fmovies%2Freport%2Fcan-you-identify-this-actor%2F20200915.htm\">\\n\\t\\t\\t\\t\\t<p class=\"more\"><a class=\"backmovies\" href=\"https://www.rediff.com/movies\" onclick=\"trackURL(\\'https://track.rediff.com/click?url=___https://www.rediff.com/movies___&position=8_3_L&label=edit_movies&c_type=edit_movies&property=hp_us_pc\\');return false;\">movies</a></p>\\n\\t\\t\\t\\t\\t<h5><a data-relsrc=\"//im.rediff.com/210-170/movies/2020/sep/15harami-lead1.jpg\" class=\"img\" href=\"https://www.rediff.com/movies/report/can-you-identify-this-actor/20200915.htm\" onclick=\"trackURL(\\'https://track.rediff.com/click?url=___https%3A%2F%2Fwww.rediff.com%2Fmovies%2Freport%2Fcan-you-identify-this-actor%2F20200915.htm___&position=8_3_I&label=edit_movies&c_type=edit_movies&property=hp_us_pc\\');return false;\"><img alt=\"Can you identify this actor?\" src=\"//imworld.rediff.com/worldrediff/pix/blank.gif\" /></a></h5>\\t\\t\\t\\t\\t<h2 class=\"hdtitle\"><a href=\"https://www.rediff.com/movies/report/can-you-identify-this-actor/20200915.htm\" onclick=\"trackURL(\\'https://track.rediff.com/click?url=___https%3A%2F%2Fwww.rediff.com%2Fmovies%2Freport%2Fcan-you-identify-this-actor%2F20200915.htm___&position=8_3_T&label=edit_movies&c_type=edit_movies&property=hp_us_pc\\');return false;\">Can you identify this actor?</a></h2>\\n\\t\\t\\t\\t</div>\\t\\t\\t\\t\\t\\t\\t\\t\\t\\t\\t\\t\\t\\t\\t\\t\\t\\t\\t\\t\\t\\t\\t<div class=\"nbox\" data-boxno=\"8_4\" data-track=\"label=edit_movies&c_type=edit_movies&news=https%3A%2F%2Fwww.rediff.com%2Fmovies%2Freport%2Fwhat-makes-vaani-kapoor-happy%2F20200916.htm\">\\n\\t\\t\\t\\t\\t<p class=\"more\"><a class=\"backmovies\" href=\"https://www.rediff.com/movies\" onclick=\"trackURL(\\'https://track.rediff.com/click?url=___https://www.rediff.com/movies___&position=8_4_L&label=edit_movies&c_type=edit_movies&property=hp_us_pc\\');return false;\">movies</a></p>\\n\\t\\t\\t\\t\\t<h5><a data-relsrc=\"//im.rediff.com/210-170/movies/2020/sep/16insta-lead3.jpg\" class=\"img\" href=\"https://www.rediff.com/movies/report/what-makes-vaani-kapoor-happy/20200916.htm\" onclick=\"trackURL(\\'https://track.rediff.com/click?url=___https%3A%2F%2Fwww.rediff.com%2Fmovies%2Freport%2Fwhat-makes-vaani-kapoor-happy%2F20200916.htm___&position=8_4_I&label=edit_movies&c_type=edit_movies&property=hp_us_pc\\');return false;\"><img alt=\"What makes Vaani Kapoor happy?\" src=\"//imworld.rediff.com/worldrediff/pix/blank.gif\" /></a></h5>\\t\\t\\t\\t\\t<h2 class=\"hdtitle\"><a href=\"https://www.rediff.com/movies/report/what-makes-vaani-kapoor-happy/20200916.htm\" onclick=\"trackURL(\\'https://track.rediff.com/click?url=___https%3A%2F%2Fwww.rediff.com%2Fmovies%2Freport%2Fwhat-makes-vaani-kapoor-happy%2F20200916.htm___&position=8_4_T&label=edit_movies&c_type=edit_movies&property=hp_us_pc\\');return false;\">What makes Vaani Kapoor happy?</a></h2>\\n\\t\\t\\t\\t</div>\\t\\t\\t\\t\\t\\t\\t\\t\\t\\t\\t\\t\\t\\t\\t\\t\\t\\t\\t\\t\\t\\t\\t<div class=\"nbox\" data-boxno=\"8_5\" data-track=\"label=edit_movies&c_type=edit_movies&news=https%3A%2F%2Fwww.rediff.com%2Fmovies%2Freport%2Fbramhastra-gets-a-budget-cut-fighter-marches-on%2F20200916.htm\">\\n\\t\\t\\t\\t\\t<p class=\"more\"><a class=\"backmovies\" href=\"https://www.rediff.com/movies\" onclick=\"trackURL(\\'https://track.rediff.com/click?url=___https://www.rediff.com/movies___&position=8_5_L&label=edit_movies&c_type=edit_movies&property=hp_us_pc\\');return false;\">movies</a></p>\\n\\t\\t\\t\\t\\t<h5><a data-relsrc=\"//im.rediff.com/210-170/movies/2020/sep/16ranbir-lead1.jpg\" class=\"img\" href=\"https://www.rediff.com/movies/report/bramhastra-gets-a-budget-cut-fighter-marches-on/20200916.htm\" onclick=\"trackURL(\\'https://track.rediff.com/click?url=___https%3A%2F%2Fwww.rediff.com%2Fmovies%2Freport%2Fbramhastra-gets-a-budget-cut-fighter-marches-on%2F20200916.htm___&position=8_5_I&label=edit_movies&c_type=edit_movies&property=hp_us_pc\\');return false;\"><img alt=\"Bramhastra gets a budget cut, Fighter marches on\" src=\"//imworld.rediff.com/worldrediff/pix/blank.gif\" /></a></h5>\\t\\t\\t\\t\\t<h2 class=\"hdtitle\"><a href=\"https://www.rediff.com/movies/report/bramhastra-gets-a-budget-cut-fighter-marches-on/20200916.htm\" onclick=\"trackURL(\\'https://track.rediff.com/click?url=___https%3A%2F%2Fwww.rediff.com%2Fmovies%2Freport%2Fbramhastra-gets-a-budget-cut-fighter-marches-on%2F20200916.htm___&position=8_5_T&label=edit_movies&c_type=edit_movies&property=hp_us_pc\\');return false;\">Bramhastra gets a budget cut, Fighter marches on</a></h2>\\n\\t\\t\\t\\t</div>\\t\\t\\t\\t\\t\\t\\t\\t\\t\\t\\t\\n\\t\\t<i class=\"clear\"></i>\\n\\t\\t\\n\\t\\t\\t\\n\\t\\t\\t\\n\\t\\t\\t\\t\\t\\t\\t\\t\\t\\t\\t\\t<div class=\"secstorybox sports\">\\n\\t\\t\\t\\t<h3>Cricket & Sports</h3><i class=\"clear\"></i>\\t\\t\\t\\t\\t\\t\\t\\t\\t\\t\\t\\t\\t\\t<h2 class=\"cricket\" data-boxno=\"9_1-2_1\" data-track=\"label=edit_cricketsports&c_type=edit_cricket&news=https%3A%2F%2Fwww.rediff.com%2Fcricket%2Freport%2Fmalingas-experience-will-be-missed-says-rohit-ipl%2F20200917.htm\"><a href=\"https://www.rediff.com/cricket/report/malingas-experience-will-be-missed-says-rohit-ipl/20200917.htm\" onclick=\"trackURL(\\'https://track.rediff.com/click?url=___https%3A%2F%2Fwww.rediff.com%2Fcricket%2Freport%2Fmalingas-experience-will-be-missed-says-rohit-ipl%2F20200917.htm___&position=9_1-2_1&label=edit_cricketsports&c_type=edit_cricket&property=hp_us_pc\\');return false;\">Malinga\\'s experience will be missed, says Rohit</a></h2>\\n\\t\\t\\t\\t\\t\\t\\t\\t\\t\\t\\t\\t\\t\\t<h2 class=\"cricket\" data-boxno=\"9_1-2_2\" data-track=\"label=edit_cricketsports&c_type=edit_cricket&news=https%3A%2F%2Fwww.rediff.com%2Fcricket%2Fspecial%2Fipl-2020-meet-royal-challengers-bangalore%2F20200917.htm\"><a href=\"https://www.rediff.com/cricket/special/ipl-2020-meet-royal-challengers-bangalore/20200917.htm\" onclick=\"trackURL(\\'https://track.rediff.com/click?url=___https%3A%2F%2Fwww.rediff.com%2Fcricket%2Fspecial%2Fipl-2020-meet-royal-challengers-bangalore%2F20200917.htm___&position=9_1-2_2&label=edit_cricketsports&c_type=edit_cricket&property=hp_us_pc\\');return false;\">IPL 2020: Meet Royal Challengers Bangalore</a></h2>\\n\\t\\t\\t\\t\\t\\t\\t\\t\\t\\t\\t\\t\\t\\t<h2 class=\"cricket\" data-boxno=\"9_1-2_3\" data-track=\"label=edit_cricketsports&c_type=edit_cricket&news=https%3A%2F%2Fwww.rediff.com%2Fcricket%2Freport%2Fipl-2020-meet-the-kolkata-knight-riders%2F20200917.htm\"><a href=\"https://www.rediff.com/cricket/report/ipl-2020-meet-the-kolkata-knight-riders/20200917.htm\" onclick=\"trackURL(\\'https://track.rediff.com/click?url=___https%3A%2F%2Fwww.rediff.com%2Fcricket%2Freport%2Fipl-2020-meet-the-kolkata-knight-riders%2F20200917.htm___&position=9_1-2_3&label=edit_cricketsports&c_type=edit_cricket&property=hp_us_pc\\');return false;\">IPL 2020: Meet the Kolkata Knight Riders</a></h2>\\n\\t\\t\\t\\t\\t\\t\\t\\t\\t\\t\\t\\t\\t\\t<h2 class=\"sports\" data-boxno=\"9_1-2_4\" data-track=\"label=edit_cricketsports&c_type=edit_sports&news=https%3A%2F%2Fwww.rediff.com%2Fsports%2Freport%2Fkohli-hima-extend-birthday-greetings-to-pm-modi%2F20200917.htm\"><a href=\"https://www.rediff.com/sports/report/kohli-hima-extend-birthday-greetings-to-pm-modi/20200917.htm\" onclick=\"trackURL(\\'https://track.rediff.com/click?url=___https%3A%2F%2Fwww.rediff.com%2Fsports%2Freport%2Fkohli-hima-extend-birthday-greetings-to-pm-modi%2F20200917.htm___&position=9_1-2_4&label=edit_cricketsports&c_type=edit_sports&property=hp_us_pc\\');return false;\">Kohli, Hima extend birthday greetings to PM Modi</a></h2>\\n\\t\\t\\t\\t\\t\\t\\t\\t\\t\\t\\t\\t\\t\\t<h2 class=\"cricket\" data-boxno=\"9_1-2_5\" data-track=\"label=edit_cricketsports&c_type=edit_cricket&news=https%3A%2F%2Fwww.rediff.com%2Fcricket%2Freport%2Fsmiths-concussion-rajasthan-royals-in-question-mark-ipl%2F20200917.htm\"><a href=\"https://www.rediff.com/cricket/report/smiths-concussion-rajasthan-royals-in-question-mark-ipl/20200917.htm\" onclick=\"trackURL(\\'https://track.rediff.com/click?url=___https%3A%2F%2Fwww.rediff.com%2Fcricket%2Freport%2Fsmiths-concussion-rajasthan-royals-in-question-mark-ipl%2F20200917.htm___&position=9_1-2_5&label=edit_cricketsports&c_type=edit_cricket&property=hp_us_pc\\');return false;\">Smith\\'s concussion: Rajasthan Royals in question mark</a></h2>\\n\\t\\t\\t\\t\\t\\t\\t\\t\\t\\t\\t\\t<p class=\"alignR\"><a href=\"https://www.rediff.com/sports\" class=\"morestory\" onclick=\"trackURL(\\'https://track.rediff.com/click?url=___https%3A%2F%2Fwww.rediff.com%2Fsports___&position=9_1-2_M&label=edit_cricketsports&c_type=edit_cricketsports&property=hp_us_pc\\');return false;\">More Cricket & Sports</a></p>\\n\\t\\t\\t\\t\\t\\t\\t\\t\\t\\t\\t</div>\\n\\t\\t\\t\\t\\t\\t\\t\\t\\t\\t\\t\\t\\t\\t\\t\\t\\t\\t\\t<div class=\"nbox\" data-boxno=\"9_3\" data-track=\"label=edit_cricket&c_type=edit_cricket&news=https%3A%2F%2Fwww.rediff.com%2Fcricket%2Fspecial%2Fipl-2020-watch-out-for-these-batsmen%2F20200916.htm\">\\n\\t\\t\\t\\t\\t<p class=\"more\"><a class=\"backcricket\" href=\"https://www.rediff.com/cricket\" onclick=\"trackURL(\\'https://track.rediff.com/click?url=___https://www.rediff.com/cricket___&position=9_3_L&label=edit_cricket&c_type=edit_cricket&property=hp_us_pc\\');return false;\">cricket</a></p>\\n\\t\\t\\t\\t\\t<h5><a data-relsrc=\"//im.rediff.com/210-170/cricket/2020/sep/16rahul.jpg\" class=\"img\" href=\"https://www.rediff.com/cricket/special/ipl-2020-watch-out-for-these-batsmen/20200916.htm\" onclick=\"trackURL(\\'https://track.rediff.com/click?url=___https%3A%2F%2Fwww.rediff.com%2Fcricket%2Fspecial%2Fipl-2020-watch-out-for-these-batsmen%2F20200916.htm___&position=9_3_I&label=edit_cricket&c_type=edit_cricket&property=hp_us_pc\\');return false;\"><img alt=\"IPL 2020: Watch out for these batsmen!\" src=\"//imworld.rediff.com/worldrediff/pix/blank.gif\" /></a></h5>\\t\\t\\t\\t\\t<h2 class=\"hdtitle\"><a href=\"https://www.rediff.com/cricket/special/ipl-2020-watch-out-for-these-batsmen/20200916.htm\" onclick=\"trackURL(\\'https://track.rediff.com/click?url=___https%3A%2F%2Fwww.rediff.com%2Fcricket%2Fspecial%2Fipl-2020-watch-out-for-these-batsmen%2F20200916.htm___&position=9_3_T&label=edit_cricket&c_type=edit_cricket&property=hp_us_pc\\');return false;\">IPL 2020: Watch out for these batsmen!</a></h2>\\n\\t\\t\\t\\t</div>\\t\\t\\t\\t\\t\\t\\t\\t\\t\\t\\t\\t\\t\\t\\t\\t\\t\\t\\t\\t\\t\\t\\t<div class=\"nbox\" data-boxno=\"9_4\" data-track=\"label=edit_cricket&c_type=edit_cricket&news=https%3A%2F%2Fwww.rediff.com%2Fcricket%2Freport%2Fsaiyami-is-dressed-up-and-ready-for-ipl%2F20200915.htm\">\\n\\t\\t\\t\\t\\t<p class=\"more\"><a class=\"backcricket\" href=\"https://www.rediff.com/cricket\" onclick=\"trackURL(\\'https://track.rediff.com/click?url=___https://www.rediff.com/cricket___&position=9_4_L&label=edit_cricket&c_type=edit_cricket&property=hp_us_pc\\');return false;\">cricket</a></p>\\n\\t\\t\\t\\t\\t<h5><a data-relsrc=\"//im.rediff.com/210-170/cricket/2020/sep/15siyami1.jpg\" class=\"img\" href=\"https://www.rediff.com/cricket/report/saiyami-is-dressed-up-and-ready-for-ipl/20200915.htm\" onclick=\"trackURL(\\'https://track.rediff.com/click?url=___https%3A%2F%2Fwww.rediff.com%2Fcricket%2Freport%2Fsaiyami-is-dressed-up-and-ready-for-ipl%2F20200915.htm___&position=9_4_I&label=edit_cricket&c_type=edit_cricket&property=hp_us_pc\\');return false;\"><img alt=\"Saiyami is dressed up and ready for IPL\" src=\"//imworld.rediff.com/worldrediff/pix/blank.gif\" /></a></h5>\\t\\t\\t\\t\\t<h2 class=\"hdtitle\"><a href=\"https://www.rediff.com/cricket/report/saiyami-is-dressed-up-and-ready-for-ipl/20200915.htm\" onclick=\"trackURL(\\'https://track.rediff.com/click?url=___https%3A%2F%2Fwww.rediff.com%2Fcricket%2Freport%2Fsaiyami-is-dressed-up-and-ready-for-ipl%2F20200915.htm___&position=9_4_T&label=edit_cricket&c_type=edit_cricket&property=hp_us_pc\\');return false;\">Saiyami is dressed up and ready for IPL</a></h2>\\n\\t\\t\\t\\t</div>\\t\\t\\t\\t\\t\\t\\t\\t\\t\\t\\t\\t\\t\\t\\t\\t\\t\\t\\t\\t\\t\\t\\t<div class=\"nbox\" data-boxno=\"9_5\" data-track=\"label=edit_cricket&c_type=edit_cricket&news=https%3A%2F%2Fwww.rediff.com%2Fcricket%2Freport%2Fipl-dhoni-brings-out-the-helicopter-in-dubai%2F20200916.htm\">\\n\\t\\t\\t\\t\\t<p class=\"more\"><a class=\"backcricket\" href=\"https://www.rediff.com/cricket\" onclick=\"trackURL(\\'https://track.rediff.com/click?url=___https://www.rediff.com/cricket___&position=9_5_L&label=edit_cricket&c_type=edit_cricket&property=hp_us_pc\\');return false;\">cricket</a></p>\\n\\t\\t\\t\\t\\t<h5><a data-relsrc=\"//im.rediff.com/210-170/cricket/2020/sep/15csk1.jpg\" class=\"img\" href=\"https://www.rediff.com/cricket/report/ipl-dhoni-brings-out-the-helicopter-in-dubai/20200916.htm\" onclick=\"trackURL(\\'https://track.rediff.com/click?url=___https%3A%2F%2Fwww.rediff.com%2Fcricket%2Freport%2Fipl-dhoni-brings-out-the-helicopter-in-dubai%2F20200916.htm___&position=9_5_I&label=edit_cricket&c_type=edit_cricket&property=hp_us_pc\\');return false;\"><img alt=\"IPL: Dhoni brings out the \\'helicopter\\' in Dubai\" src=\"//imworld.rediff.com/worldrediff/pix/blank.gif\" /></a></h5>\\t\\t\\t\\t\\t<h2 class=\"hdtitle\"><a href=\"https://www.rediff.com/cricket/report/ipl-dhoni-brings-out-the-helicopter-in-dubai/20200916.htm\" onclick=\"trackURL(\\'https://track.rediff.com/click?url=___https%3A%2F%2Fwww.rediff.com%2Fcricket%2Freport%2Fipl-dhoni-brings-out-the-helicopter-in-dubai%2F20200916.htm___&position=9_5_T&label=edit_cricket&c_type=edit_cricket&property=hp_us_pc\\');return false;\">IPL: Dhoni brings out the \\'helicopter\\' in Dubai</a></h2>\\n\\t\\t\\t\\t</div>\\t\\t\\t\\t\\t\\t\\t\\t\\t\\t\\t\\n\\t\\t<i class=\"clear\"></i>\\n\\t\\t\\n\\t\\t\\t\\n\\t\\t\\t\\n\\t\\t\\t\\t\\t\\t\\t\\t\\t\\t\\t\\t<div class=\"secstorybox getahead\">\\n\\t\\t\\t\\t<h3>Get Ahead</h3><i class=\"clear\"></i>\\t\\t\\t\\t\\t\\t\\t\\t\\t\\t\\t\\t\\t\\t<h2 class=\"getahead\" data-boxno=\"10_1-2_1\" data-track=\"label=edit_getahead&c_type=edit_getahead&news=https%3A%2F%2Fwww.rediff.com%2Fgetahead%2Freport%2Flove-is-love%2F20200909.htm\"><a href=\"https://www.rediff.com/getahead/report/love-is-love/20200909.htm\" onclick=\"trackURL(\\'https://track.rediff.com/click?url=___https%3A%2F%2Fwww.rediff.com%2Fgetahead%2Freport%2Flove-is-love%2F20200909.htm___&position=10_1-2_1&label=edit_getahead&c_type=edit_getahead&property=hp_us_pc\\');return false;\">\\'Love is love\\'</a></h2>\\n\\t\\t\\t\\t\\t\\t\\t\\t\\t\\t\\t\\t\\t\\t<h2 class=\"getahead\" data-boxno=\"10_1-2_2\" data-track=\"label=edit_getahead&c_type=edit_getahead&news=https%3A%2F%2Fwww.rediff.com%2Fgetahead%2Freport%2Fwant-a-job-5-things-graduates-must-do%2F20200910.htm\"><a href=\"https://www.rediff.com/getahead/report/want-a-job-5-things-graduates-must-do/20200910.htm\" onclick=\"trackURL(\\'https://track.rediff.com/click?url=___https%3A%2F%2Fwww.rediff.com%2Fgetahead%2Freport%2Fwant-a-job-5-things-graduates-must-do%2F20200910.htm___&position=10_1-2_2&label=edit_getahead&c_type=edit_getahead&property=hp_us_pc\\');return false;\">Want a job? 5 things graduates MUST do</a></h2>\\n\\t\\t\\t\\t\\t\\t\\t\\t\\t\\t\\t\\t\\t\\t<h2 class=\"getahead\" data-boxno=\"10_1-2_3\" data-track=\"label=edit_getahead&c_type=edit_getahead&news=https%3A%2F%2Fwww.rediff.com%2Fgetahead%2Freport%2Fmutual-funds-you-must-buy-hold-or-exit%2F20200904.htm\"><a href=\"https://www.rediff.com/getahead/report/mutual-funds-you-must-buy-hold-or-exit/20200904.htm\" onclick=\"trackURL(\\'https://track.rediff.com/click?url=___https%3A%2F%2Fwww.rediff.com%2Fgetahead%2Freport%2Fmutual-funds-you-must-buy-hold-or-exit%2F20200904.htm___&position=10_1-2_3&label=edit_getahead&c_type=edit_getahead&property=hp_us_pc\\');return false;\">Mutual funds you must buy, hold or exit</a></h2>\\n\\t\\t\\t\\t\\t\\t\\t\\t\\t\\t\\t\\t\\t\\t<h2 class=\"getahead\" data-boxno=\"10_1-2_4\" data-track=\"label=edit_getahead&c_type=edit_getahead&news=https%3A%2F%2Fwww.rediff.com%2Fgetahead%2Freport%2Fsee-malaikas-secret-for-glowing-skin%2F20200806.htm\"><a href=\"https://www.rediff.com/getahead/report/see-malaikas-secret-for-glowing-skin/20200806.htm\" onclick=\"trackURL(\\'https://track.rediff.com/click?url=___https%3A%2F%2Fwww.rediff.com%2Fgetahead%2Freport%2Fsee-malaikas-secret-for-glowing-skin%2F20200806.htm___&position=10_1-2_4&label=edit_getahead&c_type=edit_getahead&property=hp_us_pc\\');return false;\">SEE: Malaika\\'s secret for glowing skin</a></h2>\\n\\t\\t\\t\\t\\t\\t\\t\\t\\t\\t\\t\\t\\t\\t<h2 class=\"getahead\" data-boxno=\"10_1-2_5\" data-track=\"label=edit_getahead&c_type=edit_getahead&news=https%3A%2F%2Fwww.rediff.com%2Fgetahead%2Freport%2Fhow-this-scientist-lost-11-kilos-in-a-year%2F20200805.htm\"><a href=\"https://www.rediff.com/getahead/report/how-this-scientist-lost-11-kilos-in-a-year/20200805.htm\" onclick=\"trackURL(\\'https://track.rediff.com/click?url=___https%3A%2F%2Fwww.rediff.com%2Fgetahead%2Freport%2Fhow-this-scientist-lost-11-kilos-in-a-year%2F20200805.htm___&position=10_1-2_5&label=edit_getahead&c_type=edit_getahead&property=hp_us_pc\\');return false;\">How this scientist lost 11 kilos in a year</a></h2>\\n\\t\\t\\t\\t\\t\\t\\t\\t\\t\\t\\t\\t<p class=\"alignR\"><a href=\"https://www.rediff.com/getahead\" class=\"morestory\" onclick=\"trackURL(\\'https://track.rediff.com/click?url=___https%3A%2F%2Fwww.rediff.com%2Fgetahead___&position=10_1-2_M&label=edit_getahead&c_type=edit_getahead&property=hp_us_pc\\');return false;\">More Get Ahead</a></p>\\n\\t\\t\\t\\t\\t\\t\\t\\t\\t\\t\\t</div>\\n\\t\\t\\t\\t\\t\\t\\t\\t\\t\\t\\t\\t\\t\\t\\t\\t\\t\\t\\t<div class=\"nbox\" data-boxno=\"10_3\" data-track=\"label=edit_getahead&c_type=edit_getahead&news=https%3A%2F%2Fwww.rediff.com%2Fgetahead%2Freport%2Fwant-to-keep-your-job-10-skills-that-really-matter-%2F20200916.htm\">\\n\\t\\t\\t\\t\\t<p class=\"more\"><a class=\"backgetahead\" href=\"https://www.rediff.com/getahead\" onclick=\"trackURL(\\'https://track.rediff.com/click?url=___https://www.rediff.com/getahead___&position=10_3_L&label=edit_getahead&c_type=edit_getahead&property=hp_us_pc\\');return false;\">get ahead</a></p>\\n\\t\\t\\t\\t\\t<h5><a data-relsrc=\"//im.rediff.com/210-170/getahead/2020/sep/16work-skills-lead1.jpg\" class=\"img\" href=\"https://www.rediff.com/getahead/report/want-to-keep-your-job-10-skills-that-really-matter-/20200916.htm\" onclick=\"trackURL(\\'https://track.rediff.com/click?url=___https%3A%2F%2Fwww.rediff.com%2Fgetahead%2Freport%2Fwant-to-keep-your-job-10-skills-that-really-matter-%2F20200916.htm___&position=10_3_I&label=edit_getahead&c_type=edit_getahead&property=hp_us_pc\\');return false;\"><img alt=\"Want to keep your job? 10 skills that really matter \" src=\"//imworld.rediff.com/worldrediff/pix/blank.gif\" /></a></h5>\\t\\t\\t\\t\\t<h2 class=\"hdtitle\"><a href=\"https://www.rediff.com/getahead/report/want-to-keep-your-job-10-skills-that-really-matter-/20200916.htm\" onclick=\"trackURL(\\'https://track.rediff.com/click?url=___https%3A%2F%2Fwww.rediff.com%2Fgetahead%2Freport%2Fwant-to-keep-your-job-10-skills-that-really-matter-%2F20200916.htm___&position=10_3_T&label=edit_getahead&c_type=edit_getahead&property=hp_us_pc\\');return false;\">Want to keep your job? 10 skills that really matter </a></h2>\\n\\t\\t\\t\\t</div>\\t\\t\\t\\t\\t\\t\\t\\t\\t\\t\\t\\t\\t\\t\\t\\t\\t\\t\\t\\t\\t\\t\\t<div class=\"nbox\" data-boxno=\"10_4\" data-track=\"label=edit_getahead&c_type=edit_getahead&news=https%3A%2F%2Fwww.rediff.com%2Fgetahead%2Freport%2Fwhy-are-the-tiktokers-struggling%2F20200914.htm\">\\n\\t\\t\\t\\t\\t<p class=\"more\"><a class=\"backgetahead\" href=\"https://www.rediff.com/getahead\" onclick=\"trackURL(\\'https://track.rediff.com/click?url=___https://www.rediff.com/getahead___&position=10_4_L&label=edit_getahead&c_type=edit_getahead&property=hp_us_pc\\');return false;\">get ahead</a></p>\\n\\t\\t\\t\\t\\t<h5><a data-relsrc=\"//im.rediff.com/210-170/getahead/2020/sep/14tik-tok-lead.jpg\" class=\"img\" href=\"https://www.rediff.com/getahead/report/why-are-the-tiktokers-struggling/20200914.htm\" onclick=\"trackURL(\\'https://track.rediff.com/click?url=___https%3A%2F%2Fwww.rediff.com%2Fgetahead%2Freport%2Fwhy-are-the-tiktokers-struggling%2F20200914.htm___&position=10_4_I&label=edit_getahead&c_type=edit_getahead&property=hp_us_pc\\');return false;\"><img alt=\"Why are the TikTokers struggling?\" src=\"//imworld.rediff.com/worldrediff/pix/blank.gif\" /></a></h5>\\t\\t\\t\\t\\t<h2 class=\"hdtitle\"><a href=\"https://www.rediff.com/getahead/report/why-are-the-tiktokers-struggling/20200914.htm\" onclick=\"trackURL(\\'https://track.rediff.com/click?url=___https%3A%2F%2Fwww.rediff.com%2Fgetahead%2Freport%2Fwhy-are-the-tiktokers-struggling%2F20200914.htm___&position=10_4_T&label=edit_getahead&c_type=edit_getahead&property=hp_us_pc\\');return false;\">Why are the TikTokers struggling?</a></h2>\\n\\t\\t\\t\\t</div>\\t\\t\\t\\t\\t\\t\\t\\t\\t\\t\\t\\t\\t\\t\\t\\t\\t\\t\\t\\t\\t\\t\\t<div class=\"nbox\" data-boxno=\"10_5\" data-track=\"label=edit_getahead&c_type=edit_getahead&news=https%3A%2F%2Fwww.rediff.com%2Fgetahead%2Freport%2Fapple-watch-can-now-read-your-blood-oxygen-level%2F20200916.htm\">\\n\\t\\t\\t\\t\\t<p class=\"more\"><a class=\"backgetahead\" href=\"https://www.rediff.com/getahead\" onclick=\"trackURL(\\'https://track.rediff.com/click?url=___https://www.rediff.com/getahead___&position=10_5_L&label=edit_getahead&c_type=edit_getahead&property=hp_us_pc\\');return false;\">get ahead</a></p>\\n\\t\\t\\t\\t\\t<h5><a data-relsrc=\"//im.rediff.com/210-170/getahead/2020/sep/16apple-2020-lead.jpg\" class=\"img\" href=\"https://www.rediff.com/getahead/report/apple-watch-can-now-read-your-blood-oxygen-level/20200916.htm\" onclick=\"trackURL(\\'https://track.rediff.com/click?url=___https%3A%2F%2Fwww.rediff.com%2Fgetahead%2Freport%2Fapple-watch-can-now-read-your-blood-oxygen-level%2F20200916.htm___&position=10_5_I&label=edit_getahead&c_type=edit_getahead&property=hp_us_pc\\');return false;\"><img alt=\"Apple Watch can now read your blood oxygen level\" src=\"//imworld.rediff.com/worldrediff/pix/blank.gif\" /></a></h5>\\t\\t\\t\\t\\t<h2 class=\"hdtitle\"><a href=\"https://www.rediff.com/getahead/report/apple-watch-can-now-read-your-blood-oxygen-level/20200916.htm\" onclick=\"trackURL(\\'https://track.rediff.com/click?url=___https%3A%2F%2Fwww.rediff.com%2Fgetahead%2Freport%2Fapple-watch-can-now-read-your-blood-oxygen-level%2F20200916.htm___&position=10_5_T&label=edit_getahead&c_type=edit_getahead&property=hp_us_pc\\');return false;\">Apple Watch can now read your blood oxygen level</a></h2>\\n\\t\\t\\t\\t</div>\\t\\t\\t\\t\\t\\t\\t\\t\\t\\t\\t\\n\\t\\t<i class=\"clear\"></i>\\n\\t\\t\\n\\t\\t\\t\\n\\t\\t\\t\\n\\t\\t\\t\\t\\t\\t\\t\\t\\t\\t\\t\\t<div class=\"secstorybox business\">\\n\\t\\t\\t\\t<h3>Business</h3><i class=\"clear\"></i>\\t\\t\\t\\t\\t\\t\\t\\t\\t\\t\\t\\t\\t\\t<h2 class=\"business\" data-boxno=\"11_1-2_1\" data-track=\"label=edit_business&c_type=edit_business&news=https%3A%2F%2Fwww.rediff.com%2Fbusiness%2Finterview%2Fif-you-want-entrepreneurs-to-sprint-remove-hurdles%2F20200917.htm\"><a href=\"https://www.rediff.com/business/interview/if-you-want-entrepreneurs-to-sprint-remove-hurdles/20200917.htm\" onclick=\"trackURL(\\'https://track.rediff.com/click?url=___https%3A%2F%2Fwww.rediff.com%2Fbusiness%2Finterview%2Fif-you-want-entrepreneurs-to-sprint-remove-hurdles%2F20200917.htm___&position=11_1-2_1&label=edit_business&c_type=edit_business&property=hp_us_pc\\');return false;\">\\'If you want entrepreneurs to sprint, remove hurdles\\'</a></h2>\\n\\t\\t\\t\\t\\t\\t\\t\\t\\t\\t\\t\\t\\t\\t<h2 class=\"business\" data-boxno=\"11_1-2_2\" data-track=\"label=edit_business&c_type=edit_business&news=https%3A%2F%2Fwww.rediff.com%2Fbusiness%2Finterview%2Famul-is-indias-biggest-fmcg-company%2F20200917.htm\"><a href=\"https://www.rediff.com/business/interview/amul-is-indias-biggest-fmcg-company/20200917.htm\" onclick=\"trackURL(\\'https://track.rediff.com/click?url=___https%3A%2F%2Fwww.rediff.com%2Fbusiness%2Finterview%2Famul-is-indias-biggest-fmcg-company%2F20200917.htm___&position=11_1-2_2&label=edit_business&c_type=edit_business&property=hp_us_pc\\');return false;\">\\'Amul is India\\'s biggest FMCG company\\'</a></h2>\\n\\t\\t\\t\\t\\t\\t\\t\\t\\t\\t\\t\\t\\t\\t<h2 class=\"business\" data-boxno=\"11_1-2_3\" data-track=\"label=edit_business&c_type=edit_business&news=https%3A%2F%2Fwww.rediff.com%2Fbusiness%2Freport%2Foecd-ups-prospects-for-global-gdp-cuts-it-for-india%2F20200917.htm\"><a href=\"https://www.rediff.com/business/report/oecd-ups-prospects-for-global-gdp-cuts-it-for-india/20200917.htm\" onclick=\"trackURL(\\'https://track.rediff.com/click?url=___https%3A%2F%2Fwww.rediff.com%2Fbusiness%2Freport%2Foecd-ups-prospects-for-global-gdp-cuts-it-for-india%2F20200917.htm___&position=11_1-2_3&label=edit_business&c_type=edit_business&property=hp_us_pc\\');return false;\">OECD ups prospects for global GDP, cuts it for India</a></h2>\\n\\t\\t\\t\\t\\t\\t\\t\\t\\t\\t\\t\\t\\t\\t<h2 class=\"business\" data-boxno=\"11_1-2_4\" data-track=\"label=edit_business&c_type=edit_business&news=https%3A%2F%2Fwww.rediff.com%2Fbusiness%2Freport%2Finvestment-in-p-notes-hits-10-month-high-in-aug%2F20200917.htm\"><a href=\"https://www.rediff.com/business/report/investment-in-p-notes-hits-10-month-high-in-aug/20200917.htm\" onclick=\"trackURL(\\'https://track.rediff.com/click?url=___https%3A%2F%2Fwww.rediff.com%2Fbusiness%2Freport%2Finvestment-in-p-notes-hits-10-month-high-in-aug%2F20200917.htm___&position=11_1-2_4&label=edit_business&c_type=edit_business&property=hp_us_pc\\');return false;\">Investment in P-notes hits 10-month high in Aug</a></h2>\\n\\t\\t\\t\\t\\t\\t\\t\\t\\t\\t\\t\\t\\t\\t<h2 class=\"business\" data-boxno=\"11_1-2_5\" data-track=\"label=edit_business&c_type=edit_business&news=https%3A%2F%2Fwww.rediff.com%2Fbusiness%2Freport%2Fmore-than-1000-listed-firms-file-q1-numbers-in-sep%2F20200917.htm\"><a href=\"https://www.rediff.com/business/report/more-than-1000-listed-firms-file-q1-numbers-in-sep/20200917.htm\" onclick=\"trackURL(\\'https://track.rediff.com/click?url=___https%3A%2F%2Fwww.rediff.com%2Fbusiness%2Freport%2Fmore-than-1000-listed-firms-file-q1-numbers-in-sep%2F20200917.htm___&position=11_1-2_5&label=edit_business&c_type=edit_business&property=hp_us_pc\\');return false;\">More than 1,000 listed firms file Q1 numbers in Sep</a></h2>\\n\\t\\t\\t\\t\\t\\t\\t\\t\\t\\t\\t\\t<p class=\"alignR\"><a href=\"https://www.rediff.com/business\" class=\"morestory\" onclick=\"trackURL(\\'https://track.rediff.com/click?url=___https%3A%2F%2Fwww.rediff.com%2Fbusiness___&position=11_1-2_M&label=edit_business&c_type=edit_business&property=hp_us_pc\\');return false;\">More Business</a></p>\\n\\t\\t\\t\\t\\t\\t\\t\\t\\t\\t\\t</div>\\n\\t\\t\\t\\t\\t\\t\\t\\t\\t\\t\\t\\t\\t\\t\\t\\t\\t\\t\\t<div class=\"nbox\" data-boxno=\"11_3\" data-track=\"label=edit_business&c_type=edit_business&news=https%3A%2F%2Fwww.rediff.com%2Fbusiness%2Freport%2Fbusiness-reforms-gujarat-ranks-behind-west-bengal%2F20200917.htm\">\\n\\t\\t\\t\\t\\t<p class=\"more\"><a class=\"backbusiness\" href=\"https://www.rediff.com/business\" onclick=\"trackURL(\\'https://track.rediff.com/click?url=___https://www.rediff.com/business___&position=11_3_L&label=edit_business&c_type=edit_business&property=hp_us_pc\\');return false;\">business</a></p>\\n\\t\\t\\t\\t\\t<h5><a data-relsrc=\"//im.rediff.com/210-170/money/2020/sep/17biz.jpg\" class=\"img\" href=\"https://www.rediff.com/business/report/business-reforms-gujarat-ranks-behind-west-bengal/20200917.htm\" onclick=\"trackURL(\\'https://track.rediff.com/click?url=___https%3A%2F%2Fwww.rediff.com%2Fbusiness%2Freport%2Fbusiness-reforms-gujarat-ranks-behind-west-bengal%2F20200917.htm___&position=11_3_I&label=edit_business&c_type=edit_business&property=hp_us_pc\\');return false;\"><img alt=\"Business reforms: Gujarat ranks behind West Bengal\" src=\"//imworld.rediff.com/worldrediff/pix/blank.gif\" /></a></h5>\\t\\t\\t\\t\\t<h2 class=\"hdtitle\"><a href=\"https://www.rediff.com/business/report/business-reforms-gujarat-ranks-behind-west-bengal/20200917.htm\" onclick=\"trackURL(\\'https://track.rediff.com/click?url=___https%3A%2F%2Fwww.rediff.com%2Fbusiness%2Freport%2Fbusiness-reforms-gujarat-ranks-behind-west-bengal%2F20200917.htm___&position=11_3_T&label=edit_business&c_type=edit_business&property=hp_us_pc\\');return false;\">Business reforms: Gujarat ranks behind West Bengal</a></h2>\\n\\t\\t\\t\\t</div>\\t\\t\\t\\t\\t\\t\\t\\t\\t\\t\\t\\t\\t\\t\\t\\t\\t\\t\\t\\t\\t\\t\\t<div class=\"nbox\" data-boxno=\"11_4\" data-track=\"label=edit_business&c_type=edit_business&news=https%3A%2F%2Fwww.rediff.com%2Fbusiness%2Finterview%2Fthere-is-no-disruption-of-imports-from-china%2F20200916.htm\">\\n\\t\\t\\t\\t\\t<p class=\"more\"><a class=\"backbusiness\" href=\"https://www.rediff.com/business\" onclick=\"trackURL(\\'https://track.rediff.com/click?url=___https://www.rediff.com/business___&position=11_4_L&label=edit_business&c_type=edit_business&property=hp_us_pc\\');return false;\">business</a></p>\\n\\t\\t\\t\\t\\t<h5><a data-relsrc=\"//im.rediff.com/210-170/money/2020/sep/08import.jpg\" class=\"img\" href=\"https://www.rediff.com/business/interview/there-is-no-disruption-of-imports-from-china/20200916.htm\" onclick=\"trackURL(\\'https://track.rediff.com/click?url=___https%3A%2F%2Fwww.rediff.com%2Fbusiness%2Finterview%2Fthere-is-no-disruption-of-imports-from-china%2F20200916.htm___&position=11_4_I&label=edit_business&c_type=edit_business&property=hp_us_pc\\');return false;\"><img alt=\"\\'There is no disruption of imports from China\\'\" src=\"//imworld.rediff.com/worldrediff/pix/blank.gif\" /></a></h5>\\t\\t\\t\\t\\t<h2 class=\"hdtitle\"><a href=\"https://www.rediff.com/business/interview/there-is-no-disruption-of-imports-from-china/20200916.htm\" onclick=\"trackURL(\\'https://track.rediff.com/click?url=___https%3A%2F%2Fwww.rediff.com%2Fbusiness%2Finterview%2Fthere-is-no-disruption-of-imports-from-china%2F20200916.htm___&position=11_4_T&label=edit_business&c_type=edit_business&property=hp_us_pc\\');return false;\">\\'There is no disruption of imports from China\\'</a></h2>\\n\\t\\t\\t\\t</div>\\t\\t\\t\\t\\t\\t\\t\\t\\t\\t\\t\\t\\t\\t\\t\\t\\t\\t\\t\\t\\t\\t\\t<div class=\"nbox\" data-boxno=\"11_5\" data-track=\"label=edit_business&c_type=edit_business&news=https%3A%2F%2Fwww.rediff.com%2Fbusiness%2Fcolumn%2Findia-has-lost-21-million-job-in-the-covid-lockdown%2F20200916.htm\">\\n\\t\\t\\t\\t\\t<p class=\"more\"><a class=\"backbusiness\" href=\"https://www.rediff.com/business\" onclick=\"trackURL(\\'https://track.rediff.com/click?url=___https://www.rediff.com/business___&position=11_5_L&label=edit_business&c_type=edit_business&property=hp_us_pc\\');return false;\">business</a></p>\\n\\t\\t\\t\\t\\t<h5><a data-relsrc=\"//im.rediff.com/210-170/money/2020/sep/15jobs.jpg\" class=\"img\" href=\"https://www.rediff.com/business/column/india-has-lost-21-million-job-in-the-covid-lockdown/20200916.htm\" onclick=\"trackURL(\\'https://track.rediff.com/click?url=___https%3A%2F%2Fwww.rediff.com%2Fbusiness%2Fcolumn%2Findia-has-lost-21-million-job-in-the-covid-lockdown%2F20200916.htm___&position=11_5_I&label=edit_business&c_type=edit_business&property=hp_us_pc\\');return false;\"><img alt=\"India lost 21 million jobs in the Covid lockdown\" src=\"//imworld.rediff.com/worldrediff/pix/blank.gif\" /></a></h5>\\t\\t\\t\\t\\t<h2 class=\"hdtitle\"><a href=\"https://www.rediff.com/business/column/india-has-lost-21-million-job-in-the-covid-lockdown/20200916.htm\" onclick=\"trackURL(\\'https://track.rediff.com/click?url=___https%3A%2F%2Fwww.rediff.com%2Fbusiness%2Fcolumn%2Findia-has-lost-21-million-job-in-the-covid-lockdown%2F20200916.htm___&position=11_5_T&label=edit_business&c_type=edit_business&property=hp_us_pc\\');return false;\">India lost 21 million jobs in the Covid lockdown</a></h2>\\n\\t\\t\\t\\t</div>\\t\\t\\t\\t\\t\\t\\t\\t\\t\\t\\t\\n\\t\\t<i class=\"clear\"></i>\\n\\t\\t\\n\\t\\t\\t\\t\\t<div id=\"world_advt_bottom\" class=\"div_advt_bottom\"><ins data-revive-zoneid=\"91\" data-revive-source=\"_blank\" data-revive-target=\"_blank\" data-revive-id=\"4b71f4079fb345c8ac958d0e9f0b56dd\" data-zonename=\"Rediff_Home_728x90_BTF_INTL\"></ins></div>\\n\\t\\t\\t\\n\\t\\t\\t\\t\\t<i class=\"clear\"></i>\\n\\t\\t\\t\\t\\t\\t\\t\\t\\t\\t\\t\\t\\t\\t\\t<div class=\"nbox\"  data-boxno=\"12_1\" data-track=\"label=pages&c_type=pages&c_id=2283657\">\\n\\t\\t\\t\\t\\t<p class=\"more\"><a onclick=\"trackURL(\\'https://track.rediff.com/click?url=___http://pages.rediff.com___&position=12_1_L&label=pages&c_type=pages&property=hp_us_pc\\');return false;\" title=\"More on Pages\" href=\"http://pages.rediff.com\">Pages</a></p>\\n\\t\\t\\t\\t\\t<h5><a href=\"http://pages.rediff.com/mamta-mohandas-photos/2283657\" onclick=\"trackURL(\\'https://track.rediff.com/click?url=___http://pages.rediff.com/mamta-mohandas-photos/2283657___&position=12_1_I&label=pages&c_type=pages&c_id=2283657&property=hp_us_pc\\');return false;\" data-relsrc=\"http://socialimg.rediff.com/image.php?pageid=2283657&amp;type=pages\" class=\"img\"><img src=\"//imworld.rediff.com/worldrediff/pix/blank.gif\" alt=\"Mamta Mohandas Photos\" /></a></h5>\\t\\t\\t\\t\\t<h2 class=\"hdtitle\"><a onclick=\"trackURL(\\'https://track.rediff.com/click?url=___http://pages.rediff.com/mamta-mohandas-photos/2283657___&position=12_1_T&label=pages&c_type=pages&c_id=2283657&property=hp_us_pc\\');return false;\" href=\"http://pages.rediff.com/mamta-mohandas-photos/2283657\">Mamta Mohandas Photos Mamta Mohandas Photos</a></h2>\\n\\t\\t\\t\\t</div>\\t\\t\\t\\t\\t\\t\\t\\t\\t\\t\\t\\t\\t\\t<div class=\"nbox\" data-boxno=\"12_2\" data-track=\"label=realtimenews&c_type=realtimenews&news=http%3A%2F%2Frealtime.rediff.com%2Fnews%2Findia%2FLok-Sabha-takes-up-two-agriculture-bills-for-discussion-Cong-Akali-Dal-st%2Fbe41a9b64b777b90\">\\n\\t\\t\\t\\t<p class=\"more\"><a href=\"https://realtime.rediff.com/topnews/india\" onclick=\"trackURL(\\'https://track.rediff.com/click?url=___https://realtime.rediff.com/topnews/india___&position=12_2_L&label=realtimenews&c_type=realtimenews&property=hp_us_pc\\');return false;\">Realtime News</a></p>\\n\\t\\t\\t\\t<h5><a data-relsrc=\"http://newsimg.rediff.com/thumbnail2/b65fbaf0e29425c7.jpg\" class=\"img\" href=\"http://realtime.rediff.com/news/india/Lok-Sabha-takes-up-two-agriculture-bills-for-discussion-Cong-Akali-Dal-st/be41a9b64b777b90\" onclick=\"trackURL(\\'https://track.rediff.com/click?url=___http%3A%2F%2Frealtime.rediff.com%2Fnews%2Findia%2FLok-Sabha-takes-up-two-agriculture-bills-for-discussion-Cong-Akali-Dal-st%2Fbe41a9b64b777b90___&position=12_2_I&label=realtimenews&c_type=realtimenews&property=hp_us_pc\\');return false;\"><img alt=\"Lok Sabha takes up two agriculture bills for discussion; Cong, Akali Dal st...\" src=\"//imworld.rediff.com/worldrediff/pix/blank.gif\" /></a></h5>\\t\\t\\t\\t<h2 class=\"hdtitle\"><a href=\"http://realtime.rediff.com/news/india/Lok-Sabha-takes-up-two-agriculture-bills-for-discussion-Cong-Akali-Dal-st/be41a9b64b777b90\" onclick=\"trackURL(\\'https://track.rediff.com/click?url=___http%3A%2F%2Frealtime.rediff.com%2Fnews%2Findia%2FLok-Sabha-takes-up-two-agriculture-bills-for-discussion-Cong-Akali-Dal-st%2Fbe41a9b64b777b90___&position=12_2_T&label=realtimenews&c_type=realtimenews&property=hp_us_pc\\');return false;\">Lok Sabha takes up two agriculture bills for discussion; Cong, Akali Dal st...</a></h2>\\n\\t\\t\\t\\t</div>\\t\\t\\t\\t\\t\\t\\t\\t\\t\\t\\t\\t\\t\\t\\t\\t\\t\\t<div class=\"nbox\" data-boxno=\"12_3\" data-track=\"label=redifflabs&c_type=labs&news=https%3A%2F%2Fwww.rediff.com%2Fnews%2Freport%2Frediff-labs-mapped-the-global-spread-of-coronavirus%2F20200218.htm\">\\n\\t\\t\\t\\t\\t<p class=\"more\"><a href=\"http://labs.rediff.com/\" onclick=\"trackURL(\\'https://track.rediff.com/click?url=___http://labs.rediff.com/___&position=12_3_L&label=redifflabs&c_type=labs&property=hp_us_pc\\');return false;\">Rediff Labs</a></p>\\n\\t\\t\\t\\t\\t<h5><a data-relsrc=\"https://im.rediff.com/240-170/news/2020/feb/18coronavirus.jpg\" class=\"img\" href=\"https://www.rediff.com/news/report/rediff-labs-mapped-the-global-spread-of-coronavirus/20200218.htm\" onclick=\"trackURL(\\'https://track.rediff.com/click?url=___https://www.rediff.com/news/report/rediff-labs-mapped-the-global-spread-of-coronavirus/20200218.htm___&position=12_3_I&label=redifflabs&c_type=labs&property=hp_us_pc\\');return false;\"><img alt=\"Coronavirus cases across the world\" src=\"//imworld.rediff.com/worldrediff/pix/blank.gif\" /></a></h5>\\t\\t\\t\\t\\t<h2 class=\"hdtitle\"><a class=\"black\" href=\"https://www.rediff.com/news/report/rediff-labs-mapped-the-global-spread-of-coronavirus/20200218.htm\" onclick=\"trackURL(\\'https://track.rediff.com/click?url=___https://www.rediff.com/news/report/rediff-labs-mapped-the-global-spread-of-coronavirus/20200218.htm___&position=12_3_T&label=redifflabs&c_type=labs&property=hp_us_pc\\');return false;\">Coronavirus cases across the world</a><span class=\"ht10\"></span></h2>\\t\\t\\t\\t</div>\\n\\t\\t\\t\\t\\t\\t\\t\\t\\t\\t\\t\\t\\t\\t\\t\\t\\t\\t\\t\\t\\t\\t<div class=\"nbox\" data-boxno=\"12_4\" data-track=\"label=edit_news&c_type=edit_news&news=https%3A%2F%2Fwww.rediff.com%2Fnews%2Freport%2Fwishes-pour-in-as-pm-modi-turns-70%2F20200917.htm\">\\n\\t\\t\\t\\t\\t<p class=\"more\"><a onclick=\"trackURL(\\'https://track.rediff.com/click?url=___https://www.rediff.com/news___&position=12_4_L&label=edit_news&c_type=edit_news&property=hp_us_pc\\');return false;\" class=\"backnews\" href=\"https://www.rediff.com/news\">news</a></p>\\n\\t\\t\\t\\t\\t<h5><a onclick=\"trackURL(\\'https://track.rediff.com/click?url=___https%3A%2F%2Fwww.rediff.com%2Fnews%2Freport%2Fwishes-pour-in-as-pm-modi-turns-70%2F20200917.htm___&position=12_4_I&label=edit_news&c_type=edit_news&property=hp_us_pc\\');return false;\" data-relsrc=\"//im.rediff.com/210-170/news/2020/sep/17pm-bday6.jpg\" class=\"img\" href=\"https://www.rediff.com/news/report/wishes-pour-in-as-pm-modi-turns-70/20200917.htm\"><img alt=\"Wishes pour in as PM Modi turns 70\" src=\"//imworld.rediff.com/worldrediff/pix/blank.gif\" /></a></h5>\\t\\t\\t\\t\\t<h2 class=\"hdtitle\"><a onclick=\"trackURL(\\'https://track.rediff.com/click?url=___https%3A%2F%2Fwww.rediff.com%2Fnews%2Freport%2Fwishes-pour-in-as-pm-modi-turns-70%2F20200917.htm___&position=12_4_T&label=edit_news&c_type=edit_news&property=hp_us_pc\\');return false;\"  href=\"https://www.rediff.com/news/report/wishes-pour-in-as-pm-modi-turns-70/20200917.htm\">Wishes pour in as PM Modi turns 70</a></h2>\\n\\t\\t\\t\\t</div>\\t\\t\\t\\t\\t\\t\\t\\t\\t\\t\\t\\t\\t\\t\\t\\t\\t\\t\\t\\t\\t\\t\\t<div class=\"nbox\" data-boxno=\"12_5\" data-track=\"label=edit_movies&c_type=edit_movies&news=https%3A%2F%2Fwww.rediff.com%2Fmovies%2Freport%2Fcan-you-identify-this-actor%2F20200915.htm\">\\n\\t\\t\\t\\t\\t<p class=\"more\"><a onclick=\"trackURL(\\'https://track.rediff.com/click?url=___https://www.rediff.com/movies___&position=12_5_L&label=edit_movies&c_type=edit_movies&property=hp_us_pc\\');return false;\" class=\"backmovies\" href=\"https://www.rediff.com/movies\">movies</a></p>\\n\\t\\t\\t\\t\\t<h5><a onclick=\"trackURL(\\'https://track.rediff.com/click?url=___https%3A%2F%2Fwww.rediff.com%2Fmovies%2Freport%2Fcan-you-identify-this-actor%2F20200915.htm___&position=12_5_I&label=edit_movies&c_type=edit_movies&property=hp_us_pc\\');return false;\" data-relsrc=\"//im.rediff.com/210-170/movies/2020/sep/15harami-lead1.jpg\" class=\"img\" href=\"https://www.rediff.com/movies/report/can-you-identify-this-actor/20200915.htm\"><img alt=\"Can you identify this actor?\" src=\"//imworld.rediff.com/worldrediff/pix/blank.gif\" /></a></h5>\\t\\t\\t\\t\\t<h2 class=\"hdtitle\"><a onclick=\"trackURL(\\'https://track.rediff.com/click?url=___https%3A%2F%2Fwww.rediff.com%2Fmovies%2Freport%2Fcan-you-identify-this-actor%2F20200915.htm___&position=12_5_T&label=edit_movies&c_type=edit_movies&property=hp_us_pc\\');return false;\"  href=\"https://www.rediff.com/movies/report/can-you-identify-this-actor/20200915.htm\">Can you identify this actor?</a></h2>\\n\\t\\t\\t\\t</div>\\t\\t\\t\\t\\t\\t\\t\\t\\t\\t<i class=\"clear\"></i>\\n\\t\\t\\t\\t\\t\\t\\t\\t\\t\\t\\t\\t\\t\\t\\t\\t\\t\\t\\t\\t\\t\\t\\t\\t\\t\\t<div id=\"trend_0\" class=\"nbox\" data-boxno=\"13_1\" data-track=\"label=shopping&c_type=shopping&c_id=21916424\">\\n\\t\\t\\t\\t\\t<p class=\"more\"><a  class=\"backshop\" href=\"http://shopping.rediff.com\" onclick=\"trackURL(\\'https://track.rediff.com/click?url=___http://shopping.rediff.com?sc_cid=ushome_trend_13_1_L_21916424___&position=13_1_L&label=Shopping&c_type=shopping&c_ic=21916424&property=hp_us_pc\\');return false;\">Shopping</a></p>\\n\\t\\t\\t\\t\\t<h5><a data-relsrc=\"//imshopping.rediff.com/imgshop/250-250/shopping/pixs/946/c/card-slot-remote_59f213ca8b459._Cctv-Camera-With-Memory-Card.jpg\" class=\"img\" href=\"http://shopping.rediff.com/product/cctv-camera-with-memory-card/21916424\" onclick=\"trackURL(\\'https://track.rediff.com/click?url=___http://shopping.rediff.com/product/cctv-camera-with-memory-card/21916424?sc_cid=ushome_trend_13_1_I_21916424___&position=13_1_I&label=shopping&c_type=shopping&c_id=21916424&property=hp_us_pc\\');return false;\"><img alt=\"Cctv Camera With Memory Card\" src=\"//imworld.rediff.com/worldrediff/pix/blank.gif\" /></a></h5>\\n\\t\\t\\t\\t\\t<h2 class=\"hdtitle\"><a  href=\"http://shopping.rediff.com/product/cctv-camera-with-memory-card/21916424\" onclick=\"trackURL(\\'https://track.rediff.com/click?url=___http://shopping.rediff.com/product/cctv-camera-with-memory-card/21916424?sc_cid=ushome_trend_13_1_T_21916424___&position=13_1_T&label=shopping&c_type=shopping&c_id=21916424&property=hp_us_pc\\');return false;\">Cctv Camera With Memory Card - Rs.3,234 onwards</a></h2>\\n\\t\\t\\t\\t</div>\\n\\t\\t\\t\\t\\t\\t\\t\\t\\t\\t\\t\\t\\t\\t\\t\\t\\t\\t\\t\\t\\t\\t\\t\\t\\t\\t\\t<div id=\"trend_1\" class=\"nbox\" data-boxno=\"13_2\" data-track=\"label=shopping&c_type=shopping&c_id=20368681\">\\n\\t\\t\\t\\t\\t<p class=\"more\"><a  class=\"backshop\" href=\"http://shopping.rediff.com\" onclick=\"trackURL(\\'https://track.rediff.com/click?url=___http://shopping.rediff.com?sc_cid=ushome_trend_13_2_L_20368681___&position=13_2_L&label=Shopping&c_type=shopping&c_ic=20368681&property=hp_us_pc\\');return false;\">Shopping</a></p>\\n\\t\\t\\t\\t\\t<h5><a data-relsrc=\"//imshopping.rediff.com/imgshop/250-250/shopping/pixs/16284/n/nglasses-for-men_58243518876cc._Belt-Wallet-Combo-For-Men.jpg\" class=\"img\" href=\"http://shopping.rediff.com/product/belt-wallet-combo-for-men/20368681\" onclick=\"trackURL(\\'https://track.rediff.com/click?url=___http://shopping.rediff.com/product/belt-wallet-combo-for-men/20368681?sc_cid=ushome_trend_13_2_I_20368681___&position=13_2_I&label=shopping&c_type=shopping&c_id=20368681&property=hp_us_pc\\');return false;\"><img alt=\"Belt Wallet Combo For Men\" src=\"//imworld.rediff.com/worldrediff/pix/blank.gif\" /></a></h5>\\n\\t\\t\\t\\t\\t<h2 class=\"hdtitle\"><a  href=\"http://shopping.rediff.com/product/belt-wallet-combo-for-men/20368681\" onclick=\"trackURL(\\'https://track.rediff.com/click?url=___http://shopping.rediff.com/product/belt-wallet-combo-for-men/20368681?sc_cid=ushome_trend_13_2_T_20368681___&position=13_2_T&label=shopping&c_type=shopping&c_id=20368681&property=hp_us_pc\\');return false;\">Belt Wallet Combo For Men - Rs.1,049 onwards</a></h2>\\n\\t\\t\\t\\t</div>\\n\\t\\t\\t\\t\\t\\t\\t\\t\\t\\t\\t\\t\\t\\t\\t\\t\\t\\t\\t\\t\\t\\t\\t\\t\\t\\t\\t<div id=\"trend_2\" class=\"nbox\" data-boxno=\"13_3\" data-track=\"label=shopping&c_type=shopping&c_id=24026947\">\\n\\t\\t\\t\\t\\t<p class=\"more\"><a  class=\"backshop\" href=\"http://shopping.rediff.com\" onclick=\"trackURL(\\'https://track.rediff.com/click?url=___http://shopping.rediff.com?sc_cid=ushome_trend_13_3_L_24026947___&position=13_3_L&label=Shopping&c_type=shopping&c_ic=24026947&property=hp_us_pc\\');return false;\">Shopping</a></p>\\n\\t\\t\\t\\t\\t<h5><a data-relsrc=\"//imshopping.rediff.com/imgshop/250-250/shopping/pixs/946/e/er-tyre-inflator_5b76e08428fd7._Car-Vacuum-Cleaner-12V-Dc.jpg\" class=\"img\" href=\"http://shopping.rediff.com/product/car-vacuum-cleaner-12v-dc/24026947\" onclick=\"trackURL(\\'https://track.rediff.com/click?url=___http://shopping.rediff.com/product/car-vacuum-cleaner-12v-dc/24026947?sc_cid=ushome_trend_13_3_I_24026947___&position=13_3_I&label=shopping&c_type=shopping&c_id=24026947&property=hp_us_pc\\');return false;\"><img alt=\"Car Vacuum Cleaner 12V Dc\" src=\"//imworld.rediff.com/worldrediff/pix/blank.gif\" /></a></h5>\\n\\t\\t\\t\\t\\t<h2 class=\"hdtitle\"><a  href=\"http://shopping.rediff.com/product/car-vacuum-cleaner-12v-dc/24026947\" onclick=\"trackURL(\\'https://track.rediff.com/click?url=___http://shopping.rediff.com/product/car-vacuum-cleaner-12v-dc/24026947?sc_cid=ushome_trend_13_3_T_24026947___&position=13_3_T&label=shopping&c_type=shopping&c_id=24026947&property=hp_us_pc\\');return false;\">Car Vacuum Cleaner 12V Dc - Rs.1,279 onwards</a></h2>\\n\\t\\t\\t\\t</div>\\n\\t\\t\\t\\t\\t\\t\\t\\t\\t\\t\\t\\t\\t\\t\\t\\t\\t\\t\\t\\t\\t\\t\\t\\t\\t\\t\\t<div id=\"trend_3\" class=\"nbox\" data-boxno=\"13_4\" data-track=\"label=shopping&c_type=shopping&c_id=21082513\">\\n\\t\\t\\t\\t\\t<p class=\"more\"><a  class=\"backshop\" href=\"http://shopping.rediff.com\" onclick=\"trackURL(\\'https://track.rediff.com/click?url=___http://shopping.rediff.com?sc_cid=ushome_trend_13_4_L_21082513___&position=13_4_L&label=Shopping&c_type=shopping&c_ic=21082513&property=hp_us_pc\\');return false;\">Shopping</a></p>\\n\\t\\t\\t\\t\\t<h5><a data-relsrc=\"//imshopping.rediff.com/imgshop/250-250/shopping/pixs/18615/9/921036._Car-Dashboard-Idols.jpg\" class=\"img\" href=\"http://shopping.rediff.com/product/car-dashboard-idols/21082513\" onclick=\"trackURL(\\'https://track.rediff.com/click?url=___http://shopping.rediff.com/product/car-dashboard-idols/21082513?sc_cid=ushome_trend_13_4_I_21082513___&position=13_4_I&label=shopping&c_type=shopping&c_id=21082513&property=hp_us_pc\\');return false;\"><img alt=\"Car Dashboard Idols\" src=\"//imworld.rediff.com/worldrediff/pix/blank.gif\" /></a></h5>\\n\\t\\t\\t\\t\\t<h2 class=\"hdtitle\"><a  href=\"http://shopping.rediff.com/product/car-dashboard-idols/21082513\" onclick=\"trackURL(\\'https://track.rediff.com/click?url=___http://shopping.rediff.com/product/car-dashboard-idols/21082513?sc_cid=ushome_trend_13_4_T_21082513___&position=13_4_T&label=shopping&c_type=shopping&c_id=21082513&property=hp_us_pc\\');return false;\">Car Dashboard Idols - Rs.1,019 onwards</a></h2>\\n\\t\\t\\t\\t</div>\\n\\t\\t\\t\\t\\t\\t\\t\\t\\t\\t\\t\\t\\t\\t\\t\\t\\t\\t\\t\\t\\t\\t\\t\\t\\t\\t\\t<div id=\"trend_4\" class=\"nbox\" data-boxno=\"13_5\" data-track=\"label=shopping&c_type=shopping&c_id=18659057\">\\n\\t\\t\\t\\t\\t<p class=\"more\"><a  class=\"backshop\" href=\"http://shopping.rediff.com\" onclick=\"trackURL(\\'https://track.rediff.com/click?url=___http://shopping.rediff.com?sc_cid=ushome_trend_13_5_L_18659057___&position=13_5_L&label=Shopping&c_type=shopping&c_ic=18659057&property=hp_us_pc\\');return false;\">Shopping</a></p>\\n\\t\\t\\t\\t\\t<h5><a data-relsrc=\"//imshopping.rediff.com/imgshop/250-250/shopping/pixs/946/n/nd-drying-hanger._Clothes-Drying-Stand.jpg\" class=\"img\" href=\"http://shopping.rediff.com/product/clothes-drying-stand/18659057\" onclick=\"trackURL(\\'https://track.rediff.com/click?url=___http://shopping.rediff.com/product/clothes-drying-stand/18659057?sc_cid=ushome_trend_13_5_I_18659057___&position=13_5_I&label=shopping&c_type=shopping&c_id=18659057&property=hp_us_pc\\');return false;\"><img alt=\"Clothes Drying Stand\" src=\"//imworld.rediff.com/worldrediff/pix/blank.gif\" /></a></h5>\\n\\t\\t\\t\\t\\t<h2 class=\"hdtitle\"><a  href=\"http://shopping.rediff.com/product/clothes-drying-stand/18659057\" onclick=\"trackURL(\\'https://track.rediff.com/click?url=___http://shopping.rediff.com/product/clothes-drying-stand/18659057?sc_cid=ushome_trend_13_5_T_18659057___&position=13_5_T&label=shopping&c_type=shopping&c_id=18659057&property=hp_us_pc\\');return false;\">Clothes Drying Stand - Rs.2,891 onwards</a></h2>\\n\\t\\t\\t\\t</div>\\n\\t\\t\\t\\t\\t\\t\\t\\t\\t\\t<i class=\"clear\"></i>\\n\\t\\t\\t\\t\\n\\t\\t\\t\\n\\t\\t\\t\\t\\t\\t\\t\\t\\t\\t\\t\\t<div class=\"secstorybox storiesyoumissed...\">\\n\\t\\t\\t\\t<h3>Stories You Missed...</h3><i class=\"clear\"></i>\\t\\t\\t\\t\\t\\t\\t\\t\\t\\t\\t\\t\\t\\t<h2 class=\"news\" data-boxno=\"14_1-2_1\" data-track=\"label=edit_storiesyoumissed...&c_type=edit_news&news=https%3A%2F%2Fwww.rediff.com%2Fnews%2Fspecial%2Fspecial-frontier-force-indias-weapon-against-pla%2F20200909.htm\"><a href=\"https://www.rediff.com/news/special/special-frontier-force-indias-weapon-against-pla/20200909.htm\" onclick=\"trackURL(\\'https://track.rediff.com/click?url=___https%3A%2F%2Fwww.rediff.com%2Fnews%2Fspecial%2Fspecial-frontier-force-indias-weapon-against-pla%2F20200909.htm___&position=14_1-2_1&label=edit_storiesyoumissed...&c_type=edit_news&property=hp_us_pc\\');return false;\">Special Frontier Force: India\\'s weapon against PLA</a></h2>\\n\\t\\t\\t\\t\\t\\t\\t\\t\\t\\t\\t\\t\\t\\t<h2 class=\"news\" data-boxno=\"14_1-2_2\" data-track=\"label=edit_storiesyoumissed...&c_type=edit_news&news=https%3A%2F%2Fwww.rediff.com%2Fnews%2Fcolumn%2Frhea-chakraborty-and-indias-drug-of-choice%2F20200909.htm\"><a href=\"https://www.rediff.com/news/column/rhea-chakraborty-and-indias-drug-of-choice/20200909.htm\" onclick=\"trackURL(\\'https://track.rediff.com/click?url=___https%3A%2F%2Fwww.rediff.com%2Fnews%2Fcolumn%2Frhea-chakraborty-and-indias-drug-of-choice%2F20200909.htm___&position=14_1-2_2&label=edit_storiesyoumissed...&c_type=edit_news&property=hp_us_pc\\');return false;\">Rhea Chakraborty and India\\'s drug of choice</a></h2>\\n\\t\\t\\t\\t\\t\\t\\t\\t\\t\\t\\t\\t\\t\\t<h2 class=\"news\" data-boxno=\"14_1-2_3\" data-track=\"label=edit_storiesyoumissed...&c_type=edit_news&news=https%3A%2F%2Fwww.rediff.com%2Fnews%2Finterview%2Fwhy-bjp-doesnt-want-temple-gold-to-be-pledged-to-rbi%2F20200909.htm\"><a href=\"https://www.rediff.com/news/interview/why-bjp-doesnt-want-temple-gold-to-be-pledged-to-rbi/20200909.htm\" onclick=\"trackURL(\\'https://track.rediff.com/click?url=___https%3A%2F%2Fwww.rediff.com%2Fnews%2Finterview%2Fwhy-bjp-doesnt-want-temple-gold-to-be-pledged-to-rbi%2F20200909.htm___&position=14_1-2_3&label=edit_storiesyoumissed...&c_type=edit_news&property=hp_us_pc\\');return false;\">Why BJP doesn\\'t want temple gold to be pledged to RBI</a></h2>\\n\\t\\t\\t\\t\\t\\t\\t\\t\\t\\t\\t\\t\\t\\t<h2 class=\"news\" data-boxno=\"14_1-2_4\" data-track=\"label=edit_storiesyoumissed...&c_type=edit_news&news=https%3A%2F%2Fwww.rediff.com%2Fnews%2Fspecial%2Fthe-hindu-who-will-curate-the-babri-mosque-museum%2F20200909.htm\"><a href=\"https://www.rediff.com/news/special/the-hindu-who-will-curate-the-babri-mosque-museum/20200909.htm\" onclick=\"trackURL(\\'https://track.rediff.com/click?url=___https%3A%2F%2Fwww.rediff.com%2Fnews%2Fspecial%2Fthe-hindu-who-will-curate-the-babri-mosque-museum%2F20200909.htm___&position=14_1-2_4&label=edit_storiesyoumissed...&c_type=edit_news&property=hp_us_pc\\');return false;\">The Hindu who will curate the Babri mosque museum</a></h2>\\n\\t\\t\\t\\t\\t\\t\\t\\t\\t\\t\\t\\t\\t\\t<h2 class=\"getahead\" data-boxno=\"14_1-2_5\" data-track=\"label=edit_storiesyoumissed...&c_type=edit_getahead&news=https%3A%2F%2Fwww.rediff.com%2Fgetahead%2Freport%2Finspiring-how-i-lost-22-kg-in-the-lockdown%2F20200909.htm\"><a href=\"https://www.rediff.com/getahead/report/inspiring-how-i-lost-22-kg-in-the-lockdown/20200909.htm\" onclick=\"trackURL(\\'https://track.rediff.com/click?url=___https%3A%2F%2Fwww.rediff.com%2Fgetahead%2Freport%2Finspiring-how-i-lost-22-kg-in-the-lockdown%2F20200909.htm___&position=14_1-2_5&label=edit_storiesyoumissed...&c_type=edit_getahead&property=hp_us_pc\\');return false;\">INSPIRING! How I lost 22 kg in the lockdown</a></h2>\\n\\t\\t\\t\\t\\t\\t\\t\\t\\t\\t\\t\\t<p class=\"alignR\"><a href=\"https://www.rediff.com/news/coronavirus-2020\" class=\"morestory\" onclick=\"trackURL(\\'https://track.rediff.com/click?url=___https%3A%2F%2Fwww.rediff.com%2Fnews%2Fcoronavirus-2020___&position=14_1-2_M&label=edit_storiesyoumissed...&c_type=edit_storiesyoumissed...&property=hp_us_pc\\');return false;\">More Stories You Missed...</a></p>\\n\\t\\t\\t\\t\\t\\t\\t\\t\\t\\t\\t</div>\\n\\t\\t\\t\\t\\t\\t\\t\\t\\t\\t\\t\\t\\t\\t\\t\\t\\t\\t\\t<div class=\"nbox\" data-boxno=\"14_3\" data-track=\"label=edit_getahead&c_type=edit_getahead&news=https%3A%2F%2Fwww.rediff.com%2Fgetahead%2Freport%2Fhow-to-be-a-functional-bride-in-the-pandemic%2F20200908.htm\">\\n\\t\\t\\t\\t\\t<p class=\"more\"><a class=\"backgetahead\" href=\"https://www.rediff.com/getahead\" onclick=\"trackURL(\\'https://track.rediff.com/click?url=___https://www.rediff.com/getahead___&position=14_3_L&label=edit_getahead&c_type=edit_getahead&property=hp_us_pc\\');return false;\">get ahead</a></p>\\n\\t\\t\\t\\t\\t<h5><a data-relsrc=\"//im.rediff.com/210-170/getahead/2020/sep/08monisha-bride-lisa-lead1.jpg\" class=\"img\" href=\"https://www.rediff.com/getahead/report/how-to-be-a-functional-bride-in-the-pandemic/20200908.htm\" onclick=\"trackURL(\\'https://track.rediff.com/click?url=___https%3A%2F%2Fwww.rediff.com%2Fgetahead%2Freport%2Fhow-to-be-a-functional-bride-in-the-pandemic%2F20200908.htm___&position=14_3_I&label=edit_getahead&c_type=edit_getahead&property=hp_us_pc\\');return false;\"><img alt=\"How to be a \\'functional bride\\' in the pandemic\" src=\"//imworld.rediff.com/worldrediff/pix/blank.gif\" /></a></h5>\\t\\t\\t\\t\\t<h2 class=\"hdtitle\"><a href=\"https://www.rediff.com/getahead/report/how-to-be-a-functional-bride-in-the-pandemic/20200908.htm\" onclick=\"trackURL(\\'https://track.rediff.com/click?url=___https%3A%2F%2Fwww.rediff.com%2Fgetahead%2Freport%2Fhow-to-be-a-functional-bride-in-the-pandemic%2F20200908.htm___&position=14_3_T&label=edit_getahead&c_type=edit_getahead&property=hp_us_pc\\');return false;\">How to be a \\'functional bride\\' in the pandemic</a></h2>\\n\\t\\t\\t\\t</div>\\t\\t\\t\\t\\t\\t\\t\\t\\t\\t\\t\\t\\t\\t\\t\\t\\t\\t\\t\\t\\t\\t\\t<div class=\"nbox\" data-boxno=\"14_4\" data-track=\"label=edit_movies&c_type=edit_movies&news=https%3A%2F%2Fwww.rediff.com%2Fmovies%2Freport%2Fis-this-saifs-ravan-look%2F20200904.htm\">\\n\\t\\t\\t\\t\\t<p class=\"more\"><a class=\"backmovies\" href=\"https://www.rediff.com/movies\" onclick=\"trackURL(\\'https://track.rediff.com/click?url=___https://www.rediff.com/movies___&position=14_4_L&label=edit_movies&c_type=edit_movies&property=hp_us_pc\\');return false;\">movies</a></p>\\n\\t\\t\\t\\t\\t<h5><a data-relsrc=\"//im.rediff.com/210-170/movies/2020/sep/04movie-lead4.jpg\" class=\"img\" href=\"https://www.rediff.com/movies/report/is-this-saifs-ravan-look/20200904.htm\" onclick=\"trackURL(\\'https://track.rediff.com/click?url=___https%3A%2F%2Fwww.rediff.com%2Fmovies%2Freport%2Fis-this-saifs-ravan-look%2F20200904.htm___&position=14_4_I&label=edit_movies&c_type=edit_movies&property=hp_us_pc\\');return false;\"><img alt=\"Is this Saif\\'s Ravan look?\" src=\"//imworld.rediff.com/worldrediff/pix/blank.gif\" /></a></h5>\\t\\t\\t\\t\\t<h2 class=\"hdtitle\"><a href=\"https://www.rediff.com/movies/report/is-this-saifs-ravan-look/20200904.htm\" onclick=\"trackURL(\\'https://track.rediff.com/click?url=___https%3A%2F%2Fwww.rediff.com%2Fmovies%2Freport%2Fis-this-saifs-ravan-look%2F20200904.htm___&position=14_4_T&label=edit_movies&c_type=edit_movies&property=hp_us_pc\\');return false;\">Is this Saif\\'s Ravan look?</a></h2>\\n\\t\\t\\t\\t</div>\\t\\t\\t\\t\\t\\t\\t\\t\\t\\t\\t\\t\\t\\t\\t\\t\\t\\t\\t\\t\\t\\t\\t<div class=\"nbox\" data-boxno=\"14_5\" data-track=\"label=edit_movies&c_type=edit_movies&news=https%3A%2F%2Fwww.rediff.com%2Fmovies%2Freport%2Fwhen-stars-dipped-into-a-swimming-pool%2F20200907.htm\">\\n\\t\\t\\t\\t\\t<p class=\"more\"><a class=\"backmovies\" href=\"https://www.rediff.com/movies\" onclick=\"trackURL(\\'https://track.rediff.com/click?url=___https://www.rediff.com/movies___&position=14_5_L&label=edit_movies&c_type=edit_movies&property=hp_us_pc\\');return false;\">movies</a></p>\\n\\t\\t\\t\\t\\t<h5><a data-relsrc=\"//im.rediff.com/210-170/movies/2020/sep/07pool-lead1.jpg\" class=\"img\" href=\"https://www.rediff.com/movies/report/when-stars-dipped-into-a-swimming-pool/20200907.htm\" onclick=\"trackURL(\\'https://track.rediff.com/click?url=___https%3A%2F%2Fwww.rediff.com%2Fmovies%2Freport%2Fwhen-stars-dipped-into-a-swimming-pool%2F20200907.htm___&position=14_5_I&label=edit_movies&c_type=edit_movies&property=hp_us_pc\\');return false;\"><img alt=\"When stars dipped into a swimming pool!\" src=\"//imworld.rediff.com/worldrediff/pix/blank.gif\" /></a></h5>\\t\\t\\t\\t\\t<h2 class=\"hdtitle\"><a href=\"https://www.rediff.com/movies/report/when-stars-dipped-into-a-swimming-pool/20200907.htm\" onclick=\"trackURL(\\'https://track.rediff.com/click?url=___https%3A%2F%2Fwww.rediff.com%2Fmovies%2Freport%2Fwhen-stars-dipped-into-a-swimming-pool%2F20200907.htm___&position=14_5_T&label=edit_movies&c_type=edit_movies&property=hp_us_pc\\');return false;\">When stars dipped into a swimming pool!</a></h2>\\n\\t\\t\\t\\t</div>\\t\\t\\t\\t\\t\\t\\t\\t\\t\\t\\t\\n\\t\\t<i class=\"clear\"></i>\\n\\t\\t\\n\\t\\t\\t\\n\\t\\t\\t\\n\\t\\t\\t\\t\\t\\t\\t\\t\\t\\t\\t\\t<div class=\"secstorybox coronavirus:latestdata\">\\n\\t\\t\\t\\t<h3>Coronavirus: Latest Data</h3><i class=\"clear\"></i>\\t\\t\\t\\t\\t\\t\\t\\t\\t\\t\\t\\t\\t\\t<h2 class=\"news\" data-boxno=\"15_1-2_1\" data-track=\"label=edit_coronavirus:latestdata&c_type=edit_news&news=https%3A%2F%2Fwww.rediff.com%2Fnews%2Freport%2Frediff-labs-mapped-state-wise-covid-19-fatality-rate%2F20200904.htm\"><a href=\"https://www.rediff.com/news/report/rediff-labs-mapped-state-wise-covid-19-fatality-rate/20200904.htm\" onclick=\"trackURL(\\'https://track.rediff.com/click?url=___https%3A%2F%2Fwww.rediff.com%2Fnews%2Freport%2Frediff-labs-mapped-state-wise-covid-19-fatality-rate%2F20200904.htm___&position=15_1-2_1&label=edit_coronavirus:latestdata&c_type=edit_news&property=hp_us_pc\\');return false;\">MAPPED: State-wise COVID-19 fatality rate</a></h2>\\n\\t\\t\\t\\t\\t\\t\\t\\t\\t\\t\\t\\t\\t\\t<h2 class=\"news\" data-boxno=\"15_1-2_2\" data-track=\"label=edit_coronavirus:latestdata&c_type=edit_news&news=https%3A%2F%2Fwww.rediff.com%2Fnews%2Freport%2Frediff-labs-mapped-covid-19-cases-per-lakh-population%2F20200710.htm\"><a href=\"https://www.rediff.com/news/report/rediff-labs-mapped-covid-19-cases-per-lakh-population/20200710.htm\" onclick=\"trackURL(\\'https://track.rediff.com/click?url=___https%3A%2F%2Fwww.rediff.com%2Fnews%2Freport%2Frediff-labs-mapped-covid-19-cases-per-lakh-population%2F20200710.htm___&position=15_1-2_2&label=edit_coronavirus:latestdata&c_type=edit_news&property=hp_us_pc\\');return false;\">Mapped: COVID-19 cases per lakh population</a></h2>\\n\\t\\t\\t\\t\\t\\t\\t\\t\\t\\t\\t\\t\\t\\t<h2 class=\"news\" data-boxno=\"15_1-2_3\" data-track=\"label=edit_coronavirus:latestdata&c_type=edit_news&news=https%3A%2F%2Fwww.rediff.com%2Fnews%2Freport%2Frediff-labs-mapped-state-wise-covid-19-recovery-rate%2F20200419.htm\"><a href=\"https://www.rediff.com/news/report/rediff-labs-mapped-state-wise-covid-19-recovery-rate/20200419.htm\" onclick=\"trackURL(\\'https://track.rediff.com/click?url=___https%3A%2F%2Fwww.rediff.com%2Fnews%2Freport%2Frediff-labs-mapped-state-wise-covid-19-recovery-rate%2F20200419.htm___&position=15_1-2_3&label=edit_coronavirus:latestdata&c_type=edit_news&property=hp_us_pc\\');return false;\">Covid-19: 31 states have a recovery rate of over 60%</a></h2>\\n\\t\\t\\t\\t\\t\\t\\t\\t\\t\\t\\t\\t\\t\\t<h2 class=\"news\" data-boxno=\"15_1-2_4\" data-track=\"label=edit_coronavirus:latestdata&c_type=edit_news&news=https%3A%2F%2Fwww.rediff.com%2Fnews%2Freport%2Frediff-labs-mapped-the-global-spread-of-coronavirus%2F20200218.htm\"><a href=\"https://www.rediff.com/news/report/rediff-labs-mapped-the-global-spread-of-coronavirus/20200218.htm\" onclick=\"trackURL(\\'https://track.rediff.com/click?url=___https%3A%2F%2Fwww.rediff.com%2Fnews%2Freport%2Frediff-labs-mapped-the-global-spread-of-coronavirus%2F20200218.htm___&position=15_1-2_4&label=edit_coronavirus:latestdata&c_type=edit_news&property=hp_us_pc\\');return false;\">Coronavirus cases across the world</a></h2>\\n\\t\\t\\t\\t\\t\\t\\t\\t\\t\\t\\t\\t\\t\\t<h2 class=\"news\" data-boxno=\"15_1-2_5\" data-track=\"label=edit_coronavirus:latestdata&c_type=edit_news&news=https%3A%2F%2Fwww.rediff.com%2Fnews%2Freport%2Fcoronavirus-in-india-indias-battle-with-covid-19-weekly-analysis-rediff-labs%2F20200504.htm\"><a href=\"https://www.rediff.com/news/report/coronavirus-in-india-indias-battle-with-covid-19-weekly-analysis-rediff-labs/20200504.htm\" onclick=\"trackURL(\\'https://track.rediff.com/click?url=___https%3A%2F%2Fwww.rediff.com%2Fnews%2Freport%2Fcoronavirus-in-india-indias-battle-with-covid-19-weekly-analysis-rediff-labs%2F20200504.htm___&position=15_1-2_5&label=edit_coronavirus:latestdata&c_type=edit_news&property=hp_us_pc\\');return false;\">COVID-19 mortality rate for India is at 2%</a></h2>\\n\\t\\t\\t\\t\\t\\t\\t\\t\\t\\t\\t\\t<p class=\"alignR\"><a href=\"https://www.rediff.com/news/coronavirus-2020\" class=\"morestory\" onclick=\"trackURL(\\'https://track.rediff.com/click?url=___https%3A%2F%2Fwww.rediff.com%2Fnews%2Fcoronavirus-2020___&position=15_1-2_M&label=edit_coronavirus:latestdata&c_type=edit_coronavirus:latestdata&property=hp_us_pc\\');return false;\">More Coronavirus: Latest Data</a></p>\\n\\t\\t\\t\\t\\t\\t\\t\\t\\t\\t\\t</div>\\n\\t\\t\\t\\t\\t\\t\\t\\t\\t\\t\\t\\t\\t\\t\\t\\t\\t\\t\\t<div class=\"nbox\" data-boxno=\"15_3\" data-track=\"label=edit_news&c_type=edit_news&news=https%3A%2F%2Fwww.rediff.com%2Fnews%2Freport%2Frediff-labs-mapped-coronavirus-cases-across-india%2F20200316.htm\">\\n\\t\\t\\t\\t\\t<p class=\"more\"><a class=\"backnews\" href=\"https://www.rediff.com/news\" onclick=\"trackURL(\\'https://track.rediff.com/click?url=___https://www.rediff.com/news___&position=15_3_L&label=edit_news&c_type=edit_news&property=hp_us_pc\\');return false;\">news</a></p>\\n\\t\\t\\t\\t\\t<h5><a data-relsrc=\"https://im.rediff.com/210-170/news/2020/mar/09virus6.jpg\" class=\"img\" href=\"https://www.rediff.com/news/report/rediff-labs-mapped-coronavirus-cases-across-india/20200316.htm\" onclick=\"trackURL(\\'https://track.rediff.com/click?url=___https%3A%2F%2Fwww.rediff.com%2Fnews%2Freport%2Frediff-labs-mapped-coronavirus-cases-across-india%2F20200316.htm___&position=15_3_I&label=edit_news&c_type=edit_news&property=hp_us_pc\\');return false;\"><img alt=\"49% of India\\'s active COVID-19 cases are from Maharashtra and Tamilnadu\" src=\"//imworld.rediff.com/worldrediff/pix/blank.gif\" /></a></h5>\\t\\t\\t\\t\\t<h2 class=\"hdtitle\"><a href=\"https://www.rediff.com/news/report/rediff-labs-mapped-coronavirus-cases-across-india/20200316.htm\" onclick=\"trackURL(\\'https://track.rediff.com/click?url=___https%3A%2F%2Fwww.rediff.com%2Fnews%2Freport%2Frediff-labs-mapped-coronavirus-cases-across-india%2F20200316.htm___&position=15_3_T&label=edit_news&c_type=edit_news&property=hp_us_pc\\');return false;\">49% of India\\'s active COVID-19 cases are from Maharashtra and Tamilnadu</a></h2>\\n\\t\\t\\t\\t</div>\\t\\t\\t\\t\\t\\t\\t\\t\\t\\t\\t\\t\\t\\t\\t\\t\\t\\t\\t\\t\\t\\t\\t<div class=\"nbox\" data-boxno=\"15_4\" data-track=\"label=edit_getahead&c_type=edit_getahead&news=https%3A%2F%2Fwww.rediff.com%2Fgetahead%2Freport%2Ffifteen-tips-to-cut-expenses%2F20200604.htm\">\\n\\t\\t\\t\\t\\t<p class=\"more\"><a class=\"backgetahead\" href=\"https://www.rediff.com/getahead\" onclick=\"trackURL(\\'https://track.rediff.com/click?url=___https://www.rediff.com/getahead___&position=15_4_L&label=edit_getahead&c_type=edit_getahead&property=hp_us_pc\\');return false;\">get ahead</a></p>\\n\\t\\t\\t\\t\\t<h5><a data-relsrc=\"//im.rediff.com/210-170/getahead/2020/jun/03money-save-lead1.jpg\" class=\"img\" href=\"https://www.rediff.com/getahead/report/fifteen-tips-to-cut-expenses/20200604.htm\" onclick=\"trackURL(\\'https://track.rediff.com/click?url=___https%3A%2F%2Fwww.rediff.com%2Fgetahead%2Freport%2Ffifteen-tips-to-cut-expenses%2F20200604.htm___&position=15_4_I&label=edit_getahead&c_type=edit_getahead&property=hp_us_pc\\');return false;\"><img alt=\"15 tips to cut expenses\" src=\"//imworld.rediff.com/worldrediff/pix/blank.gif\" /></a></h5>\\t\\t\\t\\t\\t<h2 class=\"hdtitle\"><a href=\"https://www.rediff.com/getahead/report/fifteen-tips-to-cut-expenses/20200604.htm\" onclick=\"trackURL(\\'https://track.rediff.com/click?url=___https%3A%2F%2Fwww.rediff.com%2Fgetahead%2Freport%2Ffifteen-tips-to-cut-expenses%2F20200604.htm___&position=15_4_T&label=edit_getahead&c_type=edit_getahead&property=hp_us_pc\\');return false;\">15 tips to cut expenses</a></h2>\\n\\t\\t\\t\\t</div>\\t\\t\\t\\t\\t\\t\\t\\t\\t\\t\\t\\t\\t\\t\\t\\t\\t\\t\\t\\t\\t\\t\\t<div class=\"nbox\" data-boxno=\"15_5\" data-track=\"label=edit_movies&c_type=edit_movies&news=https%3A%2F%2Fwww.rediff.com%2Fmovies%2Fspecial%2Fwhen-amitabh-played-an-older-man%2F20200604.htm\">\\n\\t\\t\\t\\t\\t<p class=\"more\"><a class=\"backmovies\" href=\"https://www.rediff.com/movies\" onclick=\"trackURL(\\'https://track.rediff.com/click?url=___https://www.rediff.com/movies___&position=15_5_L&label=edit_movies&c_type=edit_movies&property=hp_us_pc\\');return false;\">movies</a></p>\\n\\t\\t\\t\\t\\t<h5><a data-relsrc=\"//im.rediff.com/210-170/movies/2020/jun/04amitabh-lead1.jpg\" class=\"img\" href=\"https://www.rediff.com/movies/special/when-amitabh-played-an-older-man/20200604.htm\" onclick=\"trackURL(\\'https://track.rediff.com/click?url=___https%3A%2F%2Fwww.rediff.com%2Fmovies%2Fspecial%2Fwhen-amitabh-played-an-older-man%2F20200604.htm___&position=15_5_I&label=edit_movies&c_type=edit_movies&property=hp_us_pc\\');return false;\"><img alt=\"When Amitabh played an OLDER man\" src=\"//imworld.rediff.com/worldrediff/pix/blank.gif\" /></a></h5>\\t\\t\\t\\t\\t<h2 class=\"hdtitle\"><a href=\"https://www.rediff.com/movies/special/when-amitabh-played-an-older-man/20200604.htm\" onclick=\"trackURL(\\'https://track.rediff.com/click?url=___https%3A%2F%2Fwww.rediff.com%2Fmovies%2Fspecial%2Fwhen-amitabh-played-an-older-man%2F20200604.htm___&position=15_5_T&label=edit_movies&c_type=edit_movies&property=hp_us_pc\\');return false;\">When Amitabh played an OLDER man</a></h2>\\n\\t\\t\\t\\t</div>\\t\\t\\t\\t\\t\\t\\t\\t\\t\\t\\t\\n\\t\\t<i class=\"clear\"></i>\\n\\t\\t\\n\\t\\t\\t\\n\\t\\t\\t\\n\\t<i class=\"clear\"></i>\\n<div id=\"div_trndnews_container\" class=\"trndnews_container clear-fix\" data-rowno=\"16\"></div>\\n\\n<i class=\"clear\"></i><div id=\"footertrack\">&nbsp;</div>\\n\\n<div class=\"alignC\"><div id=\"world_bottom1\" class=\"div_advt_bottom\"><ins data-revive-zoneid=\"93\" data-revive-source=\"_blank\" data-revive-target=\"_blank\" data-revive-id=\"4b71f4079fb345c8ac958d0e9f0b56dd\" data-zonename=\"Rediff_Home_Native_Widget_BTF_INTL\"></ins></div></div>\\n\\n</div><!-- red_container ends -->\\n\\n<!-- footer starts -->\\n<div class=\"footer alignC\">&#169; 2020 Rediff.com - <a href=\"http://investor.rediff.com/\" onclick=\"trackURL(\\'https://track.rediff.com/click?url=___http://investor.rediff.com/___&position=footer&label=investors&property=hp_us_pc\\');return false;\">Investors</a> - <a href=\"https://clients.rediff.com/rediff_advertisewithus/contact.htm\" onclick=\"trackURL(\\'https://track.rediff.com/click?url=___https://clients.rediff.com/rediff_advertisewithus/contact.htm___&position=footer&label=advtwithus&property=hp_us_pc\\');return false;\">Advertise with us</a>  - <a href=\"http://www.rediff.com/disclaim.htm\" onclick=\"trackURL(\\'https://track.rediff.com/click?url=___http://www.rediff.com/disclaim.htm___&position=footer&label=disclaimer&property=hp_us_pc\\');return false;\">Disclaimer</a> - <a href=\"http://www.rediff.com/w3c/policy.html\">Privacy</a> - <a href=\"http://labs.rediff.com\" onclick=\"trackURL(\\'https://track.rediff.com/click?url=___http://labs.rediff.com___&position=footer&label=redifflabs&property=hp_us_pc\\');return false;\">Rediff Labs</a> - <a href=\"https://www.rediff.com/sitemap.xml\"  title=\"Sitemap.xml\">Sitemap</a> - <a href=\"http://mypage.rediff.com/feedback\" onclick=\"trackURL(\\'https://track.rediff.com/click?url=___http://mypage.rediff.com/feedback___&position=footer&label=feedback&property=hp_us_pc\\');return false;\">Feedback</a> - <a href=\"http://support.rediff.com/index.html\" onclick=\"trackURL(\\'https://track.rediff.com/click?url=___http://support.rediff.com/index.html___&position=footer&label=contactus&property=hp_us_pc\\');return false;\">Contact Us</a> - <a href=\"https://www.rediff.com/aboutus.html\" onclick=\"trackURL(\\'https://track.rediff.com/click?url=___https://www.rediff.com/aboutus.html___&position=footer&label=aboutus&property=hp_us_pc\\');return false;\">About us</a> - <a href=\"http://www.rediff.com/terms.html\" onclick=\"trackURL(\\'https://track.rediff.com/click?url=___http://www.rediff.com/terms.html___&position=footer&label=termsofuse&property=hp_us_pc\\');return false;\">Terms of use</a></div>\\n<!-- footer ends -->\\n\\n<noscript><div class=\"msg_noscript\">Your browser does not support JavaScript or it may be disabled!</div></noscript>\\n\\n<script>\\nif(document.getElementById(\\'subnews_icon\\')){\\n\\tdocument.getElementById(\\'subnews_icon\\').onclick = function(){if(document.getElementById(\\'div_subscribe_nl\\')){document.getElementById(\\'div_subscribe_nl\\').style.display = \"block\";}\\n\\tvar subnews_icon_trackimg = new Image();\\n\\tsubnews_icon_trackimg.src= \"https://usmetric.rediff.com/www.rediff.com/news-subs/click-homebox.html?devicetype=PC&rkey=\"+Math.floor(Math.random() * 1000000);}\\n\\tif(document.getElementById(\\'cancel_btn\\')){document.getElementById(\\'cancel_btn\\').onclick = function(){resetSubscribe();}}\\n}\\nfunction validEmail(email){var exclude=/[^@\\\\-\\\\.\\\\w]|^[_@\\\\.\\\\-]|[\\\\._\\\\-]{2}|[@\\\\.]{2}|(@)[^@]*\\\\1/;var hc=/\\\\.[a-zA-Z]{2,4}$/;if((email.search(exclude)!=-1)||(email.search(hc)==-1)){return false;}atPos=email.indexOf(\"@\",0);pPos1=email.indexOf(\".\",0);periodPos=email.indexOf(\".\",atPos);pos1=pPos1;pos2=0;while(pos2>-1){pos2=email.indexOf(\".\",pos1+1);if(pos2==pos1+1){return false;}else{pos1=pos2}}if(atPos==-1){return false;}if(atPos==0){return false;}if(pPos1==0){return false;}if(email.indexOf(\"@\",atPos+1)>-1){return false;}if(periodPos==-1){return false;}if(atPos+1==periodPos){return false;}if(periodPos+3>email.length){return false;}return true;}function resetSubscribe(){document.getElementById(\\'div_subscribe_nl\\').style.display = \"none\";document.getElementById(\\'subwait_top\\').style.visibility = \\'hidden\\';document.getElementById(\\'div_thanks\\').style.display = \"none\";document.getElementById(\\'div_thanks\\').innerHTML = \"\";document.getElementById(\\'div_err_message\\').style.display = \"none\";document.getElementById(\\'div_err_message\\').innerHTML = \"\";document.getElementById(\\'sub_email_in_top\\').value = \"\";document.getElementById(\\'subscribe_btn_in_top\\').disabled = false;document.getElementById(\\'frm_subscription_in_top\\').style.display = \"block\";}\\nfunction subscribeNewsletterHome(emailfield,subscribebtn){var email =  document.getElementById(emailfield).value;var sub_captcha = \"\";var section = \"homepage-pc\";var article_url = \"\";var template = \"\";var page_type = \"homepage\";var subreq;if(!validEmail(email)){alert(\"Please enter a valid email\");document.getElementById(emailfield).focus();return false;}\\nvar url= cdn_domain.replace(\\'http://\\',\\'//\\')+\"/newsletter\";\\nvar postdata = \"email=\"+email+\"&captcha=\"+sub_captcha+\"&section=\"+section+\"&article_url=\"+encodeURIComponent(article_url)+\"&country=non-india&template=\"+template+\"&page_type=\"+page_type+\"&output=xml\";if (window.XMLHttpRequest){subreq = new XMLHttpRequest();subreq.onreadystatechange = statusstateChanged;subreq.open(\"POST\", url, true);subreq.setRequestHeader(\"Content-type\", \"application/x-www-form-urlencoded\");subreq.send(postdata);}else if (window.ActiveXObject){subreq = new ActiveXObject(\"Microsoft.XMLHTTP\");if (subreq){subreq.onreadystatechange = statusstateChanged;subreq.open(\"POST\", url, true);subreq.setRequestHeader(\"Content-type\", \"application/x-www-form-urlencoded\");subreq.send(postdata);}}\\nfunction statusstateChanged(){if (subreq.readyState==4 || subreq.readyState==\"complete\"){if(subreq.status == 200){var resp_status = (subreq.responseXML.getElementsByTagName(\"status\")[0].firstChild)?subreq.responseXML.getElementsByTagName(\"status\")[0].firstChild.nodeValue:0;var resp_message = (subreq.responseXML.getElementsByTagName(\"message\")[0].firstChild)?subreq.responseXML.getElementsByTagName(\"message\")[0].firstChild.nodeValue:0;if(resp_status == \"Success\"){if(document.getElementById(\\'div_thanks\\')){document.getElementById(\\'div_thanks\\').innerHTML  = \"Thank you for subscribing !<br /><span class=\\'cancel_btn\\' onclick=\\\\\"resetSubscribe();\\\\\" >Close</span>\";document.getElementById(\\'div_thanks\\').style.display = \"block\";document.getElementById(\\'div_err_message\\').innerHTML  = \"\";document.getElementById(\\'div_err_message\\').style.display = \"none\";}if(document.getElementById(\\'frm_subscription_in_top\\')){document.getElementById(\\'frm_subscription_in_top\\').style.display = \"none\";}}else{document.getElementById(\\'div_err_message\\').innerHTML  = resp_message ; document.getElementById(\\'div_err_message\\').style.display = \"block\";if(document.getElementById(subscribebtn)){document.getElementById(subscribebtn).disabled = false;}}if(document.getElementById(\\'subwait_top\\')){document.getElementById(\\'subwait_top\\').style.visibility = \\'hidden\\';}}}if (subreq.readyState == 1){if(document.getElementById(\\'subwait_top\\')){document.getElementById(\\'subwait_top\\').style.visibility = \\'visible\\';}if(document.getElementById(subscribebtn)){document.getElementById(subscribebtn).disabled = true;}}}\\treturn false;}\\n</script>\\n<script>\\nvar bkbannerArr = new Array();OAS_loc=\"\";\\n</script>\\n<script src=\"//imworld.rediff.com/worldrediff/js_2_5/sns_ind_home_8.js\"  defer></script>\\n<script src=\"//imworld.rediff.com/worldrediff/js_2_5/us_home_other_1_min.js\"  defer></script>\\n<!-- Google Analytics -->\\n\\n<script>\\nwindow.ga=window.ga||function(){(ga.q=ga.q||[]).push(arguments)};ga.l=+new Date;\\nga(\\'create\\', \\'UA-111630784-8\\', {\\'sampleRate\\': 2});\\nga(\\'send\\', \\'pageview\\');\\n</script>\\n<script async src=\\'https://www.google-analytics.com/analytics.js\\'></script>\\n\\n<!-- End Google Analytics --></body>\\n</html>'"
      ]
     },
     "execution_count": 19,
     "metadata": {},
     "output_type": "execute_result"
    }
   ],
   "source": [
    "text"
   ]
  },
  {
   "cell_type": "code",
   "execution_count": 5,
   "metadata": {},
   "outputs": [
    {
     "data": {
      "text/plain": [
       "'C:\\\\Users\\\\abhis\\\\OneDrive\\\\Desktop\\\\DataScience\\\\ML-Edurekha\\\\W2'"
      ]
     },
     "execution_count": 5,
     "metadata": {},
     "output_type": "execute_result"
    }
   ],
   "source": [
    "import os\n",
    "os.getcwd()\n",
    "\n"
   ]
  },
  {
   "cell_type": "code",
   "execution_count": 6,
   "metadata": {},
   "outputs": [
    {
     "ename": "TypeError",
     "evalue": "chdir() missing required argument 'path' (pos 1)",
     "output_type": "error",
     "traceback": [
      "\u001b[1;31m---------------------------------------------------------------------------\u001b[0m",
      "\u001b[1;31mTypeError\u001b[0m                                 Traceback (most recent call last)",
      "\u001b[1;32m<ipython-input-6-f96d23f60c03>\u001b[0m in \u001b[0;36m<module>\u001b[1;34m\u001b[0m\n\u001b[1;32m----> 1\u001b[1;33m \u001b[0mos\u001b[0m\u001b[1;33m.\u001b[0m\u001b[0mchdir\u001b[0m\u001b[1;33m(\u001b[0m\u001b[1;33m)\u001b[0m\u001b[1;33m\u001b[0m\u001b[1;33m\u001b[0m\u001b[0m\n\u001b[0m",
      "\u001b[1;31mTypeError\u001b[0m: chdir() missing required argument 'path' (pos 1)"
     ]
    }
   ],
   "source": [
    "os.chdir()"
   ]
  },
  {
   "cell_type": "code",
   "execution_count": 7,
   "metadata": {},
   "outputs": [],
   "source": [
    "file1 = open('Edutest.txt', 'w')\n",
    "file1.write('Please write the lines \\n')\n",
    "file1.write('I am not scare to write the lines \\n')\n",
    "file1.close()\n"
   ]
  },
  {
   "cell_type": "code",
   "execution_count": 4,
   "metadata": {},
   "outputs": [
    {
     "ename": "NameError",
     "evalue": "name 'os' is not defined",
     "output_type": "error",
     "traceback": [
      "\u001b[1;31m---------------------------------------------------------------------------\u001b[0m",
      "\u001b[1;31mNameError\u001b[0m                                 Traceback (most recent call last)",
      "\u001b[1;32m<ipython-input-4-a78b1fb2bab9>\u001b[0m in \u001b[0;36m<module>\u001b[1;34m\u001b[0m\n\u001b[1;32m----> 1\u001b[1;33m \u001b[0mos\u001b[0m\u001b[1;33m.\u001b[0m\u001b[0mgetcwd\u001b[0m\u001b[1;33m(\u001b[0m\u001b[1;33m)\u001b[0m\u001b[1;33m\u001b[0m\u001b[1;33m\u001b[0m\u001b[0m\n\u001b[0m",
      "\u001b[1;31mNameError\u001b[0m: name 'os' is not defined"
     ]
    }
   ],
   "source": [
    "os.getcwd()"
   ]
  },
  {
   "cell_type": "code",
   "execution_count": 8,
   "metadata": {},
   "outputs": [
    {
     "name": "stdout",
     "output_type": "stream",
     "text": [
      "File name Edutest.txt\n",
      "File mode w\n",
      "File readable? False\n",
      "File writeable? True\n",
      "File closed? False\n",
      "File closed? True\n"
     ]
    }
   ],
   "source": [
    "f = open('Edutest.txt','w')\n",
    "print('File name', f.name)\n",
    "print('File mode', f.mode)\n",
    "print('File readable?', f.readable())\n",
    "print('File writeable?', f.writable())\n",
    "print('File closed?', f.closed)\n",
    "f.close()\n",
    "print('File closed?', f.closed)"
   ]
  },
  {
   "cell_type": "code",
   "execution_count": 12,
   "metadata": {},
   "outputs": [
    {
     "name": "stdout",
     "output_type": "stream",
     "text": [
      "\n",
      "Python is open source lang\n",
      "Python is future\n",
      "Python is open source lang\n",
      "Python is future\n",
      "Python is open source lang\n",
      "Python is future\n"
     ]
    }
   ],
   "source": [
    "f = open('Edutest.txt','a')\n",
    "f.write('\\nPython is open source lang')\n",
    "f.write('\\nPython is future')\n",
    "f.close()\n",
    "f = open('Edutest.txt','r')\n",
    "data = f.read()\n",
    "print(data)\n",
    "f.close()"
   ]
  },
  {
   "cell_type": "code",
   "execution_count": 1,
   "metadata": {},
   "outputs": [
    {
     "name": "stdout",
     "output_type": "stream",
     "text": [
      "Collecting python-docx\n",
      "  Downloading python-docx-0.8.10.tar.gz (5.5 MB)\n",
      "Requirement already satisfied: lxml>=2.3.2 in c:\\users\\abhis\\anaconda3\\lib\\site-packages (from python-docx) (4.5.2)\n",
      "Building wheels for collected packages: python-docx\n",
      "  Building wheel for python-docx (setup.py): started\n",
      "  Building wheel for python-docx (setup.py): finished with status 'done'\n",
      "  Created wheel for python-docx: filename=python_docx-0.8.10-py3-none-any.whl size=184495 sha256=9afb2ebc69c03b3536e82e4ea7e39afd014d43aca22ac67527c013f7d78b0960\n",
      "  Stored in directory: c:\\users\\abhis\\appdata\\local\\pip\\cache\\wheels\\97\\4c\\2e\\68066cbf12b9b2e66403da8982aaf4f656d9f5cb5dc3179e82\n",
      "Successfully built python-docx\n",
      "Installing collected packages: python-docx\n",
      "Successfully installed python-docx-0.8.10\n",
      "Note: you may need to restart the kernel to use updated packages.\n"
     ]
    }
   ],
   "source": [
    "pip install python-docx"
   ]
  },
  {
   "cell_type": "code",
   "execution_count": 10,
   "metadata": {},
   "outputs": [
    {
     "name": "stdout",
     "output_type": "stream",
     "text": [
      "meetingminutes.pdf\n",
      "Please write the lines \n",
      "I am not scare to write the lines \n",
      "\n"
     ]
    }
   ],
   "source": [
    "import PyPDF2\n",
    "pdfFile = open('meetingminutes.pdf', 'w')\n",
    "print(pdfFile.name)\n",
    "pdfFile.write('Please write the lines \\n')\n",
    "pdfFile.write('I am not scare to write the lines \\n')\n",
    "pdfFile.close()\n",
    "f = open('meetingminutes.pdf','r')\n",
    "data = f.read()\n",
    "print(data)\n",
    "f.close()"
   ]
  },
  {
   "cell_type": "code",
   "execution_count": 18,
   "metadata": {},
   "outputs": [
    {
     "name": "stdout",
     "output_type": "stream",
     "text": [
      "Collecting PyPDF2\n",
      "  Downloading PyPDF2-1.26.0.tar.gz (77 kB)\n",
      "Building wheels for collected packages: PyPDF2\n",
      "  Building wheel for PyPDF2 (setup.py): started\n",
      "  Building wheel for PyPDF2 (setup.py): finished with status 'done'\n",
      "  Created wheel for PyPDF2: filename=PyPDF2-1.26.0-py3-none-any.whl size=61087 sha256=67f9cf6c582b2110c1f68f63e72d6f63fd9187e0d881775535210f82f6d3d66d\n",
      "  Stored in directory: c:\\users\\abhis\\appdata\\local\\pip\\cache\\wheels\\b1\\1a\\8f\\a4c34be976825a2f7948d0fa40907598d69834f8ab5889de11\n",
      "Successfully built PyPDF2\n",
      "Installing collected packages: PyPDF2\n",
      "Successfully installed PyPDF2-1.26.0\n",
      "Note: you may need to restart the kernel to use updated packages.\n"
     ]
    }
   ],
   "source": [
    "pip install PyPDF2"
   ]
  },
  {
   "cell_type": "code",
   "execution_count": 13,
   "metadata": {},
   "outputs": [
    {
     "ename": "UnicodeDecodeError",
     "evalue": "'charmap' codec can't decode byte 0x8f in position 69: character maps to <undefined>",
     "output_type": "error",
     "traceback": [
      "\u001b[1;31m---------------------------------------------------------------------------\u001b[0m",
      "\u001b[1;31mUnicodeDecodeError\u001b[0m                        Traceback (most recent call last)",
      "\u001b[1;32m<ipython-input-13-8016f2a92a0c>\u001b[0m in \u001b[0;36m<module>\u001b[1;34m\u001b[0m\n\u001b[0;32m      1\u001b[0m \u001b[0mf\u001b[0m \u001b[1;33m=\u001b[0m \u001b[0mopen\u001b[0m\u001b[1;33m(\u001b[0m\u001b[1;34m'TaxReturn2019.pdf'\u001b[0m\u001b[1;33m,\u001b[0m\u001b[1;34m'r'\u001b[0m\u001b[1;33m)\u001b[0m\u001b[1;33m\u001b[0m\u001b[1;33m\u001b[0m\u001b[0m\n\u001b[1;32m----> 2\u001b[1;33m \u001b[0mdata\u001b[0m \u001b[1;33m=\u001b[0m \u001b[0mf\u001b[0m\u001b[1;33m.\u001b[0m\u001b[0mread\u001b[0m\u001b[1;33m(\u001b[0m\u001b[1;33m)\u001b[0m\u001b[1;33m\u001b[0m\u001b[1;33m\u001b[0m\u001b[0m\n\u001b[0m\u001b[0;32m      3\u001b[0m \u001b[0mprint\u001b[0m\u001b[1;33m(\u001b[0m\u001b[0mdata\u001b[0m\u001b[1;33m)\u001b[0m\u001b[1;33m\u001b[0m\u001b[1;33m\u001b[0m\u001b[0m\n\u001b[0;32m      4\u001b[0m \u001b[0mf\u001b[0m\u001b[1;33m.\u001b[0m\u001b[0mclose\u001b[0m\u001b[1;33m(\u001b[0m\u001b[1;33m)\u001b[0m\u001b[1;33m\u001b[0m\u001b[1;33m\u001b[0m\u001b[0m\n",
      "\u001b[1;32m~\\anaconda3\\lib\\encodings\\cp1252.py\u001b[0m in \u001b[0;36mdecode\u001b[1;34m(self, input, final)\u001b[0m\n\u001b[0;32m     21\u001b[0m \u001b[1;32mclass\u001b[0m \u001b[0mIncrementalDecoder\u001b[0m\u001b[1;33m(\u001b[0m\u001b[0mcodecs\u001b[0m\u001b[1;33m.\u001b[0m\u001b[0mIncrementalDecoder\u001b[0m\u001b[1;33m)\u001b[0m\u001b[1;33m:\u001b[0m\u001b[1;33m\u001b[0m\u001b[1;33m\u001b[0m\u001b[0m\n\u001b[0;32m     22\u001b[0m     \u001b[1;32mdef\u001b[0m \u001b[0mdecode\u001b[0m\u001b[1;33m(\u001b[0m\u001b[0mself\u001b[0m\u001b[1;33m,\u001b[0m \u001b[0minput\u001b[0m\u001b[1;33m,\u001b[0m \u001b[0mfinal\u001b[0m\u001b[1;33m=\u001b[0m\u001b[1;32mFalse\u001b[0m\u001b[1;33m)\u001b[0m\u001b[1;33m:\u001b[0m\u001b[1;33m\u001b[0m\u001b[1;33m\u001b[0m\u001b[0m\n\u001b[1;32m---> 23\u001b[1;33m         \u001b[1;32mreturn\u001b[0m \u001b[0mcodecs\u001b[0m\u001b[1;33m.\u001b[0m\u001b[0mcharmap_decode\u001b[0m\u001b[1;33m(\u001b[0m\u001b[0minput\u001b[0m\u001b[1;33m,\u001b[0m\u001b[0mself\u001b[0m\u001b[1;33m.\u001b[0m\u001b[0merrors\u001b[0m\u001b[1;33m,\u001b[0m\u001b[0mdecoding_table\u001b[0m\u001b[1;33m)\u001b[0m\u001b[1;33m[\u001b[0m\u001b[1;36m0\u001b[0m\u001b[1;33m]\u001b[0m\u001b[1;33m\u001b[0m\u001b[1;33m\u001b[0m\u001b[0m\n\u001b[0m\u001b[0;32m     24\u001b[0m \u001b[1;33m\u001b[0m\u001b[0m\n\u001b[0;32m     25\u001b[0m \u001b[1;32mclass\u001b[0m \u001b[0mStreamWriter\u001b[0m\u001b[1;33m(\u001b[0m\u001b[0mCodec\u001b[0m\u001b[1;33m,\u001b[0m\u001b[0mcodecs\u001b[0m\u001b[1;33m.\u001b[0m\u001b[0mStreamWriter\u001b[0m\u001b[1;33m)\u001b[0m\u001b[1;33m:\u001b[0m\u001b[1;33m\u001b[0m\u001b[1;33m\u001b[0m\u001b[0m\n",
      "\u001b[1;31mUnicodeDecodeError\u001b[0m: 'charmap' codec can't decode byte 0x8f in position 69: character maps to <undefined>"
     ]
    }
   ],
   "source": [
    "f = open('TaxReturn2019.pdf','r')\n",
    "data = f.read()\n",
    "print(data)\n",
    "f.close()"
   ]
  },
  {
   "cell_type": "code",
   "execution_count": 18,
   "metadata": {},
   "outputs": [
    {
     "name": "stdin",
     "output_type": "stream",
     "text": [
      "Enter the file name dict.py\n"
     ]
    },
    {
     "name": "stdout",
     "output_type": "stream",
     "text": [
      "44\n",
      "42\n",
      "600\n"
     ]
    }
   ],
   "source": [
    "fname = input('Enter the file name')\n",
    "f = open(fname, 'r')\n",
    "\n",
    "lcount = ccount = wcount = 0 \n",
    "\n",
    "for l in f:\n",
    "    lcount = lcount + 1\n",
    "    ccount = ccount + len(l)\n",
    "    words = l.split()\n",
    "    wcount = wcount + len(words)\n",
    "print(lcount)\n",
    "print(wcount)\n",
    "print(ccount)"
   ]
  },
  {
   "cell_type": "code",
   "execution_count": 22,
   "metadata": {},
   "outputs": [],
   "source": [
    "import dfply"
   ]
  },
  {
   "cell_type": "code",
   "execution_count": 20,
   "metadata": {},
   "outputs": [
    {
     "name": "stdout",
     "output_type": "stream",
     "text": [
      "Collecting dfply\n",
      "  Downloading dfply-0.3.3-py3-none-any.whl (612 kB)\n",
      "Requirement already satisfied: pandas in c:\\users\\abhis\\anaconda3\\lib\\site-packages (from dfply) (1.0.5)\n",
      "Requirement already satisfied: numpy in c:\\users\\abhis\\anaconda3\\lib\\site-packages (from dfply) (1.18.5)\n",
      "Requirement already satisfied: python-dateutil>=2.6.1 in c:\\users\\abhis\\anaconda3\\lib\\site-packages (from pandas->dfply) (2.8.1)\n",
      "Requirement already satisfied: pytz>=2017.2 in c:\\users\\abhis\\anaconda3\\lib\\site-packages (from pandas->dfply) (2020.1)\n",
      "Requirement already satisfied: six>=1.5 in c:\\users\\abhis\\anaconda3\\lib\\site-packages (from python-dateutil>=2.6.1->pandas->dfply) (1.15.0)\n",
      "Installing collected packages: dfply\n",
      "Successfully installed dfply-0.3.3\n",
      "Note: you may need to restart the kernel to use updated packages.\n"
     ]
    }
   ],
   "source": [
    "pip install dfply"
   ]
  },
  {
   "cell_type": "code",
   "execution_count": 23,
   "metadata": {},
   "outputs": [],
   "source": [
    "#MEan\n",
    "#Median\n",
    "#Mode\n"
   ]
  },
  {
   "cell_type": "code",
   "execution_count": 1,
   "metadata": {},
   "outputs": [
    {
     "name": "stdout",
     "output_type": "stream",
     "text": [
      "Hi\n",
      "division by zero\n",
      "Hello\n"
     ]
    }
   ],
   "source": [
    "print('Hi')\n",
    "try:\n",
    "    print(10/0)\n",
    "except Exception as e:\n",
    "    print(e)\n",
    "print('Hello')"
   ]
  },
  {
   "cell_type": "code",
   "execution_count": 2,
   "metadata": {},
   "outputs": [
    {
     "name": "stdout",
     "output_type": "stream",
     "text": [
      "[0.11949823943661972, 0.10014513788098693, 0.10011248593925759, 0.09699970870958345]\n"
     ]
    }
   ],
   "source": [
    "sales = [4544,3445,4445,3433]\n",
    "profit = [543,345,445,333]\n",
    "proffitratio = []\n",
    "for i in range(0,len(sales)):\n",
    "    proffitratio.append(profit[i]/sales[i])\n",
    "print(proffitratio)"
   ]
  },
  {
   "cell_type": "code",
   "execution_count": 7,
   "metadata": {},
   "outputs": [
    {
     "data": {
      "text/plain": [
       "'1.18.5'"
      ]
     },
     "execution_count": 7,
     "metadata": {},
     "output_type": "execute_result"
    }
   ],
   "source": [
    "import numpy as np\n",
    "np.version.version"
   ]
  },
  {
   "cell_type": "code",
   "execution_count": 9,
   "metadata": {},
   "outputs": [
    {
     "name": "stdout",
     "output_type": "stream",
     "text": [
      "[4544 3445 4445 3433]\n",
      "[543 345 445 333]\n"
     ]
    },
    {
     "data": {
      "text/plain": [
       "array([0.11949824, 0.10014514, 0.10011249, 0.09699971])"
      ]
     },
     "execution_count": 9,
     "metadata": {},
     "output_type": "execute_result"
    }
   ],
   "source": [
    "s_array = np.array(sales)\n",
    "p_array = np.array(profit)\n",
    "print(s_array)\n",
    "print(p_array)\n",
    "p_array/s_array"
   ]
  },
  {
   "cell_type": "code",
   "execution_count": 10,
   "metadata": {},
   "outputs": [
    {
     "name": "stdout",
     "output_type": "stream",
     "text": [
      "Time taken by list  operation\n",
      "32.289981842041016\n",
      "Time taken by array  operation\n",
      "3.5610198974609375\n"
     ]
    }
   ],
   "source": [
    "size = 10000\n",
    "l1 = range(size)\n",
    "l2 = range(size)\n",
    "\n",
    "a1 = np.array(l1)\n",
    "a2 = np.array(l2)\n",
    "\n",
    "import time \n",
    "start = time.time()\n",
    "result = [(x,y) for x,y in zip(l1,l2)]\n",
    "print('Time taken by list  operation')\n",
    "print((time.time()-start)*1000)\n",
    "\n",
    "start = time.time()\n",
    "result = a1 + a2\n",
    "print('Time taken by array  operation')\n",
    "print((time.time()-start)*1000)"
   ]
  },
  {
   "cell_type": "code",
   "execution_count": 13,
   "metadata": {},
   "outputs": [],
   "source": [
    "sales_us = [4322,3445,4444,3344]\n",
    "sales_eu = [5433,5443,3333,2323]\n",
    "sales_jp = [3322,2222,2322,2322]"
   ]
  },
  {
   "cell_type": "code",
   "execution_count": 15,
   "metadata": {},
   "outputs": [
    {
     "data": {
      "text/plain": [
       "array([[4322, 3445, 4444, 3344],\n",
       "       [5433, 5443, 3333, 2323],\n",
       "       [3322, 2222, 2322, 2322]])"
      ]
     },
     "execution_count": 15,
     "metadata": {},
     "output_type": "execute_result"
    }
   ],
   "source": [
    "sales_matrix = np.array([sales_us,sales_eu,sales_jp])\n",
    "sales_matrix"
   ]
  },
  {
   "cell_type": "code",
   "execution_count": 17,
   "metadata": {},
   "outputs": [
    {
     "data": {
      "text/plain": [
       "2322"
      ]
     },
     "execution_count": 17,
     "metadata": {},
     "output_type": "execute_result"
    }
   ],
   "source": [
    "sales_matrix[2,2]"
   ]
  },
  {
   "cell_type": "code",
   "execution_count": 18,
   "metadata": {},
   "outputs": [],
   "source": [
    "profit_us = [343,434,433,232]\n",
    "profit_eu = [5433,5443,3333,2323]\n",
    "profit_jp = [3322,2222,2322,2322]"
   ]
  },
  {
   "cell_type": "code",
   "execution_count": 19,
   "metadata": {},
   "outputs": [],
   "source": [
    "profit_matrix = np.array([profit_us,profit_eu,profit_jp])"
   ]
  },
  {
   "cell_type": "code",
   "execution_count": 20,
   "metadata": {},
   "outputs": [
    {
     "data": {
      "text/plain": [
       "array([[0.1, 0.1, 0.1, 0.1],\n",
       "       [1. , 1. , 1. , 1. ],\n",
       "       [1. , 1. , 1. , 1. ]])"
      ]
     },
     "execution_count": 20,
     "metadata": {},
     "output_type": "execute_result"
    }
   ],
   "source": [
    "np.round(profit_matrix/sales_matrix,1)"
   ]
  },
  {
   "cell_type": "code",
   "execution_count": null,
   "metadata": {},
   "outputs": [],
   "source": []
  }
 ],
 "metadata": {
  "kernelspec": {
   "display_name": "Python 3",
   "language": "python",
   "name": "python3"
  },
  "language_info": {
   "codemirror_mode": {
    "name": "ipython",
    "version": 3
   },
   "file_extension": ".py",
   "mimetype": "text/x-python",
   "name": "python",
   "nbconvert_exporter": "python",
   "pygments_lexer": "ipython3",
   "version": "3.8.3"
  }
 },
 "nbformat": 4,
 "nbformat_minor": 4
}
