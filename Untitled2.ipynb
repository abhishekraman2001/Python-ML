{
 "cells": [
  {
   "cell_type": "code",
   "execution_count": 4,
   "metadata": {},
   "outputs": [
    {
     "name": "stdout",
     "output_type": "stream",
     "text": [
      "input string: message\n",
      "key: b'IBqAmNBf9RI4ZSEu_exh6VQ-XMiwRcRf2UO7xlCbquY=', type: <class 'bytes'>\n",
      "encrypted: b'gAAAAABfd5tuVgE_rXNJ245SgA09XNlsQD68-hM22FQACQ3_OSnX4wop0grKTdTF_AB-BchxqMnIAmGXgaQ2xPCBvdNkW7Z4_g=='\n",
      "decrypted: message\n"
     ]
    }
   ],
   "source": [
    "from cryptography.fernet import Fernet as frt\n",
    "\n",
    "key=frt.generate_key()\n",
    "s = \"message\"\n",
    "print('input string: {0}'.format(s))\n",
    "#key=base64.b64encode(key) #no need to do this\n",
    "print('key: {0}, type: {1}'.format(key, type(key)))\n",
    "f=frt(key)\n",
    "token = f.encrypt(s.encode('utf-8')) #need to convert the string to bytes\n",
    "print ('encrypted: {0}'.format(token))\n",
    "output = f.decrypt(token)\n",
    "output_decoded = output.decode('utf-8')\n",
    "print ('decrypted: {0}'.format(output_decoded))"
   ]
  },
  {
   "cell_type": "code",
   "execution_count": 2,
   "metadata": {},
   "outputs": [
    {
     "name": "stdout",
     "output_type": "stream",
     "text": [
      "Requirement already satisfied: cryptography in c:\\users\\abhis\\anaconda3\\lib\\site-packages (2.9.2)\n",
      "Requirement already satisfied: six>=1.4.1 in c:\\users\\abhis\\anaconda3\\lib\\site-packages (from cryptography) (1.15.0)\n",
      "Requirement already satisfied: cffi!=1.11.3,>=1.8 in c:\\users\\abhis\\anaconda3\\lib\\site-packages (from cryptography) (1.14.0)\n",
      "Requirement already satisfied: pycparser in c:\\users\\abhis\\anaconda3\\lib\\site-packages (from cffi!=1.11.3,>=1.8->cryptography) (2.20)\n",
      "Note: you may need to restart the kernel to use updated packages.\n"
     ]
    }
   ],
   "source": [
    "pip install cryptography"
   ]
  },
  {
   "cell_type": "code",
   "execution_count": null,
   "metadata": {},
   "outputs": [],
   "source": []
  }
 ],
 "metadata": {
  "kernelspec": {
   "display_name": "Python 3",
   "language": "python",
   "name": "python3"
  },
  "language_info": {
   "codemirror_mode": {
    "name": "ipython",
    "version": 3
   },
   "file_extension": ".py",
   "mimetype": "text/x-python",
   "name": "python",
   "nbconvert_exporter": "python",
   "pygments_lexer": "ipython3",
   "version": "3.8.3"
  }
 },
 "nbformat": 4,
 "nbformat_minor": 4
}
